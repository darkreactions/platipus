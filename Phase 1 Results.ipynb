{
 "cells": [
  {
   "cell_type": "markdown",
   "metadata": {},
   "source": [
    "### Phase 1 Results"
   ]
  },
  {
   "cell_type": "markdown",
   "metadata": {},
   "source": [
    "Category 3: Historical Data only"
   ]
  },
  {
   "cell_type": "code",
   "execution_count": 12,
   "metadata": {},
   "outputs": [],
   "source": [
    "import plotly.graph_objects as go\n",
    "from pathlib import Path \n",
    "import pickle\n",
    "from utils import find_avg_metrics"
   ]
  },
  {
   "cell_type": "code",
   "execution_count": 66,
   "metadata": {},
   "outputs": [],
   "source": [
    "stats_dict_path = Path('./results/cv_statistics.pkl')\n",
    "stats_dict = pickle.load(open(stats_dict_path, 'rb'))\n",
    "avg_stats = find_avg_metrics(stats_dict, stats_dict.keys())\n",
    "model_colors = {'KNN': 'blue', 'SVM':'red', 'Decision_Tree':'green', \n",
    "                'Random_Forest':'yellow', 'Logistic_Regression': 'purple', \n",
    "                'Gradient_Boosting':'orange', 'Platipus':'black'}"
   ]
  },
  {
   "cell_type": "code",
   "execution_count": 78,
   "metadata": {},
   "outputs": [
    {
     "data": {
      "application/vnd.plotly.v1+json": {
       "config": {
        "plotlyServerURL": "https://plot.ly"
       },
       "data": [
        {
         "line": {
          "color": "black"
         },
         "marker": {
          "size": 15,
          "symbol": 4
         },
         "mode": "lines+markers",
         "name": "Platipus",
         "type": "scatter",
         "x": [
          0,
          1,
          2,
          3,
          4,
          5,
          6,
          7,
          8,
          9,
          10,
          11,
          12,
          13,
          14,
          15,
          16,
          17,
          18,
          19
         ],
         "y": [
          0.6960884634541741,
          0.7171728754621246,
          0.7260407361874579,
          0.7462361628218076,
          0.7511345210487383,
          0.7588419633226617,
          0.7693542523250789,
          0.781762306025497,
          0.783470078198795,
          0.8149601301207299,
          0.8282188926540235,
          0.8259852222726701,
          0.8245292926510894,
          0.8289926654782697,
          0.8518006663416526,
          0.8600578555119073,
          0.8808624583650897,
          0.8844029759448173,
          0.897016249161922,
          0.8971601231925542
         ]
        },
        {
         "line": {
          "color": "blue"
         },
         "marker": {
          "size": 15,
          "symbol": 0
         },
         "mode": "lines+markers",
         "name": "KNN_historical_amine_AL",
         "type": "scatter",
         "x": [
          0,
          1,
          2,
          3,
          4,
          5,
          6,
          7,
          8,
          9,
          10
         ],
         "y": [
          0.6662355630804403,
          0.6675869687051306,
          0.6831867959008812,
          0.7102144036270183,
          0.7044659509065797,
          0.7131313877855978,
          0.7140318446779352,
          0.7094519830740519,
          0.7254920515075955,
          0.7293861850729401,
          0.7330284712025082
         ]
        },
        {
         "line": {
          "color": "blue"
         },
         "marker": {
          "size": 15,
          "symbol": 4
         },
         "mode": "lines+markers",
         "name": "KNN_amine_only_AL",
         "type": "scatter",
         "x": [
          0,
          1,
          2,
          3,
          4,
          5,
          6,
          7,
          8,
          9,
          10
         ],
         "y": [
          0.6330450374084411,
          0.6327551211588678,
          0.6500853363266049,
          0.6597921314704954,
          0.6546126822236309,
          0.6613334457591737,
          0.6600754942431027,
          0.6604665473761658,
          0.6739972361318872,
          0.6874931390921689,
          0.6948751948435317
         ]
        },
        {
         "line": {
          "color": "red"
         },
         "marker": {
          "size": 15,
          "symbol": 0
         },
         "mode": "lines+markers",
         "name": "SVM_historical_amine_AL",
         "type": "scatter",
         "x": [
          0,
          1,
          2,
          3,
          4,
          5,
          6,
          7,
          8,
          9,
          10
         ],
         "y": [
          0.4874728569026097,
          0.45541253815598665,
          0.4408970130075643,
          0.4372336810649908,
          0.4408379972015554,
          0.43349923650420774,
          0.4595790662263362,
          0.4827994396818412,
          0.46370014782036195,
          0.5017288118959186,
          0.44974774675165874
         ]
        },
        {
         "line": {
          "color": "green"
         },
         "marker": {
          "size": 15,
          "symbol": 0
         },
         "mode": "lines+markers",
         "name": "Decision_Tree_historical_amine_AL",
         "type": "scatter",
         "x": [
          0,
          1,
          2,
          3,
          4,
          5,
          6,
          7,
          8,
          9,
          10
         ],
         "y": [
          0.6234123035442897,
          0.6486438641133994,
          0.6507442592054754,
          0.6700599456892701,
          0.669331035259054,
          0.6744830893749488,
          0.7076990800113495,
          0.6991408895557639,
          0.7291598281138639,
          0.7153766473952676,
          0.7401530276262808
         ]
        },
        {
         "line": {
          "color": "green"
         },
         "marker": {
          "size": 15,
          "symbol": 4
         },
         "mode": "lines+markers",
         "name": "Decision_Tree_amine_only_AL",
         "type": "scatter",
         "x": [
          0,
          1,
          2,
          3,
          4,
          5,
          6,
          7,
          8,
          9,
          10
         ],
         "y": [
          0.630819550497583,
          0.6585524302921832,
          0.6317377096324771,
          0.6481957890994211,
          0.652115598140025,
          0.6806142972119377,
          0.6912717547903374,
          0.6978001246394491,
          0.6957109932895403,
          0.7135953815307609,
          0.7191222734812821
         ]
        },
        {
         "line": {
          "color": "yellow"
         },
         "marker": {
          "size": 15,
          "symbol": 0
         },
         "mode": "lines+markers",
         "name": "Random_Forest_historical_amine_AL",
         "type": "scatter",
         "x": [
          0,
          1,
          2,
          3,
          4,
          5,
          6,
          7,
          8,
          9,
          10
         ],
         "y": [
          0.5919313825797803,
          0.5813226489762074,
          0.5938732617897307,
          0.6184161912671879,
          0.6195711219164316,
          0.6576945964924488,
          0.6554167633235161,
          0.656466960361971,
          0.6621852205571046,
          0.6724920144157874,
          0.682572861502115
         ]
        },
        {
         "line": {
          "color": "yellow"
         },
         "marker": {
          "size": 15,
          "symbol": 4
         },
         "mode": "lines+markers",
         "name": "Random_Forest_amine_only_AL",
         "type": "scatter",
         "x": [
          0,
          1,
          2,
          3,
          4,
          5,
          6,
          7,
          8,
          9,
          10
         ],
         "y": [
          0.5451414912736301,
          0.5707802897829896,
          0.6059892470690686,
          0.6051385432285918,
          0.6122481496309614,
          0.6295635867958732,
          0.6399147095576504,
          0.6367315542310186,
          0.6409443935077541,
          0.6468922858836703,
          0.6618428706968712
         ]
        },
        {
         "line": {
          "color": "purple"
         },
         "marker": {
          "size": 15,
          "symbol": 0
         },
         "mode": "lines+markers",
         "name": "Logistic_Regression_historical_amine_AL",
         "type": "scatter",
         "x": [
          0,
          1,
          2,
          3,
          4,
          5,
          6,
          7,
          8,
          9,
          10
         ],
         "y": [
          0.5745276111433097,
          0.584398945231143,
          0.5940009797215547,
          0.6320129709028705,
          0.6275957380486178,
          0.625421232435831,
          0.619303055124794,
          0.6194256931816221,
          0.6269886485771415,
          0.6212515751427693,
          0.6303555274353287
         ]
        },
        {
         "line": {
          "color": "purple"
         },
         "marker": {
          "size": 15,
          "symbol": 4
         },
         "mode": "lines+markers",
         "name": "Logistic_Regression_amine_only_AL_with_success",
         "type": "scatter",
         "x": [
          0,
          1,
          2,
          3,
          4,
          5,
          6,
          7,
          8,
          9,
          10
         ],
         "y": [
          0.7323115598957212,
          0.7298126211336798,
          0.7318156395038536,
          0.7375480262447717,
          0.7034077434249738,
          0.6879711287746938,
          0.6525253823861595,
          0.6570424299535896,
          0.6612675809389013,
          0.65801937760563,
          0.661791961371846
         ]
        },
        {
         "line": {
          "color": "orange"
         },
         "marker": {
          "size": 15,
          "symbol": 0
         },
         "mode": "lines+markers",
         "name": "Gradient_Boosting_historical_amine_AL",
         "type": "scatter",
         "x": [
          0,
          1,
          2,
          3,
          4,
          5,
          6,
          7,
          8,
          9,
          10
         ],
         "y": [
          0.5991782850351847,
          0.6462295942523002,
          0.6648548137719718,
          0.6647892023507154,
          0.6786000664241261,
          0.6472318795027172,
          0.6888053909805244,
          0.6779828690609884,
          0.6942504142697192,
          0.7027030122168864,
          0.7392061109739309
         ]
        },
        {
         "line": {
          "color": "orange"
         },
         "marker": {
          "size": 15,
          "symbol": 4
         },
         "mode": "lines+markers",
         "name": "Gradient_Boosting_amine_only_AL_with_success",
         "type": "scatter",
         "x": [
          0,
          1,
          2,
          3,
          4,
          5,
          6,
          7,
          8,
          9,
          10
         ],
         "y": [
          0.7840986501630621,
          0.7781722972046194,
          0.7740976536965523,
          0.7621400325191754,
          0.7865492463182392,
          0.8127696823781732,
          0.8084842336534375,
          0.7934549224637614,
          0.8025826177108651,
          0.7962688738247308,
          0.8169498203966515
         ]
        }
       ],
       "layout": {
        "autosize": false,
        "height": 1000,
        "margin": {
         "b": 100,
         "l": 50,
         "pad": 4,
         "r": 50,
         "t": 100
        },
        "template": {
         "data": {
          "bar": [
           {
            "error_x": {
             "color": "#2a3f5f"
            },
            "error_y": {
             "color": "#2a3f5f"
            },
            "marker": {
             "line": {
              "color": "#E5ECF6",
              "width": 0.5
             }
            },
            "type": "bar"
           }
          ],
          "barpolar": [
           {
            "marker": {
             "line": {
              "color": "#E5ECF6",
              "width": 0.5
             }
            },
            "type": "barpolar"
           }
          ],
          "carpet": [
           {
            "aaxis": {
             "endlinecolor": "#2a3f5f",
             "gridcolor": "white",
             "linecolor": "white",
             "minorgridcolor": "white",
             "startlinecolor": "#2a3f5f"
            },
            "baxis": {
             "endlinecolor": "#2a3f5f",
             "gridcolor": "white",
             "linecolor": "white",
             "minorgridcolor": "white",
             "startlinecolor": "#2a3f5f"
            },
            "type": "carpet"
           }
          ],
          "choropleth": [
           {
            "colorbar": {
             "outlinewidth": 0,
             "ticks": ""
            },
            "type": "choropleth"
           }
          ],
          "contour": [
           {
            "colorbar": {
             "outlinewidth": 0,
             "ticks": ""
            },
            "colorscale": [
             [
              0,
              "#0d0887"
             ],
             [
              0.1111111111111111,
              "#46039f"
             ],
             [
              0.2222222222222222,
              "#7201a8"
             ],
             [
              0.3333333333333333,
              "#9c179e"
             ],
             [
              0.4444444444444444,
              "#bd3786"
             ],
             [
              0.5555555555555556,
              "#d8576b"
             ],
             [
              0.6666666666666666,
              "#ed7953"
             ],
             [
              0.7777777777777778,
              "#fb9f3a"
             ],
             [
              0.8888888888888888,
              "#fdca26"
             ],
             [
              1,
              "#f0f921"
             ]
            ],
            "type": "contour"
           }
          ],
          "contourcarpet": [
           {
            "colorbar": {
             "outlinewidth": 0,
             "ticks": ""
            },
            "type": "contourcarpet"
           }
          ],
          "heatmap": [
           {
            "colorbar": {
             "outlinewidth": 0,
             "ticks": ""
            },
            "colorscale": [
             [
              0,
              "#0d0887"
             ],
             [
              0.1111111111111111,
              "#46039f"
             ],
             [
              0.2222222222222222,
              "#7201a8"
             ],
             [
              0.3333333333333333,
              "#9c179e"
             ],
             [
              0.4444444444444444,
              "#bd3786"
             ],
             [
              0.5555555555555556,
              "#d8576b"
             ],
             [
              0.6666666666666666,
              "#ed7953"
             ],
             [
              0.7777777777777778,
              "#fb9f3a"
             ],
             [
              0.8888888888888888,
              "#fdca26"
             ],
             [
              1,
              "#f0f921"
             ]
            ],
            "type": "heatmap"
           }
          ],
          "heatmapgl": [
           {
            "colorbar": {
             "outlinewidth": 0,
             "ticks": ""
            },
            "colorscale": [
             [
              0,
              "#0d0887"
             ],
             [
              0.1111111111111111,
              "#46039f"
             ],
             [
              0.2222222222222222,
              "#7201a8"
             ],
             [
              0.3333333333333333,
              "#9c179e"
             ],
             [
              0.4444444444444444,
              "#bd3786"
             ],
             [
              0.5555555555555556,
              "#d8576b"
             ],
             [
              0.6666666666666666,
              "#ed7953"
             ],
             [
              0.7777777777777778,
              "#fb9f3a"
             ],
             [
              0.8888888888888888,
              "#fdca26"
             ],
             [
              1,
              "#f0f921"
             ]
            ],
            "type": "heatmapgl"
           }
          ],
          "histogram": [
           {
            "marker": {
             "colorbar": {
              "outlinewidth": 0,
              "ticks": ""
             }
            },
            "type": "histogram"
           }
          ],
          "histogram2d": [
           {
            "colorbar": {
             "outlinewidth": 0,
             "ticks": ""
            },
            "colorscale": [
             [
              0,
              "#0d0887"
             ],
             [
              0.1111111111111111,
              "#46039f"
             ],
             [
              0.2222222222222222,
              "#7201a8"
             ],
             [
              0.3333333333333333,
              "#9c179e"
             ],
             [
              0.4444444444444444,
              "#bd3786"
             ],
             [
              0.5555555555555556,
              "#d8576b"
             ],
             [
              0.6666666666666666,
              "#ed7953"
             ],
             [
              0.7777777777777778,
              "#fb9f3a"
             ],
             [
              0.8888888888888888,
              "#fdca26"
             ],
             [
              1,
              "#f0f921"
             ]
            ],
            "type": "histogram2d"
           }
          ],
          "histogram2dcontour": [
           {
            "colorbar": {
             "outlinewidth": 0,
             "ticks": ""
            },
            "colorscale": [
             [
              0,
              "#0d0887"
             ],
             [
              0.1111111111111111,
              "#46039f"
             ],
             [
              0.2222222222222222,
              "#7201a8"
             ],
             [
              0.3333333333333333,
              "#9c179e"
             ],
             [
              0.4444444444444444,
              "#bd3786"
             ],
             [
              0.5555555555555556,
              "#d8576b"
             ],
             [
              0.6666666666666666,
              "#ed7953"
             ],
             [
              0.7777777777777778,
              "#fb9f3a"
             ],
             [
              0.8888888888888888,
              "#fdca26"
             ],
             [
              1,
              "#f0f921"
             ]
            ],
            "type": "histogram2dcontour"
           }
          ],
          "mesh3d": [
           {
            "colorbar": {
             "outlinewidth": 0,
             "ticks": ""
            },
            "type": "mesh3d"
           }
          ],
          "parcoords": [
           {
            "line": {
             "colorbar": {
              "outlinewidth": 0,
              "ticks": ""
             }
            },
            "type": "parcoords"
           }
          ],
          "pie": [
           {
            "automargin": true,
            "type": "pie"
           }
          ],
          "scatter": [
           {
            "marker": {
             "colorbar": {
              "outlinewidth": 0,
              "ticks": ""
             }
            },
            "type": "scatter"
           }
          ],
          "scatter3d": [
           {
            "line": {
             "colorbar": {
              "outlinewidth": 0,
              "ticks": ""
             }
            },
            "marker": {
             "colorbar": {
              "outlinewidth": 0,
              "ticks": ""
             }
            },
            "type": "scatter3d"
           }
          ],
          "scattercarpet": [
           {
            "marker": {
             "colorbar": {
              "outlinewidth": 0,
              "ticks": ""
             }
            },
            "type": "scattercarpet"
           }
          ],
          "scattergeo": [
           {
            "marker": {
             "colorbar": {
              "outlinewidth": 0,
              "ticks": ""
             }
            },
            "type": "scattergeo"
           }
          ],
          "scattergl": [
           {
            "marker": {
             "colorbar": {
              "outlinewidth": 0,
              "ticks": ""
             }
            },
            "type": "scattergl"
           }
          ],
          "scattermapbox": [
           {
            "marker": {
             "colorbar": {
              "outlinewidth": 0,
              "ticks": ""
             }
            },
            "type": "scattermapbox"
           }
          ],
          "scatterpolar": [
           {
            "marker": {
             "colorbar": {
              "outlinewidth": 0,
              "ticks": ""
             }
            },
            "type": "scatterpolar"
           }
          ],
          "scatterpolargl": [
           {
            "marker": {
             "colorbar": {
              "outlinewidth": 0,
              "ticks": ""
             }
            },
            "type": "scatterpolargl"
           }
          ],
          "scatterternary": [
           {
            "marker": {
             "colorbar": {
              "outlinewidth": 0,
              "ticks": ""
             }
            },
            "type": "scatterternary"
           }
          ],
          "surface": [
           {
            "colorbar": {
             "outlinewidth": 0,
             "ticks": ""
            },
            "colorscale": [
             [
              0,
              "#0d0887"
             ],
             [
              0.1111111111111111,
              "#46039f"
             ],
             [
              0.2222222222222222,
              "#7201a8"
             ],
             [
              0.3333333333333333,
              "#9c179e"
             ],
             [
              0.4444444444444444,
              "#bd3786"
             ],
             [
              0.5555555555555556,
              "#d8576b"
             ],
             [
              0.6666666666666666,
              "#ed7953"
             ],
             [
              0.7777777777777778,
              "#fb9f3a"
             ],
             [
              0.8888888888888888,
              "#fdca26"
             ],
             [
              1,
              "#f0f921"
             ]
            ],
            "type": "surface"
           }
          ],
          "table": [
           {
            "cells": {
             "fill": {
              "color": "#EBF0F8"
             },
             "line": {
              "color": "white"
             }
            },
            "header": {
             "fill": {
              "color": "#C8D4E3"
             },
             "line": {
              "color": "white"
             }
            },
            "type": "table"
           }
          ]
         },
         "layout": {
          "annotationdefaults": {
           "arrowcolor": "#2a3f5f",
           "arrowhead": 0,
           "arrowwidth": 1
          },
          "coloraxis": {
           "colorbar": {
            "outlinewidth": 0,
            "ticks": ""
           }
          },
          "colorscale": {
           "diverging": [
            [
             0,
             "#8e0152"
            ],
            [
             0.1,
             "#c51b7d"
            ],
            [
             0.2,
             "#de77ae"
            ],
            [
             0.3,
             "#f1b6da"
            ],
            [
             0.4,
             "#fde0ef"
            ],
            [
             0.5,
             "#f7f7f7"
            ],
            [
             0.6,
             "#e6f5d0"
            ],
            [
             0.7,
             "#b8e186"
            ],
            [
             0.8,
             "#7fbc41"
            ],
            [
             0.9,
             "#4d9221"
            ],
            [
             1,
             "#276419"
            ]
           ],
           "sequential": [
            [
             0,
             "#0d0887"
            ],
            [
             0.1111111111111111,
             "#46039f"
            ],
            [
             0.2222222222222222,
             "#7201a8"
            ],
            [
             0.3333333333333333,
             "#9c179e"
            ],
            [
             0.4444444444444444,
             "#bd3786"
            ],
            [
             0.5555555555555556,
             "#d8576b"
            ],
            [
             0.6666666666666666,
             "#ed7953"
            ],
            [
             0.7777777777777778,
             "#fb9f3a"
            ],
            [
             0.8888888888888888,
             "#fdca26"
            ],
            [
             1,
             "#f0f921"
            ]
           ],
           "sequentialminus": [
            [
             0,
             "#0d0887"
            ],
            [
             0.1111111111111111,
             "#46039f"
            ],
            [
             0.2222222222222222,
             "#7201a8"
            ],
            [
             0.3333333333333333,
             "#9c179e"
            ],
            [
             0.4444444444444444,
             "#bd3786"
            ],
            [
             0.5555555555555556,
             "#d8576b"
            ],
            [
             0.6666666666666666,
             "#ed7953"
            ],
            [
             0.7777777777777778,
             "#fb9f3a"
            ],
            [
             0.8888888888888888,
             "#fdca26"
            ],
            [
             1,
             "#f0f921"
            ]
           ]
          },
          "colorway": [
           "#636efa",
           "#EF553B",
           "#00cc96",
           "#ab63fa",
           "#FFA15A",
           "#19d3f3",
           "#FF6692",
           "#B6E880",
           "#FF97FF",
           "#FECB52"
          ],
          "font": {
           "color": "#2a3f5f"
          },
          "geo": {
           "bgcolor": "white",
           "lakecolor": "white",
           "landcolor": "#E5ECF6",
           "showlakes": true,
           "showland": true,
           "subunitcolor": "white"
          },
          "hoverlabel": {
           "align": "left"
          },
          "hovermode": "closest",
          "mapbox": {
           "style": "light"
          },
          "paper_bgcolor": "white",
          "plot_bgcolor": "#E5ECF6",
          "polar": {
           "angularaxis": {
            "gridcolor": "white",
            "linecolor": "white",
            "ticks": ""
           },
           "bgcolor": "#E5ECF6",
           "radialaxis": {
            "gridcolor": "white",
            "linecolor": "white",
            "ticks": ""
           }
          },
          "scene": {
           "xaxis": {
            "backgroundcolor": "#E5ECF6",
            "gridcolor": "white",
            "gridwidth": 2,
            "linecolor": "white",
            "showbackground": true,
            "ticks": "",
            "zerolinecolor": "white"
           },
           "yaxis": {
            "backgroundcolor": "#E5ECF6",
            "gridcolor": "white",
            "gridwidth": 2,
            "linecolor": "white",
            "showbackground": true,
            "ticks": "",
            "zerolinecolor": "white"
           },
           "zaxis": {
            "backgroundcolor": "#E5ECF6",
            "gridcolor": "white",
            "gridwidth": 2,
            "linecolor": "white",
            "showbackground": true,
            "ticks": "",
            "zerolinecolor": "white"
           }
          },
          "shapedefaults": {
           "line": {
            "color": "#2a3f5f"
           }
          },
          "ternary": {
           "aaxis": {
            "gridcolor": "white",
            "linecolor": "white",
            "ticks": ""
           },
           "baxis": {
            "gridcolor": "white",
            "linecolor": "white",
            "ticks": ""
           },
           "bgcolor": "#E5ECF6",
           "caxis": {
            "gridcolor": "white",
            "linecolor": "white",
            "ticks": ""
           }
          },
          "title": {
           "x": 0.05
          },
          "xaxis": {
           "automargin": true,
           "gridcolor": "white",
           "linecolor": "white",
           "ticks": "",
           "title": {
            "standoff": 15
           },
           "zerolinecolor": "white",
           "zerolinewidth": 2
          },
          "yaxis": {
           "automargin": true,
           "gridcolor": "white",
           "linecolor": "white",
           "ticks": "",
           "title": {
            "standoff": 15
           },
           "zerolinecolor": "white",
           "zerolinewidth": 2
          }
         }
        },
        "width": 1700
       }
      }
     },
     "metadata": {},
     "output_type": "display_data"
    }
   ],
   "source": [
    "metric = 'bcrs'\n",
    "fig = go.Figure()\n",
    "\n",
    "plat_data = pickle.load(open('./results/best_platipus.pkl', 'rb'))\n",
    "avg = [0 for i in range(20)]\n",
    "for amine in plat_data:\n",
    "    for i in range(20):\n",
    "        avg[i] += plat_data[amine][metric][i]\n",
    "for i in range(len(avg)):\n",
    "    avg[i] = avg[i]/len(plat_data)\n",
    "# metric = 'recalls'\n",
    "trace = go.Scatter(x=[i for i in range(len(avg))], y=avg, \n",
    "                           mode='lines+markers', name='Platipus', \n",
    "                           marker_symbol=4,\n",
    "                           marker_size=15, line=dict(color=model_colors['Platipus']))\n",
    "fig.add_trace(trace)\n",
    "\n",
    "lines = []\n",
    "for model in avg_stats.keys():\n",
    "    num_examples = [i for i in range(len(avg_stats[model]['accuracies']))]\n",
    "    for m in model_colors:\n",
    "        if m in model:\n",
    "            color = model_colors[m]\n",
    "    if len(num_examples) > 1:\n",
    "        trace = go.Scatter(x=num_examples, y=avg_stats[model]['bcrs'], \n",
    "                           mode='lines+markers', name=model, \n",
    "                           marker_symbol=0 if 'historical' in model else 4,\n",
    "                           marker_size=15, line=dict(color=color))\n",
    "        fig.add_trace(trace)\n",
    "fig.update_layout(\n",
    "    autosize=False,\n",
    "    width=1700,\n",
    "    height=1000,\n",
    "    margin=dict(\n",
    "        l=50,\n",
    "        r=50,\n",
    "        b=100,\n",
    "        t=100,\n",
    "        pad=4\n",
    "    ),\n",
    ")\n",
    "fig.show()"
   ]
  },
  {
   "cell_type": "code",
   "execution_count": 75,
   "metadata": {
    "tags": []
   },
   "outputs": [
    {
     "data": {
      "application/vnd.plotly.v1+json": {
       "config": {
        "plotlyServerURL": "https://plot.ly"
       },
       "data": [
        {
         "marker": {
          "color": [
           "blue",
           "blue",
           "blue",
           "red",
           "red",
           "green",
           "green",
           "green",
           "yellow",
           "yellow",
           "yellow",
           "purple",
           "purple",
           "purple",
           "orange",
           "orange",
           "orange"
          ]
         },
         "type": "bar",
         "x": [
          "KNN_historical_only",
          "KNN_historical_amine",
          "KNN_amine_only",
          "SVM_historical_only",
          "SVM_historical_amine",
          "Decision_Tree_historical_only",
          "Decision_Tree_historical_amine",
          "Decision_Tree_amine_only",
          "Random_Forest_historical_only",
          "Random_Forest_historical_amine",
          "Random_Forest_amine_only",
          "Logistic_Regression_historical_only",
          "Logistic_Regression_historical_amine",
          "Logistic_Regression_amine_only_with_success",
          "Gradient_Boosting_historical_only",
          "Gradient_Boosting_historical_amine",
          "Gradient_Boosting_amine_only_with_success"
         ],
         "y": [
          0.45534908412198155,
          0.5174944733849816,
          0.26218209925200203,
          0.8680555555555556,
          0.4393582306261776,
          0.8965909090909091,
          0.553664503134097,
          0.4813225015329865,
          0.4640570740134034,
          0.20620540497759593,
          0.22297068215724875,
          0.1239406779661017,
          0.2381715520506653,
          0.4629480094319831,
          0.13068181818181818,
          0.3078154789730334,
          0.7309674073162645
         ]
        }
       ],
       "layout": {
        "autosize": false,
        "height": 1000,
        "margin": {
         "b": 100,
         "l": 50,
         "pad": 4,
         "r": 50,
         "t": 100
        },
        "template": {
         "data": {
          "bar": [
           {
            "error_x": {
             "color": "#2a3f5f"
            },
            "error_y": {
             "color": "#2a3f5f"
            },
            "marker": {
             "line": {
              "color": "#E5ECF6",
              "width": 0.5
             }
            },
            "type": "bar"
           }
          ],
          "barpolar": [
           {
            "marker": {
             "line": {
              "color": "#E5ECF6",
              "width": 0.5
             }
            },
            "type": "barpolar"
           }
          ],
          "carpet": [
           {
            "aaxis": {
             "endlinecolor": "#2a3f5f",
             "gridcolor": "white",
             "linecolor": "white",
             "minorgridcolor": "white",
             "startlinecolor": "#2a3f5f"
            },
            "baxis": {
             "endlinecolor": "#2a3f5f",
             "gridcolor": "white",
             "linecolor": "white",
             "minorgridcolor": "white",
             "startlinecolor": "#2a3f5f"
            },
            "type": "carpet"
           }
          ],
          "choropleth": [
           {
            "colorbar": {
             "outlinewidth": 0,
             "ticks": ""
            },
            "type": "choropleth"
           }
          ],
          "contour": [
           {
            "colorbar": {
             "outlinewidth": 0,
             "ticks": ""
            },
            "colorscale": [
             [
              0,
              "#0d0887"
             ],
             [
              0.1111111111111111,
              "#46039f"
             ],
             [
              0.2222222222222222,
              "#7201a8"
             ],
             [
              0.3333333333333333,
              "#9c179e"
             ],
             [
              0.4444444444444444,
              "#bd3786"
             ],
             [
              0.5555555555555556,
              "#d8576b"
             ],
             [
              0.6666666666666666,
              "#ed7953"
             ],
             [
              0.7777777777777778,
              "#fb9f3a"
             ],
             [
              0.8888888888888888,
              "#fdca26"
             ],
             [
              1,
              "#f0f921"
             ]
            ],
            "type": "contour"
           }
          ],
          "contourcarpet": [
           {
            "colorbar": {
             "outlinewidth": 0,
             "ticks": ""
            },
            "type": "contourcarpet"
           }
          ],
          "heatmap": [
           {
            "colorbar": {
             "outlinewidth": 0,
             "ticks": ""
            },
            "colorscale": [
             [
              0,
              "#0d0887"
             ],
             [
              0.1111111111111111,
              "#46039f"
             ],
             [
              0.2222222222222222,
              "#7201a8"
             ],
             [
              0.3333333333333333,
              "#9c179e"
             ],
             [
              0.4444444444444444,
              "#bd3786"
             ],
             [
              0.5555555555555556,
              "#d8576b"
             ],
             [
              0.6666666666666666,
              "#ed7953"
             ],
             [
              0.7777777777777778,
              "#fb9f3a"
             ],
             [
              0.8888888888888888,
              "#fdca26"
             ],
             [
              1,
              "#f0f921"
             ]
            ],
            "type": "heatmap"
           }
          ],
          "heatmapgl": [
           {
            "colorbar": {
             "outlinewidth": 0,
             "ticks": ""
            },
            "colorscale": [
             [
              0,
              "#0d0887"
             ],
             [
              0.1111111111111111,
              "#46039f"
             ],
             [
              0.2222222222222222,
              "#7201a8"
             ],
             [
              0.3333333333333333,
              "#9c179e"
             ],
             [
              0.4444444444444444,
              "#bd3786"
             ],
             [
              0.5555555555555556,
              "#d8576b"
             ],
             [
              0.6666666666666666,
              "#ed7953"
             ],
             [
              0.7777777777777778,
              "#fb9f3a"
             ],
             [
              0.8888888888888888,
              "#fdca26"
             ],
             [
              1,
              "#f0f921"
             ]
            ],
            "type": "heatmapgl"
           }
          ],
          "histogram": [
           {
            "marker": {
             "colorbar": {
              "outlinewidth": 0,
              "ticks": ""
             }
            },
            "type": "histogram"
           }
          ],
          "histogram2d": [
           {
            "colorbar": {
             "outlinewidth": 0,
             "ticks": ""
            },
            "colorscale": [
             [
              0,
              "#0d0887"
             ],
             [
              0.1111111111111111,
              "#46039f"
             ],
             [
              0.2222222222222222,
              "#7201a8"
             ],
             [
              0.3333333333333333,
              "#9c179e"
             ],
             [
              0.4444444444444444,
              "#bd3786"
             ],
             [
              0.5555555555555556,
              "#d8576b"
             ],
             [
              0.6666666666666666,
              "#ed7953"
             ],
             [
              0.7777777777777778,
              "#fb9f3a"
             ],
             [
              0.8888888888888888,
              "#fdca26"
             ],
             [
              1,
              "#f0f921"
             ]
            ],
            "type": "histogram2d"
           }
          ],
          "histogram2dcontour": [
           {
            "colorbar": {
             "outlinewidth": 0,
             "ticks": ""
            },
            "colorscale": [
             [
              0,
              "#0d0887"
             ],
             [
              0.1111111111111111,
              "#46039f"
             ],
             [
              0.2222222222222222,
              "#7201a8"
             ],
             [
              0.3333333333333333,
              "#9c179e"
             ],
             [
              0.4444444444444444,
              "#bd3786"
             ],
             [
              0.5555555555555556,
              "#d8576b"
             ],
             [
              0.6666666666666666,
              "#ed7953"
             ],
             [
              0.7777777777777778,
              "#fb9f3a"
             ],
             [
              0.8888888888888888,
              "#fdca26"
             ],
             [
              1,
              "#f0f921"
             ]
            ],
            "type": "histogram2dcontour"
           }
          ],
          "mesh3d": [
           {
            "colorbar": {
             "outlinewidth": 0,
             "ticks": ""
            },
            "type": "mesh3d"
           }
          ],
          "parcoords": [
           {
            "line": {
             "colorbar": {
              "outlinewidth": 0,
              "ticks": ""
             }
            },
            "type": "parcoords"
           }
          ],
          "pie": [
           {
            "automargin": true,
            "type": "pie"
           }
          ],
          "scatter": [
           {
            "marker": {
             "colorbar": {
              "outlinewidth": 0,
              "ticks": ""
             }
            },
            "type": "scatter"
           }
          ],
          "scatter3d": [
           {
            "line": {
             "colorbar": {
              "outlinewidth": 0,
              "ticks": ""
             }
            },
            "marker": {
             "colorbar": {
              "outlinewidth": 0,
              "ticks": ""
             }
            },
            "type": "scatter3d"
           }
          ],
          "scattercarpet": [
           {
            "marker": {
             "colorbar": {
              "outlinewidth": 0,
              "ticks": ""
             }
            },
            "type": "scattercarpet"
           }
          ],
          "scattergeo": [
           {
            "marker": {
             "colorbar": {
              "outlinewidth": 0,
              "ticks": ""
             }
            },
            "type": "scattergeo"
           }
          ],
          "scattergl": [
           {
            "marker": {
             "colorbar": {
              "outlinewidth": 0,
              "ticks": ""
             }
            },
            "type": "scattergl"
           }
          ],
          "scattermapbox": [
           {
            "marker": {
             "colorbar": {
              "outlinewidth": 0,
              "ticks": ""
             }
            },
            "type": "scattermapbox"
           }
          ],
          "scatterpolar": [
           {
            "marker": {
             "colorbar": {
              "outlinewidth": 0,
              "ticks": ""
             }
            },
            "type": "scatterpolar"
           }
          ],
          "scatterpolargl": [
           {
            "marker": {
             "colorbar": {
              "outlinewidth": 0,
              "ticks": ""
             }
            },
            "type": "scatterpolargl"
           }
          ],
          "scatterternary": [
           {
            "marker": {
             "colorbar": {
              "outlinewidth": 0,
              "ticks": ""
             }
            },
            "type": "scatterternary"
           }
          ],
          "surface": [
           {
            "colorbar": {
             "outlinewidth": 0,
             "ticks": ""
            },
            "colorscale": [
             [
              0,
              "#0d0887"
             ],
             [
              0.1111111111111111,
              "#46039f"
             ],
             [
              0.2222222222222222,
              "#7201a8"
             ],
             [
              0.3333333333333333,
              "#9c179e"
             ],
             [
              0.4444444444444444,
              "#bd3786"
             ],
             [
              0.5555555555555556,
              "#d8576b"
             ],
             [
              0.6666666666666666,
              "#ed7953"
             ],
             [
              0.7777777777777778,
              "#fb9f3a"
             ],
             [
              0.8888888888888888,
              "#fdca26"
             ],
             [
              1,
              "#f0f921"
             ]
            ],
            "type": "surface"
           }
          ],
          "table": [
           {
            "cells": {
             "fill": {
              "color": "#EBF0F8"
             },
             "line": {
              "color": "white"
             }
            },
            "header": {
             "fill": {
              "color": "#C8D4E3"
             },
             "line": {
              "color": "white"
             }
            },
            "type": "table"
           }
          ]
         },
         "layout": {
          "annotationdefaults": {
           "arrowcolor": "#2a3f5f",
           "arrowhead": 0,
           "arrowwidth": 1
          },
          "coloraxis": {
           "colorbar": {
            "outlinewidth": 0,
            "ticks": ""
           }
          },
          "colorscale": {
           "diverging": [
            [
             0,
             "#8e0152"
            ],
            [
             0.1,
             "#c51b7d"
            ],
            [
             0.2,
             "#de77ae"
            ],
            [
             0.3,
             "#f1b6da"
            ],
            [
             0.4,
             "#fde0ef"
            ],
            [
             0.5,
             "#f7f7f7"
            ],
            [
             0.6,
             "#e6f5d0"
            ],
            [
             0.7,
             "#b8e186"
            ],
            [
             0.8,
             "#7fbc41"
            ],
            [
             0.9,
             "#4d9221"
            ],
            [
             1,
             "#276419"
            ]
           ],
           "sequential": [
            [
             0,
             "#0d0887"
            ],
            [
             0.1111111111111111,
             "#46039f"
            ],
            [
             0.2222222222222222,
             "#7201a8"
            ],
            [
             0.3333333333333333,
             "#9c179e"
            ],
            [
             0.4444444444444444,
             "#bd3786"
            ],
            [
             0.5555555555555556,
             "#d8576b"
            ],
            [
             0.6666666666666666,
             "#ed7953"
            ],
            [
             0.7777777777777778,
             "#fb9f3a"
            ],
            [
             0.8888888888888888,
             "#fdca26"
            ],
            [
             1,
             "#f0f921"
            ]
           ],
           "sequentialminus": [
            [
             0,
             "#0d0887"
            ],
            [
             0.1111111111111111,
             "#46039f"
            ],
            [
             0.2222222222222222,
             "#7201a8"
            ],
            [
             0.3333333333333333,
             "#9c179e"
            ],
            [
             0.4444444444444444,
             "#bd3786"
            ],
            [
             0.5555555555555556,
             "#d8576b"
            ],
            [
             0.6666666666666666,
             "#ed7953"
            ],
            [
             0.7777777777777778,
             "#fb9f3a"
            ],
            [
             0.8888888888888888,
             "#fdca26"
            ],
            [
             1,
             "#f0f921"
            ]
           ]
          },
          "colorway": [
           "#636efa",
           "#EF553B",
           "#00cc96",
           "#ab63fa",
           "#FFA15A",
           "#19d3f3",
           "#FF6692",
           "#B6E880",
           "#FF97FF",
           "#FECB52"
          ],
          "font": {
           "color": "#2a3f5f"
          },
          "geo": {
           "bgcolor": "white",
           "lakecolor": "white",
           "landcolor": "#E5ECF6",
           "showlakes": true,
           "showland": true,
           "subunitcolor": "white"
          },
          "hoverlabel": {
           "align": "left"
          },
          "hovermode": "closest",
          "mapbox": {
           "style": "light"
          },
          "paper_bgcolor": "white",
          "plot_bgcolor": "#E5ECF6",
          "polar": {
           "angularaxis": {
            "gridcolor": "white",
            "linecolor": "white",
            "ticks": ""
           },
           "bgcolor": "#E5ECF6",
           "radialaxis": {
            "gridcolor": "white",
            "linecolor": "white",
            "ticks": ""
           }
          },
          "scene": {
           "xaxis": {
            "backgroundcolor": "#E5ECF6",
            "gridcolor": "white",
            "gridwidth": 2,
            "linecolor": "white",
            "showbackground": true,
            "ticks": "",
            "zerolinecolor": "white"
           },
           "yaxis": {
            "backgroundcolor": "#E5ECF6",
            "gridcolor": "white",
            "gridwidth": 2,
            "linecolor": "white",
            "showbackground": true,
            "ticks": "",
            "zerolinecolor": "white"
           },
           "zaxis": {
            "backgroundcolor": "#E5ECF6",
            "gridcolor": "white",
            "gridwidth": 2,
            "linecolor": "white",
            "showbackground": true,
            "ticks": "",
            "zerolinecolor": "white"
           }
          },
          "shapedefaults": {
           "line": {
            "color": "#2a3f5f"
           }
          },
          "ternary": {
           "aaxis": {
            "gridcolor": "white",
            "linecolor": "white",
            "ticks": ""
           },
           "baxis": {
            "gridcolor": "white",
            "linecolor": "white",
            "ticks": ""
           },
           "bgcolor": "#E5ECF6",
           "caxis": {
            "gridcolor": "white",
            "linecolor": "white",
            "ticks": ""
           }
          },
          "title": {
           "x": 0.05
          },
          "xaxis": {
           "automargin": true,
           "gridcolor": "white",
           "linecolor": "white",
           "ticks": "",
           "title": {
            "standoff": 15
           },
           "zerolinecolor": "white",
           "zerolinewidth": 2
          },
          "yaxis": {
           "automargin": true,
           "gridcolor": "white",
           "linecolor": "white",
           "ticks": "",
           "title": {
            "standoff": 15
           },
           "zerolinecolor": "white",
           "zerolinewidth": 2
          }
         }
        },
        "width": 1700
       }
      }
     },
     "metadata": {},
     "output_type": "display_data"
    }
   ],
   "source": [
    "fig = go.Figure()\n",
    "model_names = []\n",
    "values = []\n",
    "bar_colors = []\n",
    "for model in avg_stats.keys():\n",
    "    num_examples = [i for i in range(len(avg_stats[model]['accuracies']))]\n",
    "    if len(num_examples) == 1:\n",
    "        model_names.append(model)\n",
    "        values.append(avg_stats[model]['recalls'][0])\n",
    "        for m in model_colors:\n",
    "            if m in model:\n",
    "                bar_colors.append(model_colors[m])\n",
    "\n",
    "trace = go.Bar(x=model_names, y=values, marker_color=bar_colors)\n",
    "fig.add_trace(trace)\n",
    "fig.update_layout(\n",
    "    autosize=False,\n",
    "    width=1700,\n",
    "    height=1000,\n",
    "    margin=dict(\n",
    "        l=50,\n",
    "        r=50,\n",
    "        b=100,\n",
    "        t=100,\n",
    "        pad=4\n",
    "    ),\n",
    ")\n",
    "fig.show()"
   ]
  },
  {
   "cell_type": "code",
   "execution_count": 50,
   "metadata": {
    "tags": []
   },
   "outputs": [
    {
     "name": "stdout",
     "output_type": "stream",
     "text": [
      "[0.6960884634541741, 0.7171728754621246, 0.7260407361874579, 0.7462361628218076, 0.7511345210487383, 0.7588419633226617, 0.7693542523250789, 0.781762306025497, 0.783470078198795, 0.8149601301207299]\n"
     ]
    }
   ],
   "source": [
    "plat_data = pickle.load(open('./results/best_platipus.pkl', 'rb'))\n",
    "metric = 'bcrs'\n",
    "avg = [0 for i in range(10)]\n",
    "for amine in plat_data:\n",
    "    for i in range(10):\n",
    "        avg[i] += plat_data[amine][metric][i]\n",
    "for i in range(len(avg)):\n",
    "    avg[i] = avg[i]/len(plat_data)\n",
    "print(avg)"
   ]
  },
  {
   "cell_type": "code",
   "execution_count": 59,
   "metadata": {},
   "outputs": [
    {
     "data": {
      "text/plain": [
       "dict_keys(['corrects', 'accuracies', 'confusion_matrices', 'precisions', 'recalls', 'bcrs', 'prob_pred', 'recall'])"
      ]
     },
     "execution_count": 59,
     "metadata": {},
     "output_type": "execute_result"
    }
   ],
   "source": [
    "plat_data['BAMDIFIROXTEEM-UHFFFAOYSA-N'].keys()"
   ]
  },
  {
   "cell_type": "code",
   "execution_count": 1,
   "metadata": {},
   "outputs": [],
   "source": [
    "import pickle\n",
    "results = pickle.load(open('./results/knn_results.pkl', 'rb'))"
   ]
  },
  {
   "cell_type": "code",
   "execution_count": 2,
   "metadata": {},
   "outputs": [],
   "source": [
    "from utils.result_class import Results"
   ]
  },
  {
   "cell_type": "code",
   "execution_count": 3,
   "metadata": {
    "tags": []
   },
   "outputs": [],
   "source": [
    "h_res = []\n",
    "hkx_res = []\n",
    "kx_res = []\n",
    "for res in results:\n",
    "    if res.category == 'H':\n",
    "        h_res.append(res)\n",
    "    elif res.category =='Hkx':\n",
    "        hkx_res.append(res)\n",
    "    elif res.category =='kx':\n",
    "        kx_res.append(res)\n",
    "    else:\n",
    "        print(f'Invalid category {res.category}')"
   ]
  },
  {
   "cell_type": "code",
   "execution_count": 10,
   "metadata": {
    "tags": []
   },
   "outputs": [
    {
     "name": "stdout",
     "output_type": "stream",
     "text": [
      "{'n_neighbors': 1, 'leaf_size': 1, 'p': 2} 0.9682539682539683\n"
     ]
    }
   ],
   "source": [
    "max_res_val = 0\n",
    "max_res = None\n",
    "for res in kx_res:\n",
    "    avg_bcr = res.get_avg('bcr')\n",
    "    \n",
    "    if avg_bcr > max_res_val:\n",
    "        max_res_val = avg_bcr\n",
    "        max_res = res\n",
    "print(max_res.model_setting, max_res_val)"
   ]
  },
  {
   "cell_type": "code",
   "execution_count": 1,
   "metadata": {},
   "outputs": [],
   "source": [
    "import pandas as pd"
   ]
  },
  {
   "cell_type": "code",
   "execution_count": 11,
   "metadata": {},
   "outputs": [
    {
     "data": {
      "text/plain": [
       "Index(['Unnamed: 0', 'Reagent1 (ul)', 'Reagent2 (ul)', 'Reagent3 (ul)',\n",
       "       'Reagent4 (ul)', 'Reagent5 (ul)', 'Reagent6 (ul)', 'Reagent7 (ul)',\n",
       "       'Reagent8 (ul)', 'Reagent9 (ul)', '_rxn_M_inorganic', '_rxn_M_organic',\n",
       "       '_rxn_M_acid', '_rxn_organic-inchikey', '_rxn_mixingtime1S',\n",
       "       '_rxn_mixingtime2S', '_rxn_reactiontimeS', '_rxn_stirrateRPM',\n",
       "       '_rxn_temperatureC', '_raw_inchikey', '_raw_smiles', '_raw_molweight',\n",
       "       '_raw_smiles_standard', '_feat_AtomCount_C', '_feat_AtomCount_N',\n",
       "       '_feat_AvgPol', '_feat_MolPol', '_feat_Refractivity', '_feat_bpKa1',\n",
       "       '_feat_atoms', '_feat_AliphaticRingCount', '_feat_AromaticRingCount',\n",
       "       '_feat_Aliphatic AtomCount', '_feat_AromaticAtomCount',\n",
       "       '_feat_BondCount', '_feat_CarboaliphaticRingCount',\n",
       "       '_feat_CarboaromaticRingCount', '_feat_CarboRingCount',\n",
       "       '_feat_ChainAtomCount', '_feat_ChiralCenterCount',\n",
       "       '_feat_RingAtomCount', '_feat_SmallestRingSize',\n",
       "       '_feat_LargestRingSize', '_feat_fsp3', '_feat_HeteroaliphaticRingCount',\n",
       "       '_feat_HeteroaromaticRing Count', '_feat_RotatableBondCount',\n",
       "       '_feat_BalabanIndex', '_feat_CyclomaticNumber',\n",
       "       '_feat_HyperWienerIndex', '_feat_WienerIndex', '_feat_WienerPolarity',\n",
       "       '_feat_MinimalProjectionArea', '_feat_MaximalProjectionArea',\n",
       "       '_feat_MinimalProjectionRadius', '_feat_MaximalProjectionRadius',\n",
       "       '_feat_LengthPerpendicularToTheMinArea',\n",
       "       '_feat_LengthPerpendicularToTheMaxArea', '_feat_VanderWaalsVolume',\n",
       "       '_feat_VanderWaalsSurfaceArea', '_feat_ASA', '_feat_ASA+', '_feat_ASA-',\n",
       "       '_feat_ASA_H', '_feat_ASA_P', '_feat_PolarSurfaceArea',\n",
       "       '_feat_acceptorcount', '_feat_Accsitecount', '_feat_donorcount',\n",
       "       '_feat_donsitecount', '_feat_fr_NH2', '_feat_fr_NH1', '_feat_fr_NH0',\n",
       "       '_feat_fr_quatN', '_feat_fr_ArN', '_feat_fr_Ar_NH', 'fr_Imine',\n",
       "       'fr_amidine', '_feat_fr_dihydropyridine', '_feat_fr_guanido',\n",
       "       '_feat_fr_piperdine', '_feat_fr_piperzine', '_feat_fr_pyridine'],\n",
       "      dtype='object')"
      ]
     },
     "execution_count": 11,
     "metadata": {},
     "output_type": "execute_result"
    }
   ],
   "source": [
    "df = pd.read_csv('./data/phase3/Me2NH2I/Me2NH2I_10uL_stateset.link.csv')\n",
    "df.columns"
   ]
  },
  {
   "cell_type": "code",
   "execution_count": 13,
   "metadata": {},
   "outputs": [],
   "source": [
    "df = df.dropna(axis=1, how='all')\n",
    "columns = ['Unnamed: 0', 'Reagent4 (ul)', 'Reagent5 (ul)', 'Reagent6 (ul)', 'Reagent8 (ul)', 'Reagent9 (ul)']\n",
    "df = df.drop(labels=columns, axis=1)"
   ]
  },
  {
   "cell_type": "code",
   "execution_count": 15,
   "metadata": {},
   "outputs": [],
   "source": [
    "df.to_csv('Me2NH2I_10uL_stateset.csv')"
   ]
  },
  {
   "cell_type": "code",
   "execution_count": 16,
   "metadata": {},
   "outputs": [],
   "source": [
    "df = pd.read_csv('./data/phase3/Me2NH2I/Me2NH2I_50uL_stateset.link.csv')\n",
    "df = df.dropna(axis=1, how='all')\n",
    "columns = ['Unnamed: 0', 'Reagent4 (ul)', 'Reagent5 (ul)', 'Reagent6 (ul)', 'Reagent8 (ul)', 'Reagent9 (ul)']\n",
    "df = df.drop(labels=columns, axis=1)\n",
    "df.to_csv('Me2NH2I_50uL_stateset.csv')"
   ]
  },
  {
   "cell_type": "code",
   "execution_count": 56,
   "metadata": {
    "tags": []
   },
   "outputs": [],
   "source": [
    "from pathlib import Path\n",
    "base_folder = Path('/Volumes/GoogleDrive/My Drive/DARPA SD2 Perovskites/Dissemination/Publications/RAPID_2_Data/Reaction_capture/Reaction_Images/MA_338_NNDiethylpropane13diammoniumiodide/MZ_341_1_DMF')\n"
   ]
  },
  {
   "cell_type": "code",
   "execution_count": 57,
   "metadata": {},
   "outputs": [
    {
     "name": "stdout",
     "output_type": "stream",
     "text": [
      "/Volumes/GoogleDrive/My Drive/DARPA SD2 Perovskites/Dissemination/Publications/RAPID_2_Data/Reaction_capture/Reaction_Images/MA_338_NNDiethylpropane13diammoniumiodide/MZ_341_1_DMF\n",
      "True\n"
     ]
    }
   ],
   "source": [
    "print(base_folder)\n",
    "print(base_folder.exists())\n",
    "wrong_filenames = [path for path in base_folder.glob('MZ 341_1*')]"
   ]
  },
  {
   "cell_type": "code",
   "execution_count": 58,
   "metadata": {},
   "outputs": [
    {
     "name": "stdout",
     "output_type": "stream",
     "text": [
      "/Volumes/GoogleDrive/My Drive/DARPA SD2 Perovskites/Dissemination/Publications/RAPID_2_Data/Reaction_capture/Reaction_Images/MA_338_NNDiethylpropane13diammoniumiodide/MZ_341_1_DMF/MZ 341_120201009-142932-138.tif\n"
     ]
    },
    {
     "data": {
      "text/plain": [
       "PosixPath('/Volumes/GoogleDrive/My Drive/DARPA SD2 Perovskites/Dissemination/Publications/RAPID_2_Data/Reaction_capture/Reaction_Images/MA_338_NNDiethylpropane13diammoniumiodide/MZ_341_1_DMF/20201009-142932-138.tif')"
      ]
     },
     "execution_count": 58,
     "metadata": {},
     "output_type": "execute_result"
    }
   ],
   "source": [
    "print(wrong_filenames[0])\n",
    "right_name = Path(wrong_filenames[0].parent, wrong_filenames[0].name[8:])\n",
    "right_name"
   ]
  },
  {
   "cell_type": "code",
   "execution_count": 59,
   "metadata": {},
   "outputs": [],
   "source": [
    "for wrong_name in wrong_filenames:\n",
    "    right_name = Path(wrong_name.parent, wrong_name.name[8:])\n",
    "    wrong_name.rename(right_name)"
   ]
  },
  {
   "cell_type": "code",
   "execution_count": 23,
   "metadata": {},
   "outputs": [],
   "source": [
    "import pickle\n",
    "from utils.dataset_class import DataSet, Setting\n",
    "\n",
    "dataset = pickle.load(open('./data/full_frozen_dataset.pkl', 'rb'))"
   ]
  },
  {
   "cell_type": "code",
   "execution_count": 7,
   "metadata": {},
   "outputs": [],
   "source": [
    "data = dataset.get_dataset('Hkx', 0, 'random')"
   ]
  },
  {
   "cell_type": "code",
   "execution_count": 10,
   "metadata": {},
   "outputs": [
    {
     "data": {
      "text/plain": [
       "dict_keys(['x_t', 'y_t', 'x_v', 'y_v', 'x_vk', 'y_vk'])"
      ]
     },
     "execution_count": 10,
     "metadata": {},
     "output_type": "execute_result"
    }
   ],
   "source": [
    "data['FJFIJIDZQADKEE-UHFFFAOYSA-N'].keys()"
   ]
  },
  {
   "cell_type": "code",
   "execution_count": 29,
   "metadata": {},
   "outputs": [],
   "source": [
    "from pathlib import Path\n",
    "import numpy as np\n",
    "category = 'H'\n",
    "selection = 'random'\n",
    "\n",
    "for set_id in range(5):\n",
    "    data = dataset.get_dataset(category, set_id, selection)\n",
    "    base_path = Path(f'./data/phase1/csv/{category}/draw_{set_id}/{selection}')\n",
    "    for amine in data.keys():\n",
    "        amine_path = base_path / Path(amine)\n",
    "        amine_path.mkdir(exist_ok=True, parents=True)\n",
    "        for dataset_name in data[amine]:\n",
    "            datasplit = data[amine][dataset_name]\n",
    "            file_path = amine_path / Path(f\"{dataset_name}.csv\")\n",
    "            np.savetxt(file_path, datasplit, delimiter=\",\")"
   ]
  },
  {
   "cell_type": "code",
   "execution_count": null,
   "metadata": {},
   "outputs": [],
   "source": []
  }
 ],
 "metadata": {
  "hide_input": false,
  "kernelspec": {
   "display_name": "Python 3.7.4 64-bit ('nextgen': conda)",
   "language": "python",
   "name": "python37464bitnextgenconda63957ce9bd7747d59c962194584a8d15"
  },
  "language_info": {
   "codemirror_mode": {
    "name": "ipython",
    "version": 3
   },
   "file_extension": ".py",
   "mimetype": "text/x-python",
   "name": "python",
   "nbconvert_exporter": "python",
   "pygments_lexer": "ipython3",
   "version": "3.7.4"
  }
 },
 "nbformat": 4,
 "nbformat_minor": 2
}
