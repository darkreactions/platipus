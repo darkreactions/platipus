{
 "metadata": {
  "language_info": {
   "codemirror_mode": {
    "name": "ipython",
    "version": 3
   },
   "file_extension": ".py",
   "mimetype": "text/x-python",
   "name": "python",
   "nbconvert_exporter": "python",
   "pygments_lexer": "ipython3",
   "version": "3.7.3-final"
  },
  "orig_nbformat": 2,
  "kernelspec": {
   "name": "Python 3.7.3 64-bit ('base': conda)",
   "display_name": "Python 3.7.3 64-bit ('base': conda)",
   "metadata": {
    "interpreter": {
     "hash": "71dd66e42d539d733787b510264ee90acda07a5251b886271ab29aee933d7a57"
    }
   }
  }
 },
 "nbformat": 4,
 "nbformat_minor": 2,
 "cells": [
  {
   "cell_type": "code",
   "execution_count": 19,
   "metadata": {},
   "outputs": [],
   "source": [
    "import pandas as pd\n",
    "full_df = pd.read_csv('./data/0057.perovskitedata_DRPFeatures_2020-07-02.csv')"
   ]
  },
  {
   "cell_type": "code",
   "execution_count": 27,
   "metadata": {},
   "outputs": [
    {
     "output_type": "stream",
     "name": "stdout",
     "text": [
      "0.9132075471698113\n0.08679245283018867\n"
     ]
    },
    {
     "output_type": "display_data",
     "data": {
      "text/plain": "<Figure size 432x288 with 1 Axes>",
      "image/svg+xml": "<?xml version=\"1.0\" encoding=\"utf-8\" standalone=\"no\"?>\n<!DOCTYPE svg PUBLIC \"-//W3C//DTD SVG 1.1//EN\"\n  \"http://www.w3.org/Graphics/SVG/1.1/DTD/svg11.dtd\">\n<!-- Created with matplotlib (https://matplotlib.org/) -->\n<svg height=\"248.7025pt\" version=\"1.1\" viewBox=\"0 0 385.15 248.7025\" width=\"385.15pt\" xmlns=\"http://www.w3.org/2000/svg\" xmlns:xlink=\"http://www.w3.org/1999/xlink\">\n <defs>\n  <style type=\"text/css\">\n*{stroke-linecap:butt;stroke-linejoin:round;}\n  </style>\n </defs>\n <g id=\"figure_1\">\n  <g id=\"patch_1\">\n   <path d=\"M -0 248.7025 \nL 385.15 248.7025 \nL 385.15 0 \nL -0 0 \nz\n\" style=\"fill:none;\"/>\n  </g>\n  <g id=\"axes_1\">\n   <g id=\"patch_2\">\n    <path d=\"M 39.65 228.14 \nL 374.45 228.14 \nL 374.45 10.7 \nL 39.65 10.7 \nz\n\" style=\"fill:#ffffff;\"/>\n   </g>\n   <g id=\"patch_3\">\n    <path clip-path=\"url(#p6b35ab605b)\" d=\"M 81.5 228.14 \nL 165.2 228.14 \nL 165.2 21.054286 \nL 81.5 21.054286 \nz\n\" style=\"fill:#1f77b4;\"/>\n   </g>\n   <g id=\"patch_4\">\n    <path clip-path=\"url(#p6b35ab605b)\" d=\"M 248.9 228.14 \nL 332.6 228.14 \nL 332.6 208.4583 \nL 248.9 208.4583 \nz\n\" style=\"fill:#1f77b4;\"/>\n   </g>\n   <g id=\"matplotlib.axis_1\">\n    <g id=\"xtick_1\">\n     <g id=\"line2d_1\">\n      <defs>\n       <path d=\"M 0 0 \nL 0 3.5 \n\" id=\"ma2ee05e752\" style=\"stroke:#000000;stroke-width:0.8;\"/>\n      </defs>\n      <g>\n       <use style=\"stroke:#000000;stroke-width:0.8;\" x=\"123.35\" xlink:href=\"#ma2ee05e752\" y=\"228.14\"/>\n      </g>\n     </g>\n     <g id=\"text_1\">\n      <!-- 0 -->\n      <defs>\n       <path d=\"M 31.78125 66.40625 \nQ 24.171875 66.40625 20.328125 58.90625 \nQ 16.5 51.421875 16.5 36.375 \nQ 16.5 21.390625 20.328125 13.890625 \nQ 24.171875 6.390625 31.78125 6.390625 \nQ 39.453125 6.390625 43.28125 13.890625 \nQ 47.125 21.390625 47.125 36.375 \nQ 47.125 51.421875 43.28125 58.90625 \nQ 39.453125 66.40625 31.78125 66.40625 \nz\nM 31.78125 74.21875 \nQ 44.046875 74.21875 50.515625 64.515625 \nQ 56.984375 54.828125 56.984375 36.375 \nQ 56.984375 17.96875 50.515625 8.265625 \nQ 44.046875 -1.421875 31.78125 -1.421875 \nQ 19.53125 -1.421875 13.0625 8.265625 \nQ 6.59375 17.96875 6.59375 36.375 \nQ 6.59375 54.828125 13.0625 64.515625 \nQ 19.53125 74.21875 31.78125 74.21875 \nz\n\" id=\"DejaVuSans-48\"/>\n      </defs>\n      <g transform=\"translate(126.109375 241.5025)rotate(-90)scale(0.1 -0.1)\">\n       <use xlink:href=\"#DejaVuSans-48\"/>\n      </g>\n     </g>\n    </g>\n    <g id=\"xtick_2\">\n     <g id=\"line2d_2\">\n      <g>\n       <use style=\"stroke:#000000;stroke-width:0.8;\" x=\"290.75\" xlink:href=\"#ma2ee05e752\" y=\"228.14\"/>\n      </g>\n     </g>\n     <g id=\"text_2\">\n      <!-- 1 -->\n      <defs>\n       <path d=\"M 12.40625 8.296875 \nL 28.515625 8.296875 \nL 28.515625 63.921875 \nL 10.984375 60.40625 \nL 10.984375 69.390625 \nL 28.421875 72.90625 \nL 38.28125 72.90625 \nL 38.28125 8.296875 \nL 54.390625 8.296875 \nL 54.390625 0 \nL 12.40625 0 \nz\n\" id=\"DejaVuSans-49\"/>\n      </defs>\n      <g transform=\"translate(293.509375 241.5025)rotate(-90)scale(0.1 -0.1)\">\n       <use xlink:href=\"#DejaVuSans-49\"/>\n      </g>\n     </g>\n    </g>\n   </g>\n   <g id=\"matplotlib.axis_2\">\n    <g id=\"ytick_1\">\n     <g id=\"line2d_3\">\n      <defs>\n       <path d=\"M 0 0 \nL -3.5 0 \n\" id=\"mda405fd9c4\" style=\"stroke:#000000;stroke-width:0.8;\"/>\n      </defs>\n      <g>\n       <use style=\"stroke:#000000;stroke-width:0.8;\" x=\"39.65\" xlink:href=\"#mda405fd9c4\" y=\"228.14\"/>\n      </g>\n     </g>\n     <g id=\"text_3\">\n      <!-- 0 -->\n      <g transform=\"translate(26.2875 231.939219)scale(0.1 -0.1)\">\n       <use xlink:href=\"#DejaVuSans-48\"/>\n      </g>\n     </g>\n    </g>\n    <g id=\"ytick_2\">\n     <g id=\"line2d_4\">\n      <g>\n       <use style=\"stroke:#000000;stroke-width:0.8;\" x=\"39.65\" xlink:href=\"#mda405fd9c4\" y=\"189.243359\"/>\n      </g>\n     </g>\n     <g id=\"text_4\">\n      <!-- 500 -->\n      <defs>\n       <path d=\"M 10.796875 72.90625 \nL 49.515625 72.90625 \nL 49.515625 64.59375 \nL 19.828125 64.59375 \nL 19.828125 46.734375 \nQ 21.96875 47.46875 24.109375 47.828125 \nQ 26.265625 48.1875 28.421875 48.1875 \nQ 40.625 48.1875 47.75 41.5 \nQ 54.890625 34.8125 54.890625 23.390625 \nQ 54.890625 11.625 47.5625 5.09375 \nQ 40.234375 -1.421875 26.90625 -1.421875 \nQ 22.3125 -1.421875 17.546875 -0.640625 \nQ 12.796875 0.140625 7.71875 1.703125 \nL 7.71875 11.625 \nQ 12.109375 9.234375 16.796875 8.0625 \nQ 21.484375 6.890625 26.703125 6.890625 \nQ 35.15625 6.890625 40.078125 11.328125 \nQ 45.015625 15.765625 45.015625 23.390625 \nQ 45.015625 31 40.078125 35.4375 \nQ 35.15625 39.890625 26.703125 39.890625 \nQ 22.75 39.890625 18.8125 39.015625 \nQ 14.890625 38.140625 10.796875 36.28125 \nz\n\" id=\"DejaVuSans-53\"/>\n      </defs>\n      <g transform=\"translate(13.5625 193.042578)scale(0.1 -0.1)\">\n       <use xlink:href=\"#DejaVuSans-53\"/>\n       <use x=\"63.623047\" xlink:href=\"#DejaVuSans-48\"/>\n       <use x=\"127.246094\" xlink:href=\"#DejaVuSans-48\"/>\n      </g>\n     </g>\n    </g>\n    <g id=\"ytick_3\">\n     <g id=\"line2d_5\">\n      <g>\n       <use style=\"stroke:#000000;stroke-width:0.8;\" x=\"39.65\" xlink:href=\"#mda405fd9c4\" y=\"150.346719\"/>\n      </g>\n     </g>\n     <g id=\"text_5\">\n      <!-- 1000 -->\n      <g transform=\"translate(7.2 154.145938)scale(0.1 -0.1)\">\n       <use xlink:href=\"#DejaVuSans-49\"/>\n       <use x=\"63.623047\" xlink:href=\"#DejaVuSans-48\"/>\n       <use x=\"127.246094\" xlink:href=\"#DejaVuSans-48\"/>\n       <use x=\"190.869141\" xlink:href=\"#DejaVuSans-48\"/>\n      </g>\n     </g>\n    </g>\n    <g id=\"ytick_4\">\n     <g id=\"line2d_6\">\n      <g>\n       <use style=\"stroke:#000000;stroke-width:0.8;\" x=\"39.65\" xlink:href=\"#mda405fd9c4\" y=\"111.450078\"/>\n      </g>\n     </g>\n     <g id=\"text_6\">\n      <!-- 1500 -->\n      <g transform=\"translate(7.2 115.249297)scale(0.1 -0.1)\">\n       <use xlink:href=\"#DejaVuSans-49\"/>\n       <use x=\"63.623047\" xlink:href=\"#DejaVuSans-53\"/>\n       <use x=\"127.246094\" xlink:href=\"#DejaVuSans-48\"/>\n       <use x=\"190.869141\" xlink:href=\"#DejaVuSans-48\"/>\n      </g>\n     </g>\n    </g>\n    <g id=\"ytick_5\">\n     <g id=\"line2d_7\">\n      <g>\n       <use style=\"stroke:#000000;stroke-width:0.8;\" x=\"39.65\" xlink:href=\"#mda405fd9c4\" y=\"72.553438\"/>\n      </g>\n     </g>\n     <g id=\"text_7\">\n      <!-- 2000 -->\n      <defs>\n       <path d=\"M 19.1875 8.296875 \nL 53.609375 8.296875 \nL 53.609375 0 \nL 7.328125 0 \nL 7.328125 8.296875 \nQ 12.9375 14.109375 22.625 23.890625 \nQ 32.328125 33.6875 34.8125 36.53125 \nQ 39.546875 41.84375 41.421875 45.53125 \nQ 43.3125 49.21875 43.3125 52.78125 \nQ 43.3125 58.59375 39.234375 62.25 \nQ 35.15625 65.921875 28.609375 65.921875 \nQ 23.96875 65.921875 18.8125 64.3125 \nQ 13.671875 62.703125 7.8125 59.421875 \nL 7.8125 69.390625 \nQ 13.765625 71.78125 18.9375 73 \nQ 24.125 74.21875 28.421875 74.21875 \nQ 39.75 74.21875 46.484375 68.546875 \nQ 53.21875 62.890625 53.21875 53.421875 \nQ 53.21875 48.921875 51.53125 44.890625 \nQ 49.859375 40.875 45.40625 35.40625 \nQ 44.1875 33.984375 37.640625 27.21875 \nQ 31.109375 20.453125 19.1875 8.296875 \nz\n\" id=\"DejaVuSans-50\"/>\n      </defs>\n      <g transform=\"translate(7.2 76.352657)scale(0.1 -0.1)\">\n       <use xlink:href=\"#DejaVuSans-50\"/>\n       <use x=\"63.623047\" xlink:href=\"#DejaVuSans-48\"/>\n       <use x=\"127.246094\" xlink:href=\"#DejaVuSans-48\"/>\n       <use x=\"190.869141\" xlink:href=\"#DejaVuSans-48\"/>\n      </g>\n     </g>\n    </g>\n    <g id=\"ytick_6\">\n     <g id=\"line2d_8\">\n      <g>\n       <use style=\"stroke:#000000;stroke-width:0.8;\" x=\"39.65\" xlink:href=\"#mda405fd9c4\" y=\"33.656797\"/>\n      </g>\n     </g>\n     <g id=\"text_8\">\n      <!-- 2500 -->\n      <g transform=\"translate(7.2 37.456016)scale(0.1 -0.1)\">\n       <use xlink:href=\"#DejaVuSans-50\"/>\n       <use x=\"63.623047\" xlink:href=\"#DejaVuSans-53\"/>\n       <use x=\"127.246094\" xlink:href=\"#DejaVuSans-48\"/>\n       <use x=\"190.869141\" xlink:href=\"#DejaVuSans-48\"/>\n      </g>\n     </g>\n    </g>\n   </g>\n   <g id=\"patch_5\">\n    <path d=\"M 39.65 228.14 \nL 39.65 10.7 \n\" style=\"fill:none;stroke:#000000;stroke-linecap:square;stroke-linejoin:miter;stroke-width:0.8;\"/>\n   </g>\n   <g id=\"patch_6\">\n    <path d=\"M 374.45 228.14 \nL 374.45 10.7 \n\" style=\"fill:none;stroke:#000000;stroke-linecap:square;stroke-linejoin:miter;stroke-width:0.8;\"/>\n   </g>\n   <g id=\"patch_7\">\n    <path d=\"M 39.65 228.14 \nL 374.45 228.14 \n\" style=\"fill:none;stroke:#000000;stroke-linecap:square;stroke-linejoin:miter;stroke-width:0.8;\"/>\n   </g>\n   <g id=\"patch_8\">\n    <path d=\"M 39.65 10.7 \nL 374.45 10.7 \n\" style=\"fill:none;stroke:#000000;stroke-linecap:square;stroke-linejoin:miter;stroke-width:0.8;\"/>\n   </g>\n  </g>\n </g>\n <defs>\n  <clipPath id=\"p6b35ab605b\">\n   <rect height=\"217.44\" width=\"334.8\" x=\"39.65\" y=\"10.7\"/>\n  </clipPath>\n </defs>\n</svg>\n",
      "image/png": "[encoded data removed]"
     },
     "metadata": {
      "needs_background": "light"
     }
    }
   ],
   "source": [
    "distribution_header = '_raw_modelname'\n",
    "amine_header = '_rxn_organic-inchikey'\n",
    "score_header = '_out_crystalscore'\n",
    "viable_amines = ['ZEVRFFCPALTVDN-UHFFFAOYSA-N',\n",
    "                              'KFQARYBEAKAXIC-UHFFFAOYSA-N',\n",
    "                              'NLJDBTZLVTWXRG-UHFFFAOYSA-N',\n",
    "                              'LCTUISCIGMWMAT-UHFFFAOYSA-N',\n",
    "                              'JERSPYRKVMAEJY-UHFFFAOYSA-N',\n",
    "                              'JMXLWMIFDJCGBV-UHFFFAOYSA-N',\n",
    "                              'VAWHFUNJDMQUSB-UHFFFAOYSA-N',\n",
    "                              'WGYRINYTHSORGH-UHFFFAOYSA-N',\n",
    "                              'FCTHQYIDLRRROX-UHFFFAOYSA-N',\n",
    "                              'VNAAUNTYIONOHR-UHFFFAOYSA-N',\n",
    "                              'KOAGKPNEVYEZDU-UHFFFAOYSA-N',\n",
    "                              'FJFIJIDZQADKEE-UHFFFAOYSA-N',\n",
    "                              'XFYICZOIWSBQSK-UHFFFAOYSA-N',\n",
    "                              'KFXBDBPOGBBVMC-UHFFFAOYSA-N',\n",
    "                              'HBPSMMXRESDUSG-UHFFFAOYSA-N',\n",
    "                              'NXRUEVJQMBGVAT-UHFFFAOYSA-N',\n",
    "                              'CALQKRVFTWDYDG-UHFFFAOYSA-N',\n",
    "                              'LLWRXQXPJMPHLR-UHFFFAOYSA-N',\n",
    "                              'BAMDIFIROXTEEM-UHFFFAOYSA-N',\n",
    "                              'XZUCBFLUEBDNSJ-UHFFFAOYSA-N']\n",
    "dimethyl_ammonium = ['JMXLWMIFDJCGBV-UHFFFAOYSA-N']\n",
    "cal = ['CALQKRVFTWDYDG-UHFFFAOYSA-N']\n",
    "koa = ['KOAGKPNEVYEZDU-UHFFFAOYSA-N']\n",
    "fct = ['FCTHQYIDLRRROX-UHFFFAOYSA-N']\n",
    "df = full_df[full_df[distribution_header].str.contains('Uniform')]\n",
    "#df = df[df[amine_header].isin(viable_amines)]\n",
    "#df = df[df[amine_header].isin(koa)]\n",
    "SUCCESS=4\n",
    "df[score_header] = [1 if val == SUCCESS else 0 for val in df[score_header].values]\n",
    "plot = df[score_header].value_counts().plot(kind='bar')\n",
    "val_counts = df[score_header].value_counts()\n",
    "print(val_counts[0]/len(df))\n",
    "print(val_counts[1]/len(df))"
   ]
  },
  {
   "cell_type": "code",
   "execution_count": 4,
   "metadata": {},
   "outputs": [],
   "source": [
    "gbl_only = df[df['_solv_GBL']==1]\n",
    "dmso_only = df[df['_solv_DMSO']==1]\n",
    "dmf_only = df[df['_solv_DMF']==1]"
   ]
  },
  {
   "cell_type": "code",
   "execution_count": 5,
   "metadata": {
    "tags": []
   },
   "outputs": [
    {
     "output_type": "stream",
     "name": "stdout",
     "text": [
      "1\n0\n0\n1\n"
     ]
    }
   ],
   "source": [
    "print(len(gbl_only[amine_header].unique().tolist()))\n",
    "print(len(dmso_only[amine_header].unique().tolist()))\n",
    "print(len(dmf_only[amine_header].unique().tolist()))\n",
    "print(len(df[amine_header].unique().tolist()))\n"
   ]
  },
  {
   "cell_type": "code",
   "execution_count": 6,
   "metadata": {
    "tags": []
   },
   "outputs": [
    {
     "output_type": "stream",
     "name": "stdout",
     "text": [
      "[0 1]\n"
     ]
    }
   ],
   "source": [
    "amines = gbl_only[amine_header].unique().tolist()\n",
    "for amine in amines:\n",
    "    print(gbl_only[gbl_only[amine_header]==amine][score_header].unique())"
   ]
  },
  {
   "cell_type": "code",
   "execution_count": 7,
   "metadata": {},
   "outputs": [],
   "source": [
    "# Analyzing Phase 1 dataset\n",
    "from pathlib import Path\n",
    "from utils.dataset_class import DataSet, Setting, Phase2DataSet\n",
    "import pickle\n",
    "\n",
    "phase2_dataset_path = Path('./data/phase2_dataset.pkl')\n",
    "phase2_dataset = pickle.load(phase2_dataset_path.open('rb'))\n"
   ]
  },
  {
   "cell_type": "code",
   "execution_count": 16,
   "metadata": {
    "tags": []
   },
   "outputs": [
    {
     "output_type": "stream",
     "name": "stdout",
     "text": [
      "1487\n[-0.09611971 -0.2588528   0.51190369 -0.90373014  2.20479276 -0.78258892\n  0.51191204 -0.25889356 -0.09622476  0.26046729  0.22981794 -0.34139655\n -0.21394783  0.04608666 -0.20827526  0.1846565  -0.29856519  0.02506712\n -0.14388359 -0.20467458  0.16897199  4.85969821 -0.30801189 -0.57703621\n -0.49155158 -0.92664394  0.17743301  0.65590633  0.82448254 -0.96320288\n -0.28704579 -0.31288513 -0.89737327 -0.08489462 -1.44254458 -0.07747219\n -0.976729   -1.39212708 -0.26365668 -0.67785409 -0.82815934 -0.37686127\n -0.67785409 -0.11365917 -1.29598034  1.04360381 -2.20479276  2.20479276\n -0.76358718  0.28620174 -3.29725583]\n[-0.59421771 -0.16576662 -0.45224781  1.10652501 -0.45355737 -0.78258892\n -0.45231547 -0.16582    -0.59423331  0.8830637  -0.65450644 -0.36141095\n -0.43538179 -0.642721   -0.49133534 -0.40222367 -0.18619443 -0.36924709\n -0.20370389 -0.2323903   0.16897199 -0.20577409  0.56106743  0.36603442\n  1.02620934  0.48608372 -0.53836278  0.0391495   0.38084536  0.5358596\n  0.59090885  0.32154679  0.95502293 -1.49581922  4.53677251  2.95150047\n -0.48453029 -0.28950851 -0.26365668 -0.67785409 -0.21225232  3.0881303\n -0.67785409 -0.11365917  0.48762287  1.04360381  0.45355737 -0.45355737\n -0.76358718  1.54677046  0.51891976]\n[-1.36049673 -1.11796983  2.67082319  1.10652501 -0.45355737 -0.78258892\n  2.66230159 -1.1179623  -1.3604003  -0.03537152  2.17976501 -1.05723704\n -0.68772204  1.2734669  -0.56635755  3.70866417 -0.87491854  2.42979292\n  6.05003842 -0.25033591  0.16897199 -0.20577409  0.56106743  0.36603442\n  1.02620934  0.48608372 -0.53836278  0.0391495   0.38084536  0.5358596\n  0.59090885  0.32154679  0.95502293 -1.49581922  4.53677251  2.95150047\n -0.48453029 -0.28950851 -0.26365668 -0.67785409 -0.21225232  3.0881303\n -0.67785409 -0.11365917  0.48762287  1.04360381  0.45355737 -0.45355737\n -0.76358718  1.54677046  0.51891976]\n"
     ]
    }
   ],
   "source": [
    "#for i in range(5):\n",
    "data = phase2_dataset.get_dataset('ALHk', 0, 'random')\n",
    "print(len(data['KOAGKPNEVYEZDU-UHFFFAOYSA-N']['x_t']))\n",
    "print(data['KOAGKPNEVYEZDU-UHFFFAOYSA-N']['x_t'][1470])\n",
    "print(data['KOAGKPNEVYEZDU-UHFFFAOYSA-N']['x_t'][1477])\n",
    "print(data['KOAGKPNEVYEZDU-UHFFFAOYSA-N']['x_t'][1480])"
   ]
  },
  {
   "cell_type": "code",
   "execution_count": 17,
   "metadata": {},
   "outputs": [
    {
     "output_type": "stream",
     "name": "stdout",
     "text": [
      "[0 1 0 1 0 0 0 1 0 1]\n[0 0 1 1 0 0 0 0 1 0]\n[0 0 0 0 0 1 0 0 0 0]\n[0 0 0 1 0 0 1 0 1 0]\n[0 0 0 0 0 0 1 0 0 0]\n"
     ]
    }
   ],
   "source": [
    "for i in range(5):\n",
    "    data = phase2_dataset.get_dataset('ALHk', i, 'random')\n",
    "    print(data['CALQKRVFTWDYDG-UHFFFAOYSA-N']['y_t'][-10:])"
   ]
  },
  {
   "cell_type": "code",
   "execution_count": 18,
   "metadata": {},
   "outputs": [
    {
     "output_type": "stream",
     "name": "stdout",
     "text": [
      "[0 0 1 1 0 0 0 1 0 1]\n[0 0 0 1 0 0 0 0 0 0]\n[0 1 1 0 0 1 0 0 1 0]\n[0 0 0 0 0 0 1 1 0 0]\n[0 1 0 0 1 0 0 1 0 0]\n"
     ]
    }
   ],
   "source": [
    "for i in range(5):\n",
    "    data = phase2_dataset.get_dataset('ALHk', i, 'random')\n",
    "    print(data['FCTHQYIDLRRROX-UHFFFAOYSA-N']['y_t'][-10:])"
   ]
  },
  {
   "cell_type": "code",
   "execution_count": 21,
   "metadata": {},
   "outputs": [],
   "source": [
    "amines = ('HBPSMMXRESDUSG-UHFFFAOYSA-N',\n",
    " 'LLWRXQXPJMPHLR-UHFFFAOYSA-N',\n",
    " 'NXRUEVJQMBGVAT-UHFFFAOYSA-N',\n",
    " 'XFYICZOIWSBQSK-UHFFFAOYSA-N')"
   ]
  },
  {
   "cell_type": "code",
   "execution_count": 31,
   "metadata": {},
   "outputs": [
    {
     "output_type": "stream",
     "name": "stdout",
     "text": [
      "HBPSMMXRESDUSG-UHFFFAOYSA-N: 0    145\n1     11\nName: _out_crystalscore, dtype: int64\nLLWRXQXPJMPHLR-UHFFFAOYSA-N: 0    28\n1     4\nName: _out_crystalscore, dtype: int64\nNXRUEVJQMBGVAT-UHFFFAOYSA-N: 0    91\n1     5\nName: _out_crystalscore, dtype: int64\nXFYICZOIWSBQSK-UHFFFAOYSA-N: 0    74\n1     7\nName: _out_crystalscore, dtype: int64\n"
     ]
    }
   ],
   "source": [
    "for amine in amines:\n",
    "    temp_df = df[df[amine_header]==amine]\n",
    "    SUCCESS=4\n",
    "    #temp_df[score_header] = [1 if val == SUCCESS else 0 for val in temp_df[score_header].values]\n",
    "    #plot = temp_df[score_header].value_counts().plot(kind='bar')\n",
    "    val_counts = temp_df[score_header].value_counts()\n",
    "    print(f\"{amine}: {val_counts}\")"
   ]
  },
  {
   "cell_type": "code",
   "execution_count": null,
   "metadata": {},
   "outputs": [],
   "source": []
  }
 ]
}