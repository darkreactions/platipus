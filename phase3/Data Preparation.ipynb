{
 "cells": [
  {
   "cell_type": "markdown",
   "metadata": {},
   "source": [
    "## Generate Stateset for the day"
   ]
  },
  {
   "cell_type": "code",
   "execution_count": 26,
   "metadata": {},
   "outputs": [],
   "source": [
    "import pandas as pd\n",
    "import numpy as np\n",
    "from datetime import datetime\n",
    "from custom_pipeline import get_concs, get_stateset, scale_stateset\n",
    "from pathlib import Path\n",
    "import sys\n",
    "import pickle\n",
    "package_path = Path.cwd().parent\n",
    "if package_path not in sys.path:\n",
    "    sys.path.append(str(package_path))\n",
    "from utils.dataset_class import Phase3DataSet, Setting"
   ]
  },
  {
   "cell_type": "code",
   "execution_count": 22,
   "metadata": {},
   "outputs": [],
   "source": [
    "stateset_raw = pd.read_csv('../phase3/final_data.csv')\n",
    "chemical_amounts = pd.read_csv('./extra_data/al_ingredients.csv')"
   ]
  },
  {
   "cell_type": "code",
   "execution_count": 23,
   "metadata": {},
   "outputs": [],
   "source": [
    "actual_amounts = {\n",
    "    '_raw_reagent_0_chemicals_0_actual_amount' : 3.78, #ml    - DMF     - Reagent 1\n",
    "    \n",
    "    '_raw_reagent_1_chemicals_0_actual_amount' : 3.54, #grams - PbI2    - Reagent 2\n",
    "    '_raw_reagent_1_chemicals_1_actual_amount' : 1.33, #grams - Me2NH2I - Reagent 2\n",
    "    '_raw_reagent_1_chemicals_2_actual_amount' : 2.90, #ml    - DMF     - Reagent 2\n",
    "    \n",
    "    '_raw_reagent_2_chemicals_0_actual_amount' : 1.35, #grams - Me2NH2I - Reagent 3\n",
    "    '_raw_reagent_2_chemicals_1_actual_amount' : 2.72, #ml    - DMF     - Reagent 3\n",
    "    \n",
    "    '_raw_reagent_6_chemicals_0_actual_amount' : 2.72, #ml    - FAH     - Reagent 5\n",
    "    \n",
    "}\n",
    "for chemical in actual_amounts:\n",
    "    chemical_amounts.loc[0, chemical] = actual_amounts[chemical]"
   ]
  },
  {
   "cell_type": "code",
   "execution_count": 24,
   "metadata": {},
   "outputs": [
    {
     "name": "stderr",
     "output_type": "stream",
     "text": [
      "/Users/vshekar/anaconda3/envs/escalate/lib/python3.6/site-packages/sklearn/base.py:318: UserWarning: Trying to unpickle estimator StandardScaler from version 0.23.2 when using version 0.22.1. This might lead to breaking code or invalid results. Use at your own risk.\n",
      "  UserWarning)\n"
     ]
    }
   ],
   "source": [
    "stateset_template = pd.read_csv('./extra_data/Me2NH2I_10uL_stateset.link.csv')\n",
    "ss_reagent_vols = stateset_template[[col for col in stateset_template.columns if 'Reagent' in col]]\n",
    "chemdf_dict = {'HC': pd.read_csv('./extra_data/chemical_inventory.csv', index_col='InChI Key (ID)')}\n",
    "phase3_training = pickle.load(open('phase3_dataset.pkl', 'rb'))"
   ]
  },
  {
   "cell_type": "code",
   "execution_count": 25,
   "metadata": {},
   "outputs": [],
   "source": [
    "summed_mmol, summed_molarity = get_concs(chemical_amounts, chemdf_dict, ss_reagent_vols)\n",
    "summed_mmol.index.rename('name')\n",
    "summed_molarity.index.rename('name')\n",
    "stateset = get_stateset(summed_mmol, summed_molarity)\n",
    "x_stateset = scale_stateset(stateset, phase3_training.scaler)"
   ]
  },
  {
   "cell_type": "markdown",
   "metadata": {},
   "source": [
    "## Write today's stateset to disk"
   ]
  },
  {
   "cell_type": "code",
   "execution_count": 30,
   "metadata": {},
   "outputs": [],
   "source": [
    "stateset.to_csv(f'./statesets/stateset_{datetime.today().date()}.csv')\n",
    "np.savetxt(f'./statesets/scaled_stateset_{datetime.today().date()}.csv', x_stateset, delimiter=\",\")"
   ]
  },
  {
   "cell_type": "code",
   "execution_count": null,
   "metadata": {},
   "outputs": [],
   "source": []
  }
 ],
 "metadata": {
  "hide_input": false,
  "kernelspec": {
   "display_name": "Python [conda env:escalate]",
   "language": "python",
   "name": "conda-env-escalate-py"
  },
  "language_info": {
   "codemirror_mode": {
    "name": "ipython",
    "version": 3
   },
   "file_extension": ".py",
   "mimetype": "text/x-python",
   "name": "python",
   "nbconvert_exporter": "python",
   "pygments_lexer": "ipython3",
   "version": "3.6.8"
  }
 },
 "nbformat": 4,
 "nbformat_minor": 2
}
