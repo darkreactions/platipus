{
 "cells": [
  {
   "cell_type": "code",
   "execution_count": 4,
   "metadata": {},
   "outputs": [],
   "source": [
    "from pathlib import Path\n",
    "import sys\n",
    "import pandas as pd\n",
    "import numpy as np\n",
    "#import qgrid\n",
    "import pickle\n",
    "import sklearn\n",
    "from datetime import datetime\n",
    "#from sklearn.neighbors import KNeighborsClassifier\n",
    "from sklearn.tree import DecisionTreeClassifier\n",
    "from modAL.models import ActiveLearner\n",
    "\n",
    "package_path = Path.cwd().parent\n",
    "if package_path not in sys.path:\n",
    "    sys.path.append(str(package_path))\n",
    "\n",
    "from utils.dataset_class import Phase3DataSet, Setting\n",
    "from custom_pipeline import get_model_pkl, dump_model_pkl"
   ]
  },
  {
   "cell_type": "code",
   "execution_count": 5,
   "metadata": {},
   "outputs": [],
   "source": [
    "training_raw = pd.read_csv('../data/raw/0057.perovskitedata_DRPFeatures_2020-07-02.csv')\n",
    "phase3_training = pickle.load(open('phase3_dataset.pkl', 'rb'))"
   ]
  },
  {
   "cell_type": "markdown",
   "metadata": {},
   "source": [
    "## Set up data"
   ]
  },
  {
   "cell_type": "code",
   "execution_count": 6,
   "metadata": {},
   "outputs": [],
   "source": [
    "dataset0 = phase3_training.get_dataset('ALHk', 0, 'random')['JMXLWMIFDJCGBV-UHFFFAOYSA-N']\n",
    "dataset1 = phase3_training.get_dataset('ALHk', 1, 'random')['JMXLWMIFDJCGBV-UHFFFAOYSA-N']\n"
   ]
  },
  {
   "cell_type": "markdown",
   "metadata": {},
   "source": [
    "## Initial set up, uncomment if no model files exist"
   ]
  },
  {
   "cell_type": "code",
   "execution_count": 8,
   "metadata": {},
   "outputs": [],
   "source": [
    "\"\"\"\n",
    "dt = DecisionTreeClassifier(**{'criterion': 'gini', 'splitter': 'best', 'max_depth': 9, 'min_samples_split': 6, 'min_samples_leaf': 3, 'class_weight': {0: 0.2520408163265306, 1: 0.7479591836734694}})\n",
    "learner = ActiveLearner(estimator=dt, X_training=dataset0['x_t'], y_training=dataset0['y_t'])\n",
    "dump_model_pkl(learner, 'dt', 0, 0)\n",
    "\n",
    "dt = DecisionTreeClassifier(**{'criterion': 'gini', 'splitter': 'best', 'max_depth': 9, 'min_samples_split': 6, 'min_samples_leaf': 3, 'class_weight': {0: 0.2520408163265306, 1: 0.7479591836734694}})\n",
    "learner = ActiveLearner(estimator=dt, X_training=dataset1['x_t'], y_training=dataset1['y_t'])\n",
    "dump_model_pkl(learner, 'dt', 1, 0)\n",
    "\n",
    "query_indices_set0 = []\n",
    "query_indices_set1 = []\n",
    "\n",
    "query_instances_set0 = []\n",
    "query_instances_set1 = []\n",
    "\n",
    "pickle.dump(query_indices_set0, Path('./dt/q_idx_set0.pkl').open('wb'))\n",
    "pickle.dump(query_indices_set1, Path('./dt/q_idx_set1.pkl').open('wb'))\n",
    "\n",
    "pickle.dump(query_instances_set0, Path('./dt/q_inst_set0.pkl').open('wb'))\n",
    "pickle.dump(query_instances_set1, Path('./dt/q_inst_set1.pkl').open('wb'))\n",
    "\n",
    "\"\"\"\n"
   ]
  },
  {
   "cell_type": "markdown",
   "metadata": {},
   "source": [
    "## Set up model and data"
   ]
  },
  {
   "cell_type": "code",
   "execution_count": 9,
   "metadata": {},
   "outputs": [
    {
     "name": "stdout",
     "output_type": "stream",
     "text": [
      "Loading dt/dt_set0_it0_20201203-064124.pkl : Iteration 0\n",
      "Loading dt/dt_set1_it0_20201203-064124.pkl : Iteration 0\n"
     ]
    }
   ],
   "source": [
    "dt_set0, iteration_set0 = get_model_pkl('dt', 0)\n",
    "dt_set1, iteration_set1 = get_model_pkl('dt', 1)\n",
    "\n",
    "query_indices_set0 = pickle.load(Path('./dt/q_idx_set0.pkl').open('rb'))\n",
    "query_indices_set1 = pickle.load(Path('./dt/q_idx_set1.pkl').open('rb'))\n",
    "\n",
    "query_instances_set0 = pickle.load(Path('./dt/q_inst_set0.pkl').open('rb'))\n",
    "query_instances_set1 = pickle.load(Path('./dt/q_inst_set1.pkl').open('rb'))\n",
    "\n",
    "x_stateset_set0 = np.genfromtxt(f'./statesets/scaled_stateset_{datetime.today().date()}.csv', delimiter=',')\n",
    "x_stateset_set1 = np.genfromtxt(f'./statesets/scaled_stateset_{datetime.today().date()}.csv', delimiter=',')\n",
    "\n",
    "rvol_raw_set0 = pd.read_csv('./extra_data/Me2NH2I_10uL_stateset.link.csv')\n",
    "rvol_raw_set1 = pd.read_csv('./extra_data/Me2NH2I_10uL_stateset.link.csv')\n",
    "\n",
    "ss_reagent_vols_set0 = rvol_raw_set0[[col for col in rvol_raw_set0.columns if 'Reagent' in col]]\n",
    "ss_reagent_vols_set1 = rvol_raw_set1[[col for col in rvol_raw_set1.columns if 'Reagent' in col]]\n",
    "\n",
    "for idx in query_indices_set0:\n",
    "    ss_reagent_vols_set0.drop(ss_reagent_vols_set0.index[idx], inplace=True)\n",
    "    x_stateset_set0 = np.delete(x_stateset_set0, idx, 0)\n",
    "    \n",
    "for idx in query_indices_set1:\n",
    "    ss_reagent_vols_set1.drop(ss_reagent_vols_set1.index[idx], inplace=True)\n",
    "    x_stateset_set1 = np.delete(x_stateset_set1, idx, 0)"
   ]
  },
  {
   "cell_type": "markdown",
   "metadata": {},
   "source": [
    "## DT Set 0 Get reagent volumes for next experiment"
   ]
  },
  {
   "cell_type": "code",
   "execution_count": 10,
   "metadata": {
    "scrolled": true
   },
   "outputs": [
    {
     "name": "stdout",
     "output_type": "stream",
     "text": [
      "    Reagent1 (ul)  Reagent2 (ul)  Reagent3 (ul)  Reagent4 (ul)  Reagent5 (ul)  \\\n",
      "10              7             70            143              0              0   \n",
      "\n",
      "    Reagent6 (ul)  Reagent7 (ul)  Reagent8 (ul)  Reagent9 (ul)  \n",
      "10              0            280              0              0  \n"
     ]
    }
   ],
   "source": [
    "query_index, query_instance = dt_set0.query(x_stateset_set0)\n",
    "query_indices_set0.append(query_index)\n",
    "query_instances_set0.append(query_instance)\n",
    "\n",
    "print(ss_reagent_vols_set0.iloc[query_index])"
   ]
  },
  {
   "cell_type": "markdown",
   "metadata": {},
   "source": [
    "## DT Set 0 Enter Crystal result\n",
    "### Note: If crystal score is 4 => result = 1\n",
    "### If crystal score is 1, 2 or 3 => result = 0"
   ]
  },
  {
   "cell_type": "code",
   "execution_count": 11,
   "metadata": {},
   "outputs": [],
   "source": [
    "result = 0\n",
    "dt_set0.teach(query_instance, [result])"
   ]
  },
  {
   "cell_type": "markdown",
   "metadata": {},
   "source": [
    "## DT Set 1 Get reagent volumes for next experiment"
   ]
  },
  {
   "cell_type": "code",
   "execution_count": 12,
   "metadata": {},
   "outputs": [
    {
     "name": "stdout",
     "output_type": "stream",
     "text": [
      "    Reagent1 (ul)  Reagent2 (ul)  Reagent3 (ul)  Reagent4 (ul)  Reagent5 (ul)  \\\n",
      "70             39             60            121              0              0   \n",
      "\n",
      "    Reagent6 (ul)  Reagent7 (ul)  Reagent8 (ul)  Reagent9 (ul)  \n",
      "70              0            280              0              0  \n"
     ]
    }
   ],
   "source": [
    "query_index, query_instance = dt_set1.query(x_stateset_set1)\n",
    "query_indices_set1.append(query_index)\n",
    "query_instances_set1.append(query_instance)\n",
    "\n",
    "print(ss_reagent_vols_set1.iloc[query_index])"
   ]
  },
  {
   "cell_type": "markdown",
   "metadata": {},
   "source": [
    "## DT Set 1 Enter Crystal result\n",
    "### Note: If crystal score is 4 => result = 1\n",
    "### If crystal score is 1, 2 or 3 => result = 0"
   ]
  },
  {
   "cell_type": "code",
   "execution_count": 14,
   "metadata": {},
   "outputs": [],
   "source": [
    "result = 0\n",
    "dt_set1.teach(query_instance, [result])"
   ]
  },
  {
   "cell_type": "markdown",
   "metadata": {},
   "source": [
    "## Finish Iteration Set 0"
   ]
  },
  {
   "cell_type": "code",
   "execution_count": 10,
   "metadata": {},
   "outputs": [],
   "source": [
    "iteration_set0 += 1\n",
    "dump_model_pkl(dt_set0, 'dt', 0, iteration_set0)\n",
    "\n",
    "pickle.dump(query_indices_set0, Path('./dt/q_idx_set0.pkl').open('wb'))\n",
    "pickle.dump(query_instances_set0, Path('./dt/q_inst_set0.pkl').open('wb'))"
   ]
  },
  {
   "cell_type": "markdown",
   "metadata": {},
   "source": [
    "## Finish Iteration Set 1"
   ]
  },
  {
   "cell_type": "code",
   "execution_count": 11,
   "metadata": {},
   "outputs": [],
   "source": [
    "iteration_set1 += 1\n",
    "dump_model_pkl(dt_set1, 'dt', 1, iteration_set1)\n",
    "\n",
    "pickle.dump(query_indices_set1, Path('./dt/q_idx_set1.pkl').open('wb'))\n",
    "pickle.dump(query_instances_set1, Path('./dt/q_inst_set1.pkl').open('wb'))"
   ]
  },
  {
   "cell_type": "code",
   "execution_count": null,
   "metadata": {},
   "outputs": [],
   "source": []
  }
 ],
 "metadata": {
  "hide_input": false,
  "kernelspec": {
   "display_name": "Python [conda env:escalate]",
   "language": "python",
   "name": "conda-env-escalate-py"
  },
  "language_info": {
   "codemirror_mode": {
    "name": "ipython",
    "version": 3
   },
   "file_extension": ".py",
   "mimetype": "text/x-python",
   "name": "python",
   "nbconvert_exporter": "python",
   "pygments_lexer": "ipython3",
   "version": "3.6.8"
  }
 },
 "nbformat": 4,
 "nbformat_minor": 4
}
