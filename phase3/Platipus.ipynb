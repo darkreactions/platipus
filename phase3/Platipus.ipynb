{
 "cells": [
  {
   "cell_type": "code",
   "execution_count": 1,
   "metadata": {},
   "outputs": [],
   "source": [
    "from pathlib import Path\n",
    "import sys\n",
    "import pandas as pd\n",
    "import numpy as np\n",
    "import pickle\n",
    "import sklearn\n",
    "from datetime import datetime\n",
    "import torch\n",
    "\n",
    "package_path = Path.cwd().parent\n",
    "if package_path not in sys.path:\n",
    "    sys.path.append(str(package_path))\n",
    "\n",
    "from utils.dataset_class import Phase3DataSet, Setting\n",
    "from phase3.scripts.custom_pipeline import get_model_pkl, dump_model_pkl\n",
    "from models.meta.platipus_class import Platipus\n",
    "from hpc_scripts.param_generator import get_all_params\n",
    "from models.meta.init_params import init_params"
   ]
  },
  {
   "cell_type": "code",
   "execution_count": 2,
   "metadata": {},
   "outputs": [
    {
     "name": "stdout",
     "output_type": "stream",
     "text": [
      "Meta learning rate = 0.001\n",
      "Getting FULL dataset\n",
      "Holding out ['CALQKRVFTWDYDG-UHFFFAOYSA-N', 'KOAGKPNEVYEZDU-UHFFFAOYSA-N', 'FCTHQYIDLRRROX-UHFFFAOYSA-N', 'JMXLWMIFDJCGBV-UHFFFAOYSA-N']\n",
      "Number of reactions in training set 1477\n",
      "Number of successful reactions in the training set 215\n",
      "Generating training batches\n",
      "Generating testing batches for testing! DO NOT RUN IF YOU SEE THIS LINE!\n",
      "Meta learning rate = 0.001\n",
      "Getting FULL dataset\n",
      "Holding out ['CALQKRVFTWDYDG-UHFFFAOYSA-N', 'KOAGKPNEVYEZDU-UHFFFAOYSA-N', 'FCTHQYIDLRRROX-UHFFFAOYSA-N', 'JMXLWMIFDJCGBV-UHFFFAOYSA-N']\n",
      "Number of reactions in training set 1477\n",
      "Number of successful reactions in the training set 215\n",
      "Generating training batches\n",
      "Generating testing batches for testing! DO NOT RUN IF YOU SEE THIS LINE!\n"
     ]
    }
   ],
   "source": [
    "x_stateset = {}\n",
    "rvol_raw = {}\n",
    "ss_reagent_vols = {}\n",
    "all_params = get_all_params(cross_validate=False)\n",
    "params = all_params[172]\n",
    "amine = ['JMXLWMIFDJCGBV-UHFFFAOYSA-N']\n",
    "train_params = {}\n",
    "platipus = {}\n",
    "device = {}\n",
    "\n",
    "for i in range(2):\n",
    "    x_stateset[i] = np.genfromtxt(f'./statesets/scaled_stateset_{datetime.today().date()}.csv', delimiter=',')\n",
    "    rvol_raw[i] = pd.read_csv('./extra_data/Me2NH2I_10uL_stateset.link.csv')\n",
    "    ss_reagent_vols[i] = rvol_raw[i][[col for col in rvol_raw[i].columns if 'Reagent' in col]] \n",
    "    \n",
    "    train_params[i] = init_params(params)\n",
    "    train_params[i]['gpu_id'] = i\n",
    "    platipus[i] = Platipus(train_params[i], amine=amine,\n",
    "                            model_name=train_params[i]['model_name'],\n",
    "                            epoch_al=True)\n",
    "    platipus[i].load_model('./plat_trained_model/testing/drp_chem_10shot_4000.pkl')\n",
    "    platipus[i].current_epoch = 4000\n",
    "    device[i] = torch.device(f\"cuda:{i}\")\n"
   ]
  },
  {
   "cell_type": "code",
   "execution_count": 6,
   "metadata": {},
   "outputs": [],
   "source": [
    "\"\"\"\n",
    "query_indices_set0 = [10022, 1441]\n",
    "query_indices_set1 = [17833, 9275]\n",
    "query_instances_set0 = []\n",
    "query_instances_set1 = []\n",
    "for idx in query_indices_set0:\n",
    "    query_instances_set0.append(x_stateset_set0[idx])\n",
    "for idx in query_indices_set1:\n",
    "    query_instances_set1.append(x_stateset_set0[idx])\n",
    "\"\"\""
   ]
  },
  {
   "cell_type": "code",
   "execution_count": 3,
   "metadata": {},
   "outputs": [
    {
     "name": "stderr",
     "output_type": "stream",
     "text": [
      "/home1/06453/vshekar/.local/lib/python3.7/site-packages/pandas/core/frame.py:4174: SettingWithCopyWarning: \n",
      "A value is trying to be set on a copy of a slice from a DataFrame\n",
      "\n",
      "See the caveats in the documentation: https://pandas.pydata.org/pandas-docs/stable/user_guide/indexing.html#returning-a-view-versus-a-copy\n",
      "  errors=errors,\n"
     ]
    }
   ],
   "source": [
    "results = {}\n",
    "results[0] = {10022:1, 1441:0, 6127:0, 9716:0, 8205:0, 7177:0, 17269:1, 15434:0}\n",
    "results[1] = {17833:0, 9275:0, 6470:0, 2378:1, 6890:0, 17171:0, 16771:0, 14533:0}\n",
    "\n",
    "xss_torch0 = {}\n",
    "xss_torch1 = {}\n",
    "x_t = {}\n",
    "y_t = {}\n",
    "for i in range(2):\n",
    "    iters, all_data, all_labels, x_train, y_train, x_v, y_v = platipus[i].setup_active_learning(i, 'JMXLWMIFDJCGBV-UHFFFAOYSA-N')\n",
    "    x_t[i] = x_train\n",
    "    y_t[i] = y_train\n",
    "    xss_torch0[i] = torch.from_numpy(x_stateset[i][:10000]).float().to(device[i])\n",
    "    xss_torch1[i] = torch.from_numpy(x_stateset[i][10000:]).float().to(device[i])\n",
    "    for exp_num in results[i]:\n",
    "        \n",
    "        if exp_num >= 10000:\n",
    "            index = exp_num-10000\n",
    "            x_t[i] = torch.cat((x_t[i], xss_torch1[i][index].view(1, 50)))\n",
    "            y_t[i] = torch.cat((y_t[i], torch.from_numpy(np.array([results[i][exp_num]])).to(device[i])))\n",
    "            xss_torch1[i] = torch.cat([xss_torch1[i][0:index], xss_torch1[i][index + 1:]])\n",
    "            ss_reagent_vols[i].drop(ss_reagent_vols[i].index[exp_num], inplace=True)\n",
    "        else:\n",
    "            index = exp_num\n",
    "            x_t[i] = torch.cat((x_t[i], xss_torch0[i][exp_num].view(1, 50)))\n",
    "            y_t[i] = torch.cat((y_t[i], torch.from_numpy(np.array([results[i][exp_num]])).to(device[i])))\n",
    "            xss_torch0[i] = torch.cat([xss_torch0[i][0:index], xss_torch0[i][index + 1:]])\n",
    "            ss_reagent_vols[i].drop(ss_reagent_vols[i].index[exp_num], inplace=True)"
   ]
  },
  {
   "cell_type": "code",
   "execution_count": 4,
   "metadata": {},
   "outputs": [
    {
     "name": "stdout",
     "output_type": "stream",
     "text": [
      "tensor([0.5842, 0.5747, 0.5755,  ..., 0.5419, 0.5446, 0.7224], device='cuda:0',\n",
      "       grad_fn=<MaxBackward0>)\n",
      "4486 0.5386906862258911\n"
     ]
    }
   ],
   "source": [
    "value0, index0 = platipus[0].phase3_active_learning(x_t[0], y_t[0], xss_torch0[0], debug=True)\n",
    "print(index0.item(), value0.item())\n",
    "del value0\n",
    "torch.cuda.empty_cache()"
   ]
  },
  {
   "cell_type": "code",
   "execution_count": 5,
   "metadata": {},
   "outputs": [
    {
     "name": "stdout",
     "output_type": "stream",
     "text": [
      "tensor([0.6885, 0.6861, 0.6835,  ..., 0.5955, 0.5983, 0.6026], device='cuda:0',\n",
      "       grad_fn=<MaxBackward0>)\n",
      "34 0.5341784954071045\n"
     ]
    }
   ],
   "source": [
    "value0, index0 = platipus[0].phase3_active_learning(x_t[0], y_t[0], xss_torch1[0], debug=True)\n",
    "print(index0.item(), value0.item())\n",
    "del value0\n",
    "torch.cuda.empty_cache()"
   ]
  },
  {
   "cell_type": "code",
   "execution_count": 6,
   "metadata": {},
   "outputs": [
    {
     "name": "stdout",
     "output_type": "stream",
     "text": [
      "tensor([0.6863, 0.7189, 0.7133,  ..., 0.5801, 0.5749, 0.6548], device='cuda:1',\n",
      "       grad_fn=<MaxBackward0>)\n",
      "5179 0.5000090003013611\n"
     ]
    }
   ],
   "source": [
    "value0, index0 = platipus[1].phase3_active_learning(x_t[1], y_t[1], xss_torch0[1], debug=True)\n",
    "print(index0.item(), value0.item())\n",
    "del value0\n",
    "torch.cuda.empty_cache()"
   ]
  },
  {
   "cell_type": "code",
   "execution_count": 7,
   "metadata": {},
   "outputs": [
    {
     "name": "stdout",
     "output_type": "stream",
     "text": [
      "tensor([0.6557, 0.6498, 0.6421,  ..., 0.6461, 0.6424, 0.6400], device='cuda:1',\n",
      "       grad_fn=<MaxBackward0>)\n",
      "3920 0.5000097751617432\n"
     ]
    }
   ],
   "source": [
    "value0, index0 = platipus[1].phase3_active_learning(x_t[1], y_t[1], xss_torch1[1], debug=True)\n",
    "print(index0.item(), value0.item())\n",
    "del value0\n",
    "torch.cuda.empty_cache()"
   ]
  },
  {
   "cell_type": "code",
   "execution_count": 11,
   "metadata": {},
   "outputs": [
    {
     "data": {
      "text/plain": [
       "17168"
      ]
     },
     "execution_count": 11,
     "metadata": {},
     "output_type": "execute_result"
    }
   ],
   "source": [
    "import random\n",
    "random.randint(0, 20000)"
   ]
  },
  {
   "cell_type": "code",
   "execution_count": 7,
   "metadata": {},
   "outputs": [],
   "source": [
    "value0, index0 = platipus_set0.phase3_active_learning(x_t, y_t, xss_torch0)"
   ]
  },
  {
   "cell_type": "code",
   "execution_count": 8,
   "metadata": {},
   "outputs": [
    {
     "name": "stdout",
     "output_type": "stream",
     "text": [
      "tensor(0.5261, device='cuda:0', grad_fn=<MinBackward0>) tensor(9716, device='cuda:0')\n"
     ]
    }
   ],
   "source": [
    "print(value0, index0)"
   ]
  },
  {
   "cell_type": "code",
   "execution_count": 9,
   "metadata": {},
   "outputs": [],
   "source": [
    "del value0\n",
    "del index0\n",
    "torch.cuda.empty_cache()"
   ]
  },
  {
   "cell_type": "code",
   "execution_count": 6,
   "metadata": {},
   "outputs": [],
   "source": [
    "del xss_torch0\n",
    "torch.cuda.empty_cache()"
   ]
  },
  {
   "cell_type": "code",
   "execution_count": 10,
   "metadata": {},
   "outputs": [],
   "source": [
    "#xss_torch1 = torch.from_numpy(x_stateset_set0[10000:]).float().to(device_set0)\n",
    "value1, index1 = platipus_set0.phase3_active_learning(x_t, y_t, xss_torch1)"
   ]
  },
  {
   "cell_type": "code",
   "execution_count": 11,
   "metadata": {},
   "outputs": [
    {
     "name": "stdout",
     "output_type": "stream",
     "text": [
      "tensor(nan, device='cuda:0', grad_fn=<MinBackward0>) tensor(0, device='cuda:0')\n"
     ]
    }
   ],
   "source": [
    "print(value1, index1)\n",
    "del value1\n",
    "torch.cuda.empty_cache()"
   ]
  },
  {
   "cell_type": "code",
   "execution_count": 8,
   "metadata": {},
   "outputs": [
    {
     "data": {
      "text/plain": [
       "Reagent1 (ul)     59\n",
       "Reagent2 (ul)    320\n",
       "Reagent3 (ul)     31\n",
       "Reagent4 (ul)      0\n",
       "Reagent5 (ul)      0\n",
       "Reagent6 (ul)      0\n",
       "Reagent7 (ul)     90\n",
       "Reagent8 (ul)      0\n",
       "Reagent9 (ul)      0\n",
       "Name: 10040, dtype: int64"
      ]
     },
     "execution_count": 8,
     "metadata": {},
     "output_type": "execute_result"
    }
   ],
   "source": [
    "ss_reagent_vols[0].iloc[10034]"
   ]
  },
  {
   "cell_type": "code",
   "execution_count": 9,
   "metadata": {},
   "outputs": [
    {
     "data": {
      "text/plain": [
       "Reagent1 (ul)    156\n",
       "Reagent2 (ul)     20\n",
       "Reagent3 (ul)    164\n",
       "Reagent4 (ul)      0\n",
       "Reagent5 (ul)      0\n",
       "Reagent6 (ul)      0\n",
       "Reagent7 (ul)    160\n",
       "Reagent8 (ul)      0\n",
       "Reagent9 (ul)      0\n",
       "Name: 5180, dtype: int64"
      ]
     },
     "execution_count": 9,
     "metadata": {},
     "output_type": "execute_result"
    }
   ],
   "source": [
    "ss_reagent_vols[1].iloc[5179]"
   ]
  },
  {
   "cell_type": "code",
   "execution_count": 9,
   "metadata": {},
   "outputs": [
    {
     "data": {
      "text/plain": [
       "(tensor(0.5000, device='cuda:1', grad_fn=<MinBackward0>),\n",
       " tensor(7833, device='cuda:1'))"
      ]
     },
     "execution_count": 9,
     "metadata": {},
     "output_type": "execute_result"
    }
   ],
   "source": [
    "#value, index = platipus.phase3_active_learning(x_t, y_t, xss_torch)\n",
    "value, index"
   ]
  },
  {
   "cell_type": "code",
   "execution_count": 7,
   "metadata": {},
   "outputs": [],
   "source": [
    "x_t = torch.cat((x_t, xss_torch[7833].view(1, 50)))"
   ]
  },
  {
   "cell_type": "code",
   "execution_count": 8,
   "metadata": {},
   "outputs": [],
   "source": [
    "y_t = torch.cat((y_t, torch.from_numpy(np.array([0])).to(device)))"
   ]
  },
  {
   "cell_type": "code",
   "execution_count": 9,
   "metadata": {},
   "outputs": [
    {
     "data": {
      "text/plain": [
       "torch.Size([11])"
      ]
     },
     "execution_count": 9,
     "metadata": {},
     "output_type": "execute_result"
    }
   ],
   "source": [
    "y_t.shape"
   ]
  },
  {
   "cell_type": "code",
   "execution_count": 10,
   "metadata": {},
   "outputs": [],
   "source": [
    "value, index = platipus.phase3_active_learning(x_t, y_t, xss_torch)"
   ]
  },
  {
   "cell_type": "code",
   "execution_count": 11,
   "metadata": {},
   "outputs": [
    {
     "name": "stdout",
     "output_type": "stream",
     "text": [
      "tensor(0.5556, device='cuda:1', grad_fn=<MinBackward0>) tensor(9275, device='cuda:1')\n"
     ]
    }
   ],
   "source": [
    "print(value, index)"
   ]
  },
  {
   "cell_type": "code",
   "execution_count": 16,
   "metadata": {},
   "outputs": [],
   "source": [
    "set_id = 1 \n",
    "iters, all_data, all_labels, x_t, y_t, x_v, y_v = platipus[0].setup_active_learning(set_id, 'JMXLWMIFDJCGBV-UHFFFAOYSA-N')"
   ]
  },
  {
   "cell_type": "code",
   "execution_count": 18,
   "metadata": {},
   "outputs": [],
   "source": [
    "xss_torch0 = torch.from_numpy(x_stateset[0][:10000]).float().to(device[0])\n",
    "value0, index0 = platipus[0].phase3_active_learning(x_t, y_t, xss_torch0)"
   ]
  },
  {
   "cell_type": "code",
   "execution_count": 19,
   "metadata": {},
   "outputs": [
    {
     "name": "stdout",
     "output_type": "stream",
     "text": [
      "tensor(0.5000, device='cuda:0', grad_fn=<MinBackward0>) tensor(8205, device='cuda:0')\n"
     ]
    }
   ],
   "source": [
    "print(value0, index0)\n",
    "del value0\n",
    "torch.cuda.empty_cache()"
   ]
  },
  {
   "cell_type": "code",
   "execution_count": 19,
   "metadata": {},
   "outputs": [],
   "source": [
    "xss_torch1 = torch.from_numpy(x_stateset_set1[10000:]).float().to(device_set1)\n",
    "value1, index1 = platipus_set1.phase3_active_learning(x_t, y_t, xss_torch1)"
   ]
  },
  {
   "cell_type": "code",
   "execution_count": 20,
   "metadata": {},
   "outputs": [
    {
     "name": "stdout",
     "output_type": "stream",
     "text": [
      "tensor(0.5000, device='cuda:1', grad_fn=<MinBackward0>) tensor(6125, device='cuda:1')\n"
     ]
    }
   ],
   "source": [
    "print(value1, index1)\n",
    "del value1\n",
    "torch.cuda.empty_cache()"
   ]
  },
  {
   "cell_type": "code",
   "execution_count": 20,
   "metadata": {},
   "outputs": [
    {
     "data": {
      "text/plain": [
       "Reagent1 (ul)     46\n",
       "Reagent2 (ul)     20\n",
       "Reagent3 (ul)    324\n",
       "Reagent4 (ul)      0\n",
       "Reagent5 (ul)      0\n",
       "Reagent6 (ul)      0\n",
       "Reagent7 (ul)    110\n",
       "Reagent8 (ul)      0\n",
       "Reagent9 (ul)      0\n",
       "Name: 8205, dtype: int64"
      ]
     },
     "execution_count": 20,
     "metadata": {},
     "output_type": "execute_result"
    }
   ],
   "source": [
    "rvol_raw =  pd.read_csv('./extra_data/Me2NH2I_10uL_stateset.link.csv')\n",
    "ss_reagent_vols = rvol_raw[[col for col in rvol_raw.columns if 'Reagent' in col]]\n",
    "ss_reagent_vols.iloc[8205]"
   ]
  },
  {
   "cell_type": "markdown",
   "metadata": {},
   "source": [
    "## PLATIPUS SET 1"
   ]
  },
  {
   "cell_type": "code",
   "execution_count": 13,
   "metadata": {},
   "outputs": [],
   "source": [
    "set_id = 1\n",
    "iters, all_data, all_labels, x_t, y_t, x_v, y_v = platipus_set1.setup_active_learning(set_id, 'JMXLWMIFDJCGBV-UHFFFAOYSA-N')"
   ]
  },
  {
   "cell_type": "code",
   "execution_count": 14,
   "metadata": {},
   "outputs": [],
   "source": [
    "xss_torch0 = torch.from_numpy(x_stateset_set0[:10000]).float().to(device_set1)\n",
    "xss_torch1 = torch.from_numpy(x_stateset_set0[10000:]).float().to(device_set1)"
   ]
  },
  {
   "cell_type": "code",
   "execution_count": 15,
   "metadata": {},
   "outputs": [],
   "source": [
    "results = {\n",
    "    17833:0,\n",
    "    9275:0,\n",
    "    6470:0,\n",
    "}\n",
    "for exp_num in results:\n",
    "    if exp_num >= 10000:\n",
    "        x_t = torch.cat((x_t, xss_torch1[exp_num-10000].view(1, 50)))\n",
    "        y_t = torch.cat((y_t, torch.from_numpy(np.array([results[exp_num]])).to(device_set1)))\n",
    "    else:\n",
    "        x_t = torch.cat((x_t, xss_torch1[exp_num].view(1, 50)))\n",
    "        y_t = torch.cat((y_t, torch.from_numpy(np.array([results[exp_num]])).to(device_set1)))"
   ]
  },
  {
   "cell_type": "code",
   "execution_count": 16,
   "metadata": {},
   "outputs": [
    {
     "name": "stdout",
     "output_type": "stream",
     "text": [
      "tensor(0.5018, device='cuda:1', grad_fn=<MinBackward0>) tensor(2378, device='cuda:1')\n"
     ]
    }
   ],
   "source": [
    "value0, index0 = platipus_set1.phase3_active_learning(x_t, y_t, xss_torch0)\n",
    "print(value0, index0)\n",
    "del value0\n",
    "del index0\n",
    "torch.cuda.empty_cache()"
   ]
  },
  {
   "cell_type": "code",
   "execution_count": 17,
   "metadata": {},
   "outputs": [
    {
     "name": "stdout",
     "output_type": "stream",
     "text": [
      "tensor(0.6820, device='cuda:1', grad_fn=<MinBackward0>) tensor(589, device='cuda:1')\n"
     ]
    }
   ],
   "source": [
    "value1, index1 = platipus_set1.phase3_active_learning(x_t, y_t, xss_torch1)\n",
    "print(value1, index1)\n",
    "del value1\n",
    "torch.cuda.empty_cache()"
   ]
  },
  {
   "cell_type": "code",
   "execution_count": 18,
   "metadata": {},
   "outputs": [
    {
     "data": {
      "text/plain": [
       "Reagent1 (ul)      6\n",
       "Reagent2 (ul)    280\n",
       "Reagent3 (ul)      4\n",
       "Reagent4 (ul)      0\n",
       "Reagent5 (ul)      0\n",
       "Reagent6 (ul)      0\n",
       "Reagent7 (ul)    210\n",
       "Reagent8 (ul)      0\n",
       "Reagent9 (ul)      0\n",
       "Name: 2378, dtype: int64"
      ]
     },
     "execution_count": 18,
     "metadata": {},
     "output_type": "execute_result"
    }
   ],
   "source": [
    "ss_reagent_vols_set0.iloc[2378]"
   ]
  },
  {
   "cell_type": "code",
   "execution_count": null,
   "metadata": {},
   "outputs": [],
   "source": []
  }
 ],
 "metadata": {
  "hide_input": false,
  "kernelspec": {
   "display_name": "Python 3",
   "language": "python",
   "name": "python3"
  },
  "language_info": {
   "codemirror_mode": {
    "name": "ipython",
    "version": 3
   },
   "file_extension": ".py",
   "mimetype": "text/x-python",
   "name": "python",
   "nbconvert_exporter": "python",
   "pygments_lexer": "ipython3",
   "version": "3.7.0"
  }
 },
 "nbformat": 4,
 "nbformat_minor": 2
}
