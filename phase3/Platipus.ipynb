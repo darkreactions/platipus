{
 "cells": [
  {
   "cell_type": "code",
   "execution_count": 8,
   "metadata": {},
   "outputs": [],
   "source": [
    "from pathlib import Path\n",
    "import sys\n",
    "import pandas as pd\n",
    "import numpy as np\n",
    "import pickle\n",
    "import sklearn\n",
    "from datetime import datetime, timedelta\n",
    "import torch\n",
    "\n",
    "package_path = Path.cwd().parent\n",
    "if package_path not in sys.path:\n",
    "    sys.path.append(str(package_path))\n",
    "\n",
    "from utils.dataset_class import Phase3DataSet, Setting\n",
    "from phase3.scripts.custom_pipeline import get_model_pkl, dump_model_pkl\n",
    "from models.meta.platipus_class import Platipus\n",
    "from hpc_scripts.param_generator import get_all_params\n",
    "from models.meta.init_params import init_params"
   ]
  },
  {
   "cell_type": "code",
   "execution_count": 9,
   "metadata": {},
   "outputs": [
    {
     "name": "stdout",
     "output_type": "stream",
     "text": [
      "Meta learning rate = 0.001\n",
      "Getting FULL dataset\n",
      "Holding out ['CALQKRVFTWDYDG-UHFFFAOYSA-N', 'KOAGKPNEVYEZDU-UHFFFAOYSA-N', 'FCTHQYIDLRRROX-UHFFFAOYSA-N', 'JMXLWMIFDJCGBV-UHFFFAOYSA-N']\n",
      "Number of reactions in training set 1477\n",
      "Number of successful reactions in the training set 215\n",
      "Generating training batches\n",
      "Generating testing batches for testing! DO NOT RUN IF YOU SEE THIS LINE!\n",
      "Meta learning rate = 0.001\n",
      "Getting FULL dataset\n",
      "Holding out ['CALQKRVFTWDYDG-UHFFFAOYSA-N', 'KOAGKPNEVYEZDU-UHFFFAOYSA-N', 'FCTHQYIDLRRROX-UHFFFAOYSA-N', 'JMXLWMIFDJCGBV-UHFFFAOYSA-N']\n",
      "Number of reactions in training set 1477\n",
      "Number of successful reactions in the training set 215\n",
      "Generating training batches\n",
      "Generating testing batches for testing! DO NOT RUN IF YOU SEE THIS LINE!\n"
     ]
    }
   ],
   "source": [
    "x_stateset = {}\n",
    "rvol_raw = {}\n",
    "ss_reagent_vols = {}\n",
    "all_params = get_all_params(cross_validate=False)\n",
    "params = all_params[172]\n",
    "amine = ['JMXLWMIFDJCGBV-UHFFFAOYSA-N']\n",
    "train_params = {}\n",
    "platipus = {}\n",
    "device = {}\n",
    "\n",
    "for i in range(2):\n",
    "    x_stateset[i] = np.genfromtxt(f'./statesets/scaled_stateset_{datetime.today().date() - timedelta(days=1)}.csv', delimiter=',')\n",
    "    rvol_raw[i] = pd.read_csv('./extra_data/Me2NH2I_10uL_stateset.link.csv')\n",
    "    ss_reagent_vols[i] = rvol_raw[i][[col for col in rvol_raw[i].columns if 'Reagent' in col]] \n",
    "    \n",
    "    train_params[i] = init_params(params)\n",
    "    train_params[i]['gpu_id'] = i\n",
    "    platipus[i] = Platipus(train_params[i], amine=amine,\n",
    "                            model_name=train_params[i]['model_name'],\n",
    "                            epoch_al=True)\n",
    "    platipus[i].load_model('./plat_trained_model/testing/drp_chem_10shot_4000.pkl')\n",
    "    platipus[i].current_epoch = 4000\n",
    "    device[i] = torch.device(f\"cuda:{i}\")\n"
   ]
  },
  {
   "cell_type": "code",
   "execution_count": 6,
   "metadata": {},
   "outputs": [],
   "source": [
    "\"\"\"\n",
    "query_indices_set0 = [10022, 1441]\n",
    "query_indices_set1 = [17833, 9275]\n",
    "query_instances_set0 = []\n",
    "query_instances_set1 = []\n",
    "for idx in query_indices_set0:\n",
    "    query_instances_set0.append(x_stateset_set0[idx])\n",
    "for idx in query_indices_set1:\n",
    "    query_instances_set1.append(x_stateset_set0[idx])\n",
    "\"\"\""
   ]
  },
  {
   "cell_type": "code",
   "execution_count": 3,
   "metadata": {},
   "outputs": [
    {
     "name": "stderr",
     "output_type": "stream",
     "text": [
      "/home1/06453/vshekar/.local/lib/python3.7/site-packages/pandas/core/frame.py:4174: SettingWithCopyWarning: \n",
      "A value is trying to be set on a copy of a slice from a DataFrame\n",
      "\n",
      "See the caveats in the documentation: https://pandas.pydata.org/pandas-docs/stable/user_guide/indexing.html#returning-a-view-versus-a-copy\n",
      "  errors=errors,\n"
     ]
    }
   ],
   "source": [
    "results = {}\n",
    "results[0] = {10022:1, 1441:0, 6127:0, 9716:0, 8205:0, 7177:0, 17269:1, 15434:0, 10040:1, 9958:0}\n",
    "results[1] = {17833:0, 9275:0, 6470:0, 2378:1, 6890:0, 17171:0, 16771:0, 14533:0, 5180:1, 13862:0}\n",
    "\n",
    "xss_torch0 = {}\n",
    "xss_torch1 = {}\n",
    "x_t = {}\n",
    "y_t = {}\n",
    "for i in range(2):\n",
    "    iters, all_data, all_labels, x_train, y_train, x_v, y_v = platipus[i].setup_active_learning(i, 'JMXLWMIFDJCGBV-UHFFFAOYSA-N')\n",
    "    x_t[i] = x_train\n",
    "    y_t[i] = y_train\n",
    "    xss_torch0[i] = torch.from_numpy(x_stateset[i][:10000]).float().to(device[i])\n",
    "    xss_torch1[i] = torch.from_numpy(x_stateset[i][10000:]).float().to(device[i])\n",
    "    for exp_num in results[i]:\n",
    "        \n",
    "        if exp_num >= 10000:\n",
    "            index = exp_num-10000\n",
    "            x_t[i] = torch.cat((x_t[i], xss_torch1[i][index].view(1, 50)))\n",
    "            y_t[i] = torch.cat((y_t[i], torch.from_numpy(np.array([results[i][exp_num]])).to(device[i])))\n",
    "            xss_torch1[i] = torch.cat([xss_torch1[i][0:index], xss_torch1[i][index + 1:]])\n",
    "            ss_reagent_vols[i].drop(ss_reagent_vols[i].index[exp_num], inplace=True)\n",
    "        else:\n",
    "            index = exp_num\n",
    "            x_t[i] = torch.cat((x_t[i], xss_torch0[i][exp_num].view(1, 50)))\n",
    "            y_t[i] = torch.cat((y_t[i], torch.from_numpy(np.array([results[i][exp_num]])).to(device[i])))\n",
    "            xss_torch0[i] = torch.cat([xss_torch0[i][0:index], xss_torch0[i][index + 1:]])\n",
    "            ss_reagent_vols[i].drop(ss_reagent_vols[i].index[exp_num], inplace=True)"
   ]
  },
  {
   "cell_type": "code",
   "execution_count": 4,
   "metadata": {},
   "outputs": [
    {
     "name": "stdout",
     "output_type": "stream",
     "text": [
      "tensor([0.6230, 0.6185, 0.6179,  ..., 0.5766, 0.5826, 0.7755], device='cuda:0',\n",
      "       grad_fn=<MaxBackward0>)\n",
      "9953 0.5765551924705505\n"
     ]
    }
   ],
   "source": [
    "value0, index0 = platipus[0].phase3_active_learning(x_t[0], y_t[0], xss_torch0[0], debug=True)\n",
    "print(index0.item(), value0.item())\n",
    "del value0\n",
    "torch.cuda.empty_cache()"
   ]
  },
  {
   "cell_type": "code",
   "execution_count": 5,
   "metadata": {},
   "outputs": [
    {
     "name": "stdout",
     "output_type": "stream",
     "text": [
      "tensor([0.7809, 0.7791, 0.7773,  ..., 0.6167, 0.6142, 0.6172], device='cuda:0',\n",
      "       grad_fn=<MaxBackward0>)\n",
      "642 0.5791086554527283\n"
     ]
    }
   ],
   "source": [
    "value0, index0 = platipus[0].phase3_active_learning(x_t[0], y_t[0], xss_torch1[0], debug=True)\n",
    "print(index0.item(), value0.item())\n",
    "del value0\n",
    "torch.cuda.empty_cache()"
   ]
  },
  {
   "cell_type": "code",
   "execution_count": 7,
   "metadata": {},
   "outputs": [
    {
     "name": "stdout",
     "output_type": "stream",
     "text": [
      "tensor([0.7019, 0.7321, 0.7256,  ..., 0.5237, 0.5296, 0.6998], device='cuda:1',\n",
      "       grad_fn=<MaxBackward0>)\n",
      "9720 0.522106945514679\n"
     ]
    }
   ],
   "source": [
    "value0, index0 = platipus[1].phase3_active_learning(x_t[1], y_t[1], xss_torch0[1], debug=True)\n",
    "print(index0.item(), value0.item())\n",
    "del value0\n",
    "torch.cuda.empty_cache()"
   ]
  },
  {
   "cell_type": "code",
   "execution_count": 8,
   "metadata": {},
   "outputs": [
    {
     "name": "stdout",
     "output_type": "stream",
     "text": [
      "tensor([0.6865, 0.6806, 0.6740,  ..., 0.5732, 0.5703, 0.5679], device='cuda:1',\n",
      "       grad_fn=<MaxBackward0>)\n",
      "3857 0.5000147223472595\n"
     ]
    }
   ],
   "source": [
    "value0, index0 = platipus[1].phase3_active_learning(x_t[1], y_t[1], xss_torch1[1], debug=True)\n",
    "print(index0.item(), value0.item())\n",
    "del value0\n",
    "torch.cuda.empty_cache()"
   ]
  },
  {
   "cell_type": "code",
   "execution_count": 11,
   "metadata": {},
   "outputs": [
    {
     "data": {
      "text/plain": [
       "17168"
      ]
     },
     "execution_count": 11,
     "metadata": {},
     "output_type": "execute_result"
    }
   ],
   "source": [
    "import random\n",
    "random.randint(0, 20000)"
   ]
  },
  {
   "cell_type": "code",
   "execution_count": 7,
   "metadata": {},
   "outputs": [],
   "source": [
    "value0, index0 = platipus_set0.phase3_active_learning(x_t, y_t, xss_torch0)"
   ]
  },
  {
   "cell_type": "code",
   "execution_count": 8,
   "metadata": {},
   "outputs": [
    {
     "name": "stdout",
     "output_type": "stream",
     "text": [
      "tensor(0.5261, device='cuda:0', grad_fn=<MinBackward0>) tensor(9716, device='cuda:0')\n"
     ]
    }
   ],
   "source": [
    "print(value0, index0)"
   ]
  },
  {
   "cell_type": "code",
   "execution_count": 9,
   "metadata": {},
   "outputs": [],
   "source": [
    "del value0\n",
    "del index0\n",
    "torch.cuda.empty_cache()"
   ]
  },
  {
   "cell_type": "code",
   "execution_count": 6,
   "metadata": {},
   "outputs": [],
   "source": [
    "del xss_torch0\n",
    "torch.cuda.empty_cache()"
   ]
  },
  {
   "cell_type": "code",
   "execution_count": 10,
   "metadata": {},
   "outputs": [],
   "source": [
    "#xss_torch1 = torch.from_numpy(x_stateset_set0[10000:]).float().to(device_set0)\n",
    "value1, index1 = platipus_set0.phase3_active_learning(x_t, y_t, xss_torch1)"
   ]
  },
  {
   "cell_type": "code",
   "execution_count": 11,
   "metadata": {},
   "outputs": [
    {
     "name": "stdout",
     "output_type": "stream",
     "text": [
      "tensor(nan, device='cuda:0', grad_fn=<MinBackward0>) tensor(0, device='cuda:0')\n"
     ]
    }
   ],
   "source": [
    "print(value1, index1)\n",
    "del value1\n",
    "torch.cuda.empty_cache()"
   ]
  },
  {
   "cell_type": "code",
   "execution_count": 6,
   "metadata": {},
   "outputs": [
    {
     "data": {
      "text/plain": [
       "Reagent1 (ul)     88\n",
       "Reagent2 (ul)     10\n",
       "Reagent3 (ul)    312\n",
       "Reagent4 (ul)      0\n",
       "Reagent5 (ul)      0\n",
       "Reagent6 (ul)      0\n",
       "Reagent7 (ul)     90\n",
       "Reagent8 (ul)      0\n",
       "Reagent9 (ul)      0\n",
       "Name: 9958, dtype: int64"
      ]
     },
     "execution_count": 6,
     "metadata": {},
     "output_type": "execute_result"
    }
   ],
   "source": [
    "ss_reagent_vols[0].iloc[9953]"
   ]
  },
  {
   "cell_type": "code",
   "execution_count": 9,
   "metadata": {},
   "outputs": [
    {
     "data": {
      "text/plain": [
       "Reagent1 (ul)    113\n",
       "Reagent2 (ul)    140\n",
       "Reagent3 (ul)    197\n",
       "Reagent4 (ul)      0\n",
       "Reagent5 (ul)      0\n",
       "Reagent6 (ul)      0\n",
       "Reagent7 (ul)     50\n",
       "Reagent8 (ul)      0\n",
       "Reagent9 (ul)      0\n",
       "Name: 13862, dtype: int64"
      ]
     },
     "execution_count": 9,
     "metadata": {},
     "output_type": "execute_result"
    }
   ],
   "source": [
    "ss_reagent_vols[1].iloc[13857]"
   ]
  },
  {
   "cell_type": "code",
   "execution_count": 9,
   "metadata": {},
   "outputs": [
    {
     "data": {
      "text/plain": [
       "(tensor(0.5000, device='cuda:1', grad_fn=<MinBackward0>),\n",
       " tensor(7833, device='cuda:1'))"
      ]
     },
     "execution_count": 9,
     "metadata": {},
     "output_type": "execute_result"
    }
   ],
   "source": [
    "#value, index = platipus.phase3_active_learning(x_t, y_t, xss_torch)\n",
    "value, index"
   ]
  },
  {
   "cell_type": "code",
   "execution_count": 7,
   "metadata": {},
   "outputs": [],
   "source": [
    "x_t = torch.cat((x_t, xss_torch[7833].view(1, 50)))"
   ]
  },
  {
   "cell_type": "code",
   "execution_count": 8,
   "metadata": {},
   "outputs": [],
   "source": [
    "y_t = torch.cat((y_t, torch.from_numpy(np.array([0])).to(device)))"
   ]
  },
  {
   "cell_type": "code",
   "execution_count": 9,
   "metadata": {},
   "outputs": [
    {
     "data": {
      "text/plain": [
       "torch.Size([11])"
      ]
     },
     "execution_count": 9,
     "metadata": {},
     "output_type": "execute_result"
    }
   ],
   "source": [
    "y_t.shape"
   ]
  },
  {
   "cell_type": "code",
   "execution_count": 10,
   "metadata": {},
   "outputs": [],
   "source": [
    "value, index = platipus.phase3_active_learning(x_t, y_t, xss_torch)"
   ]
  },
  {
   "cell_type": "code",
   "execution_count": 11,
   "metadata": {},
   "outputs": [
    {
     "name": "stdout",
     "output_type": "stream",
     "text": [
      "tensor(0.5556, device='cuda:1', grad_fn=<MinBackward0>) tensor(9275, device='cuda:1')\n"
     ]
    }
   ],
   "source": [
    "print(value, index)"
   ]
  },
  {
   "cell_type": "code",
   "execution_count": 16,
   "metadata": {},
   "outputs": [],
   "source": [
    "set_id = 1 \n",
    "iters, all_data, all_labels, x_t, y_t, x_v, y_v = platipus[0].setup_active_learning(set_id, 'JMXLWMIFDJCGBV-UHFFFAOYSA-N')"
   ]
  },
  {
   "cell_type": "code",
   "execution_count": 18,
   "metadata": {},
   "outputs": [],
   "source": [
    "xss_torch0 = torch.from_numpy(x_stateset[0][:10000]).float().to(device[0])\n",
    "value0, index0 = platipus[0].phase3_active_learning(x_t, y_t, xss_torch0)"
   ]
  },
  {
   "cell_type": "code",
   "execution_count": 19,
   "metadata": {},
   "outputs": [
    {
     "name": "stdout",
     "output_type": "stream",
     "text": [
      "tensor(0.5000, device='cuda:0', grad_fn=<MinBackward0>) tensor(8205, device='cuda:0')\n"
     ]
    }
   ],
   "source": [
    "print(value0, index0)\n",
    "del value0\n",
    "torch.cuda.empty_cache()"
   ]
  },
  {
   "cell_type": "code",
   "execution_count": 19,
   "metadata": {},
   "outputs": [],
   "source": [
    "xss_torch1 = torch.from_numpy(x_stateset_set1[10000:]).float().to(device_set1)\n",
    "value1, index1 = platipus_set1.phase3_active_learning(x_t, y_t, xss_torch1)"
   ]
  },
  {
   "cell_type": "code",
   "execution_count": 20,
   "metadata": {},
   "outputs": [
    {
     "name": "stdout",
     "output_type": "stream",
     "text": [
      "tensor(0.5000, device='cuda:1', grad_fn=<MinBackward0>) tensor(6125, device='cuda:1')\n"
     ]
    }
   ],
   "source": [
    "print(value1, index1)\n",
    "del value1\n",
    "torch.cuda.empty_cache()"
   ]
  },
  {
   "cell_type": "code",
   "execution_count": 20,
   "metadata": {},
   "outputs": [
    {
     "data": {
      "text/plain": [
       "Reagent1 (ul)     46\n",
       "Reagent2 (ul)     20\n",
       "Reagent3 (ul)    324\n",
       "Reagent4 (ul)      0\n",
       "Reagent5 (ul)      0\n",
       "Reagent6 (ul)      0\n",
       "Reagent7 (ul)    110\n",
       "Reagent8 (ul)      0\n",
       "Reagent9 (ul)      0\n",
       "Name: 8205, dtype: int64"
      ]
     },
     "execution_count": 20,
     "metadata": {},
     "output_type": "execute_result"
    }
   ],
   "source": [
    "rvol_raw =  pd.read_csv('./extra_data/Me2NH2I_10uL_stateset.link.csv')\n",
    "ss_reagent_vols = rvol_raw[[col for col in rvol_raw.columns if 'Reagent' in col]]\n",
    "ss_reagent_vols.iloc[8205]"
   ]
  },
  {
   "cell_type": "markdown",
   "metadata": {},
   "source": [
    "## PLATIPUS SET 1"
   ]
  },
  {
   "cell_type": "code",
   "execution_count": 13,
   "metadata": {},
   "outputs": [],
   "source": [
    "set_id = 1\n",
    "iters, all_data, all_labels, x_t, y_t, x_v, y_v = platipus_set1.setup_active_learning(set_id, 'JMXLWMIFDJCGBV-UHFFFAOYSA-N')"
   ]
  },
  {
   "cell_type": "code",
   "execution_count": 14,
   "metadata": {},
   "outputs": [],
   "source": [
    "xss_torch0 = torch.from_numpy(x_stateset_set0[:10000]).float().to(device_set1)\n",
    "xss_torch1 = torch.from_numpy(x_stateset_set0[10000:]).float().to(device_set1)"
   ]
  },
  {
   "cell_type": "code",
   "execution_count": 15,
   "metadata": {},
   "outputs": [],
   "source": [
    "results = {\n",
    "    17833:0,\n",
    "    9275:0,\n",
    "    6470:0,\n",
    "}\n",
    "for exp_num in results:\n",
    "    if exp_num >= 10000:\n",
    "        x_t = torch.cat((x_t, xss_torch1[exp_num-10000].view(1, 50)))\n",
    "        y_t = torch.cat((y_t, torch.from_numpy(np.array([results[exp_num]])).to(device_set1)))\n",
    "    else:\n",
    "        x_t = torch.cat((x_t, xss_torch1[exp_num].view(1, 50)))\n",
    "        y_t = torch.cat((y_t, torch.from_numpy(np.array([results[exp_num]])).to(device_set1)))"
   ]
  },
  {
   "cell_type": "code",
   "execution_count": 16,
   "metadata": {},
   "outputs": [
    {
     "name": "stdout",
     "output_type": "stream",
     "text": [
      "tensor(0.5018, device='cuda:1', grad_fn=<MinBackward0>) tensor(2378, device='cuda:1')\n"
     ]
    }
   ],
   "source": [
    "value0, index0 = platipus_set1.phase3_active_learning(x_t, y_t, xss_torch0)\n",
    "print(value0, index0)\n",
    "del value0\n",
    "del index0\n",
    "torch.cuda.empty_cache()"
   ]
  },
  {
   "cell_type": "code",
   "execution_count": 17,
   "metadata": {},
   "outputs": [
    {
     "name": "stdout",
     "output_type": "stream",
     "text": [
      "tensor(0.6820, device='cuda:1', grad_fn=<MinBackward0>) tensor(589, device='cuda:1')\n"
     ]
    }
   ],
   "source": [
    "value1, index1 = platipus_set1.phase3_active_learning(x_t, y_t, xss_torch1)\n",
    "print(value1, index1)\n",
    "del value1\n",
    "torch.cuda.empty_cache()"
   ]
  },
  {
   "cell_type": "code",
   "execution_count": 18,
   "metadata": {},
   "outputs": [
    {
     "data": {
      "text/plain": [
       "Reagent1 (ul)      6\n",
       "Reagent2 (ul)    280\n",
       "Reagent3 (ul)      4\n",
       "Reagent4 (ul)      0\n",
       "Reagent5 (ul)      0\n",
       "Reagent6 (ul)      0\n",
       "Reagent7 (ul)    210\n",
       "Reagent8 (ul)      0\n",
       "Reagent9 (ul)      0\n",
       "Name: 2378, dtype: int64"
      ]
     },
     "execution_count": 18,
     "metadata": {},
     "output_type": "execute_result"
    }
   ],
   "source": [
    "ss_reagent_vols_set0.iloc[2378]"
   ]
  },
  {
   "cell_type": "code",
   "execution_count": 10,
   "metadata": {},
   "outputs": [],
   "source": [
    "results = {}\n",
    "results[0] = {10022:1, 1441:0, 6127:0, 9716:0, 8205:0, 7177:0, 17269:1, 15434:0, 10040:1, 9958:0}\n",
    "results[1] = {17833:0, 9275:0, 6470:0, 2378:1, 6890:0, 17171:0, 16771:0, 14533:0, 5180:1, 13862:0}\n",
    "phase3dataset = pickle.load(open('../data/phase3_dataset.pkl', 'rb'))\n",
    "dataset0 = phase3dataset.get_dataset('ALHk', 0, 'random')['JMXLWMIFDJCGBV-UHFFFAOYSA-N']\n",
    "dataset1 = phase3dataset.get_dataset('ALHk', 1, 'random')['JMXLWMIFDJCGBV-UHFFFAOYSA-N']"
   ]
  },
  {
   "cell_type": "code",
   "execution_count": 14,
   "metadata": {},
   "outputs": [],
   "source": [
    "from sklearn.metrics import confusion_matrix, accuracy_score, precision_score, recall_score, balanced_accuracy_score\n",
    "def predict(x_t, y_t, set_id, all_data, all_labels): \n",
    "    phi = platipus[set_id].setup_weight_dist(x_t, y_t)\n",
    "    prob_pred, labels_pred = platipus[set_id].predict(all_data, phi=phi, proba=True)\n",
    "    correct = labels_pred == all_labels\n",
    "\n",
    "    y_true = all_labels\n",
    "    y_pred = labels_pred.detach().cpu().numpy()\n",
    "    print(y_true, y_pred)\n",
    "    print(prob_pred)\n",
    "    cm = confusion_matrix(y_true, y_pred)\n",
    "    accuracy = accuracy_score(y_true, y_pred)\n",
    "    precision = precision_score(y_true, y_pred)\n",
    "    recall = recall_score(y_true, y_pred)\n",
    "    bcr = balanced_accuracy_score(y_true, y_pred)\n",
    "    \n",
    "    return accuracy, precision, recall, bcr"
   ]
  },
  {
   "cell_type": "code",
   "execution_count": 12,
   "metadata": {},
   "outputs": [],
   "source": [
    "xss_torch0 = {}\n",
    "xss_torch1 = {}\n",
    "x_t = {}\n",
    "y_t = {}\n",
    "for i in range(2):\n",
    "    iters, all_data, all_labels, x_train, y_train, x_v, y_v = platipus[i].setup_active_learning(i, 'JMXLWMIFDJCGBV-UHFFFAOYSA-N')\n",
    "    x_t[i] = x_train\n",
    "    y_t[i] = y_train\n",
    "    xss_torch0[i] = torch.from_numpy(x_stateset[i][:10000]).float().to(device[i])\n",
    "    xss_torch1[i] = torch.from_numpy(x_stateset[i][10000:]).float().to(device[i])\n",
    "    for exp_num in results[i]:\n",
    "        if exp_num >= 10000:\n",
    "            index = exp_num-10000\n",
    "            x_t[i] = torch.cat((x_t[i], xss_torch1[i][index].view(1, 50)))\n",
    "            y_t[i] = torch.cat((y_t[i], torch.from_numpy(np.array([results[i][exp_num]])).to(device[i])))\n",
    "        else:\n",
    "            index = exp_num\n",
    "            x_t[i] = torch.cat((x_t[i], xss_torch0[i][exp_num].view(1, 50)))\n",
    "            y_t[i] = torch.cat((y_t[i], torch.from_numpy(np.array([results[i][exp_num]])).to(device[i])))"
   ]
  },
  {
   "cell_type": "code",
   "execution_count": 15,
   "metadata": {},
   "outputs": [
    {
     "name": "stdout",
     "output_type": "stream",
     "text": [
      "[0 0 0 0 0 1 0 0 0 0 0 0 0 0 0 0 0 0 0 0 1 1 0 0 0 0 0 0 0 0 1 0 0 0 0 1 0\n",
      " 1 0 0 0 0 1 1 0 0 0 0 1 1 0 0 0 1 0 0 0 1 0 1 0 0 0 0 0 0 0 0 0 0 1 0 0 0\n",
      " 0 0 0 0 0 0 0 0 0 0 0 0 0 0 0 0 0 0 1 0 0] [1 1 1 1 1 1 1 1 1 1 1 1 1 1 1 1 1 1 1 1 1 1 1 1 1 1 1 1 1 1 1 1 1 1 1 1 1\n",
      " 1 1 1 1 1 1 1 1 1 1 1 1 1 1 1 1 1 1 1 1 1 1 1 1 1 1 1 1 1 1 1 1 1 1 1 1 1\n",
      " 1 1 1 1 1 1 1 1 1 1 1 1 1 1 1 1 1 1 1 1 1]\n",
      "tensor([0.6772, 0.6584, 0.5430, 0.7584, 0.6428, 0.6252, 0.5757, 0.6962, 0.6380,\n",
      "        0.6023, 0.5885, 0.7045, 0.6839, 0.7567, 0.5814, 0.6329, 0.6521, 0.5508,\n",
      "        0.5646, 0.6967, 0.6314, 0.6347, 0.6066, 0.5593, 0.6097, 0.6203, 0.6814,\n",
      "        0.6769, 0.5656, 0.6008, 0.7260, 0.6049, 0.6703, 0.6096, 0.6033, 0.7606,\n",
      "        0.6222, 0.7656, 0.5302, 0.5915, 0.5345, 0.6655, 0.7278, 0.6027, 0.5924,\n",
      "        0.6385, 0.5791, 0.5876, 0.6252, 0.6611, 0.5443, 0.7558, 0.5634, 0.6753,\n",
      "        0.5514, 0.5649, 0.6506, 0.6827, 0.5735, 0.7133, 0.6483, 0.5572, 0.7157,\n",
      "        0.6248, 0.5687, 0.5831, 0.6426, 0.6908, 0.6118, 0.5924, 0.6708, 0.6603,\n",
      "        0.6500, 0.5653, 0.5914, 0.5869, 0.6319, 0.5843, 0.5355, 0.6117, 0.5809,\n",
      "        0.7500, 0.5545, 0.5980, 0.5487, 0.7201, 0.6359, 0.5464, 0.7557, 0.5852,\n",
      "        0.5884, 0.7319, 0.6682, 0.6332, 0.5993], device='cuda:0',\n",
      "       grad_fn=<MaxBackward0>)\n"
     ]
    },
    {
     "data": {
      "text/plain": [
       "(0.15789473684210525, 0.15789473684210525, 1.0, 0.5)"
      ]
     },
     "execution_count": 15,
     "metadata": {},
     "output_type": "execute_result"
    }
   ],
   "source": [
    "predict(x_t[0], y_t[0], 0, dataset0['x_v'], dataset0['y_v'])"
   ]
  },
  {
   "cell_type": "code",
   "execution_count": null,
   "metadata": {},
   "outputs": [],
   "source": []
  }
 ],
 "metadata": {
  "hide_input": false,
  "kernelspec": {
   "display_name": "Python 3",
   "language": "python",
   "name": "python3"
  },
  "language_info": {
   "codemirror_mode": {
    "name": "ipython",
    "version": 3
   },
   "file_extension": ".py",
   "mimetype": "text/x-python",
   "name": "python",
   "nbconvert_exporter": "python",
   "pygments_lexer": "ipython3",
   "version": "3.7.0"
  }
 },
 "nbformat": 4,
 "nbformat_minor": 2
}
