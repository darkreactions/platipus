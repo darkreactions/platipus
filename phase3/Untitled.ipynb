{
 "cells": [
  {
   "cell_type": "markdown",
   "metadata": {},
   "source": [
    "# This notebook is for the KNN model\n"
   ]
  },
  {
   "cell_type": "code",
   "execution_count": 20,
   "metadata": {},
   "outputs": [],
   "source": [
    "import pandas as pd\n",
    "import numpy as np\n",
    "import qgrid\n",
    "from sklearn.preprocessing import StandardScaler\n",
    "from sklearn.neighbors import KNeighborsClassifier\n",
    "from modAL.models import ActiveLearner"
   ]
  },
  {
   "cell_type": "markdown",
   "metadata": {},
   "source": [
    "Set up Training Data"
   ]
  },
  {
   "cell_type": "code",
   "execution_count": 11,
   "metadata": {},
   "outputs": [],
   "source": [
    "#All amines except for dimethylammonium iodide\n",
    "viable_amines = ['ZEVRFFCPALTVDN-UHFFFAOYSA-N',\n",
    "                  'KFQARYBEAKAXIC-UHFFFAOYSA-N',\n",
    "                  'NLJDBTZLVTWXRG-UHFFFAOYSA-N',\n",
    "                  'LCTUISCIGMWMAT-UHFFFAOYSA-N',\n",
    "                  'JERSPYRKVMAEJY-UHFFFAOYSA-N',\n",
    "                  'VAWHFUNJDMQUSB-UHFFFAOYSA-N',\n",
    "                  'WGYRINYTHSORGH-UHFFFAOYSA-N',\n",
    "                  'FCTHQYIDLRRROX-UHFFFAOYSA-N',\n",
    "                  'VNAAUNTYIONOHR-UHFFFAOYSA-N',\n",
    "                  'KOAGKPNEVYEZDU-UHFFFAOYSA-N',\n",
    "                  'FJFIJIDZQADKEE-UHFFFAOYSA-N',\n",
    "                  'XFYICZOIWSBQSK-UHFFFAOYSA-N',\n",
    "                  'KFXBDBPOGBBVMC-UHFFFAOYSA-N',\n",
    "                  'HBPSMMXRESDUSG-UHFFFAOYSA-N',\n",
    "                  'NXRUEVJQMBGVAT-UHFFFAOYSA-N',\n",
    "                  'CALQKRVFTWDYDG-UHFFFAOYSA-N',\n",
    "                  'LLWRXQXPJMPHLR-UHFFFAOYSA-N',\n",
    "                  'BAMDIFIROXTEEM-UHFFFAOYSA-N',\n",
    "                  'XZUCBFLUEBDNSJ-UHFFFAOYSA-N']\n",
    "\n",
    "distribution_header = '_raw_modelname'\n",
    "amine_header = '_rxn_organic-inchikey'\n",
    "score_header = '_out_crystalscore'\n",
    "name_header = 'name'\n",
    "to_exclude = [score_header, amine_header,\n",
    "              name_header, distribution_header, '_raw_RelativeHumidity']\n",
    "bool_cols = ['_solv_GBL',\n",
    "                  '_solv_DMSO',\n",
    "                  '_solv_DMF',\n",
    "                  '_feat_primaryAmine',\n",
    "                  '_feat_secondaryAmine',\n",
    "                  '_rxn_plateEdgeQ']\n",
    "\n",
    "df = pd.read_csv('../data/raw/0057.perovskitedata_DRPFeatures_2020-07-02.csv')\n",
    "df = df[df[distribution_header].str.contains('Uniform')]\n",
    "df = df[df[amine_header].isin(viable_amines)]\n",
    "\n",
    "df[score_header] = [1 if val == 4 else 0 for val in\n",
    "                         df[score_header].values]\n",
    "y = df[score_header].values\n",
    "df = df.drop(to_exclude, axis=1)\n",
    "binary_cols = df[bool_cols].values\n",
    "df = df.drop(bool_cols, axis=1).values\n",
    "\n",
    "scaler = StandardScaler()\n",
    "std_df = scaler.fit_transform(df)"
   ]
  },
  {
   "cell_type": "code",
   "execution_count": 18,
   "metadata": {},
   "outputs": [
    {
     "data": {
      "text/plain": [
       "(1626, 50)"
      ]
     },
     "execution_count": 18,
     "metadata": {},
     "output_type": "execute_result"
    }
   ],
   "source": [
    "training_df = np.concatenate((std_df, binary_cols), axis = 1)\n",
    "training_df.shape"
   ]
  },
  {
   "cell_type": "code",
   "execution_count": 21,
   "metadata": {},
   "outputs": [],
   "source": [
    "knn = KNeighborsClassifier(n_neighbors=1,leaf_size=1, p=1)\n",
    "learner = ActiveLearner(estimator=knn, X_training=training_df, y_training=y.ravel())"
   ]
  },
  {
   "cell_type": "code",
   "execution_count": 36,
   "metadata": {},
   "outputs": [
    {
     "data": {
      "text/plain": [
       "(96, 696)"
      ]
     },
     "execution_count": 36,
     "metadata": {},
     "output_type": "execute_result"
    }
   ],
   "source": [
    "raw_df = pd.read_csv('../data/raw/0057.perovskitedata_redone_2020-07-02.csv', low_memory=False)\n",
    "raw_df = raw_df[raw_df[distribution_header].str.contains('Uniform')]\n",
    "raw_df = raw_df[raw_df['_raw_organic_0_inchikey'].isin(['JMXLWMIFDJCGBV-UHFFFAOYSA-N'])]\n",
    "raw_df.shape"
   ]
  },
  {
   "cell_type": "code",
   "execution_count": 37,
   "metadata": {},
   "outputs": [],
   "source": [
    "raw_df.to_csv('raw_dimethyl_finished.csv')"
   ]
  },
  {
   "cell_type": "code",
   "execution_count": 38,
   "metadata": {},
   "outputs": [],
   "source": [
    "df = pd.read_csv('../data/raw/0057.perovskitedata_DRPFeatures_2020-07-02.csv')\n",
    "df = df[df[distribution_header].str.contains('Uniform')]\n",
    "df.to_csv('dimethyl_processed.csv')"
   ]
  },
  {
   "cell_type": "code",
   "execution_count": null,
   "metadata": {},
   "outputs": [],
   "source": []
  }
 ],
 "metadata": {
  "hide_input": false,
  "kernelspec": {
   "display_name": "Python 3.7.4 64-bit ('nextgen': conda)",
   "language": "python",
   "name": "python37464bitnextgenconda63957ce9bd7747d59c962194584a8d15"
  },
  "language_info": {
   "codemirror_mode": {
    "name": "ipython",
    "version": 3
   },
   "file_extension": ".py",
   "mimetype": "text/x-python",
   "name": "python",
   "nbconvert_exporter": "python",
   "pygments_lexer": "ipython3",
   "version": "3.7.4"
  }
 },
 "nbformat": 4,
 "nbformat_minor": 2
}
