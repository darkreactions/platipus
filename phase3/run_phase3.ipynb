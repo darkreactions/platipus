{
 "cells": [
  {
   "cell_type": "markdown",
   "metadata": {},
   "source": [
    "## Process\n",
    "\n",
    "- Each model has it's own csv file from which it queries the next points in the AL loop\n",
    "- This csv links back to enumerated grid/pool of experiments (csv with volumes and concentrations)\n",
    "- Separate dataframe for model training that has the same indices \n",
    "- Experimentalists need volume data\n",
    "- Models do not need volume data\n",
    "https://modal-python.readthedocs.io/en/latest/content/examples/pool-based_sampling.html"
   ]
  },
  {
   "cell_type": "code",
   "execution_count": 1,
   "metadata": {},
   "outputs": [],
   "source": [
    "import pandas as pd\n",
    "import qgrid"
   ]
  },
  {
   "cell_type": "code",
   "execution_count": 2,
   "metadata": {},
   "outputs": [
    {
     "data": {
      "text/html": [
       "<div>\n",
       "<style scoped>\n",
       "    .dataframe tbody tr th:only-of-type {\n",
       "        vertical-align: middle;\n",
       "    }\n",
       "\n",
       "    .dataframe tbody tr th {\n",
       "        vertical-align: top;\n",
       "    }\n",
       "\n",
       "    .dataframe thead th {\n",
       "        text-align: right;\n",
       "    }\n",
       "</style>\n",
       "<table border=\"1\" class=\"dataframe\">\n",
       "  <thead>\n",
       "    <tr style=\"text-align: right;\">\n",
       "      <th></th>\n",
       "      <th>_rxn_M_acid</th>\n",
       "      <th>_rxn_M_inorganic</th>\n",
       "      <th>_rxn_M_organic</th>\n",
       "    </tr>\n",
       "  </thead>\n",
       "  <tbody>\n",
       "    <tr>\n",
       "      <td>0</td>\n",
       "      <td>14.842494</td>\n",
       "      <td>0.0000</td>\n",
       "      <td>1.012</td>\n",
       "    </tr>\n",
       "    <tr>\n",
       "      <td>1</td>\n",
       "      <td>14.842494</td>\n",
       "      <td>0.1860</td>\n",
       "      <td>0.966</td>\n",
       "    </tr>\n",
       "    <tr>\n",
       "      <td>2</td>\n",
       "      <td>14.842494</td>\n",
       "      <td>0.1488</td>\n",
       "      <td>0.966</td>\n",
       "    </tr>\n",
       "    <tr>\n",
       "      <td>3</td>\n",
       "      <td>14.842494</td>\n",
       "      <td>0.1116</td>\n",
       "      <td>0.966</td>\n",
       "    </tr>\n",
       "    <tr>\n",
       "      <td>4</td>\n",
       "      <td>14.842494</td>\n",
       "      <td>0.0744</td>\n",
       "      <td>0.966</td>\n",
       "    </tr>\n",
       "    <tr>\n",
       "      <td>...</td>\n",
       "      <td>...</td>\n",
       "      <td>...</td>\n",
       "      <td>...</td>\n",
       "    </tr>\n",
       "    <tr>\n",
       "      <td>20353</td>\n",
       "      <td>0.000000</td>\n",
       "      <td>0.0372</td>\n",
       "      <td>0.092</td>\n",
       "    </tr>\n",
       "    <tr>\n",
       "      <td>20354</td>\n",
       "      <td>0.000000</td>\n",
       "      <td>0.0000</td>\n",
       "      <td>0.092</td>\n",
       "    </tr>\n",
       "    <tr>\n",
       "      <td>20355</td>\n",
       "      <td>0.000000</td>\n",
       "      <td>0.0372</td>\n",
       "      <td>0.046</td>\n",
       "    </tr>\n",
       "    <tr>\n",
       "      <td>20356</td>\n",
       "      <td>0.000000</td>\n",
       "      <td>0.0000</td>\n",
       "      <td>0.046</td>\n",
       "    </tr>\n",
       "    <tr>\n",
       "      <td>20357</td>\n",
       "      <td>0.000000</td>\n",
       "      <td>0.0000</td>\n",
       "      <td>0.000</td>\n",
       "    </tr>\n",
       "  </tbody>\n",
       "</table>\n",
       "<p>20358 rows × 3 columns</p>\n",
       "</div>"
      ],
      "text/plain": [
       "       _rxn_M_acid  _rxn_M_inorganic  _rxn_M_organic\n",
       "0        14.842494            0.0000           1.012\n",
       "1        14.842494            0.1860           0.966\n",
       "2        14.842494            0.1488           0.966\n",
       "3        14.842494            0.1116           0.966\n",
       "4        14.842494            0.0744           0.966\n",
       "...            ...               ...             ...\n",
       "20353     0.000000            0.0372           0.092\n",
       "20354     0.000000            0.0000           0.092\n",
       "20355     0.000000            0.0372           0.046\n",
       "20356     0.000000            0.0000           0.046\n",
       "20357     0.000000            0.0000           0.000\n",
       "\n",
       "[20358 rows x 3 columns]"
      ]
     },
     "execution_count": 2,
     "metadata": {},
     "output_type": "execute_result"
    }
   ],
   "source": [
    "df = pd.read_csv('knn.csv')\n",
    "training_raw = pd.read_csv('../data/raw/0057.perovskitedata_DRPFeatures_2020-07-02.csv')\n",
    "\n",
    "X_train = training_raw[['_rxn_M_acid', '_rxn_M_inorganic', '_rxn_M_organic']]\n",
    "Y_train = training_raw[['_out_crystalscore']]\n",
    "stateset_raw = pd.read_csv('../data/phase3/Me2NH2I/Me2NH2I_10uL_stateset.csv')\n",
    "X_stateset = stateset_raw[['_rxn_M_acid', '_rxn_M_inorganic', '_rxn_M_organic']]\n",
    "vol_stateset = stateset_raw[['Reagent1 (ul)','Reagent2 (ul)','Reagent3 (ul)','Reagent7 (ul)']]\n",
    "X_stateset"
   ]
  },
  {
   "cell_type": "code",
   "execution_count": 3,
   "metadata": {},
   "outputs": [
    {
     "data": {
      "application/vnd.jupyter.widget-view+json": {
       "model_id": "76a8802115ef4c619f6dd48a829d46a4",
       "version_major": 2,
       "version_minor": 0
      },
      "text/plain": [
       "QgridWidget(grid_options={'fullWidthRows': True, 'syncColumnCellResize': True, 'forceFitColumns': True, 'defau…"
      ]
     },
     "metadata": {},
     "output_type": "display_data"
    }
   ],
   "source": [
    "widget = qgrid.show_grid(df, show_toolbar=True)\n",
    "widget"
   ]
  },
  {
   "cell_type": "code",
   "execution_count": 26,
   "metadata": {},
   "outputs": [],
   "source": [
    "from sklearn.neighbors import KNeighborsClassifier\n",
    "from modAL.models import ActiveLearner\n",
    "\n",
    "knn = KNeighborsClassifier(n_neighbors=1)\n",
    "learner = ActiveLearner(estimator=knn, X_training=X_train.to_numpy(), y_training=Y_train.to_numpy().ravel())"
   ]
  },
  {
   "cell_type": "code",
   "execution_count": 28,
   "metadata": {},
   "outputs": [
    {
     "name": "stdout",
     "output_type": "stream",
     "text": [
      "[0] [[14.84249403  0.          1.012     ]]\n"
     ]
    },
    {
     "data": {
      "text/html": [
       "<div>\n",
       "<style scoped>\n",
       "    .dataframe tbody tr th:only-of-type {\n",
       "        vertical-align: middle;\n",
       "    }\n",
       "\n",
       "    .dataframe tbody tr th {\n",
       "        vertical-align: top;\n",
       "    }\n",
       "\n",
       "    .dataframe thead th {\n",
       "        text-align: right;\n",
       "    }\n",
       "</style>\n",
       "<table border=\"1\" class=\"dataframe\">\n",
       "  <thead>\n",
       "    <tr style=\"text-align: right;\">\n",
       "      <th></th>\n",
       "      <th>Reagent1 (ul)</th>\n",
       "      <th>Reagent2 (ul)</th>\n",
       "      <th>Reagent3 (ul)</th>\n",
       "      <th>Reagent7 (ul)</th>\n",
       "    </tr>\n",
       "  </thead>\n",
       "  <tbody>\n",
       "    <tr>\n",
       "      <td>0</td>\n",
       "      <td>0</td>\n",
       "      <td>0</td>\n",
       "      <td>220</td>\n",
       "      <td>280</td>\n",
       "    </tr>\n",
       "  </tbody>\n",
       "</table>\n",
       "</div>"
      ],
      "text/plain": [
       "   Reagent1 (ul)  Reagent2 (ul)  Reagent3 (ul)  Reagent7 (ul)\n",
       "0              0              0            220            280"
      ]
     },
     "execution_count": 28,
     "metadata": {},
     "output_type": "execute_result"
    }
   ],
   "source": [
    "query_index, query_instance = learner.query(X_stateset.to_numpy())\n",
    "print(query_index, query_instance)\n",
    "vol_stateset.iloc[query_index]"
   ]
  },
  {
   "cell_type": "code",
   "execution_count": 30,
   "metadata": {},
   "outputs": [],
   "source": [
    "score = [1]\n",
    "learner.teach(query_instance, score)"
   ]
  },
  {
   "cell_type": "code",
   "execution_count": null,
   "metadata": {},
   "outputs": [],
   "source": []
  }
 ],
 "metadata": {
  "hide_input": false,
  "kernelspec": {
   "display_name": "Python 3.7.4 64-bit ('nextgen': conda)",
   "language": "python",
   "name": "python37464bitnextgenconda63957ce9bd7747d59c962194584a8d15"
  },
  "language_info": {
   "codemirror_mode": {
    "name": "ipython",
    "version": 3
   },
   "file_extension": ".py",
   "mimetype": "text/x-python",
   "name": "python",
   "nbconvert_exporter": "python",
   "pygments_lexer": "ipython3",
   "version": "3.7.4"
  }
 },
 "nbformat": 4,
 "nbformat_minor": 2
}
