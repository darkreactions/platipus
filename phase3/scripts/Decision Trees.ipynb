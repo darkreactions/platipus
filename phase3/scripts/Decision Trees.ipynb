{
 "cells": [
  {
   "cell_type": "code",
   "execution_count": 1,
   "metadata": {},
   "outputs": [],
   "source": [
    "from pathlib import Path\n",
    "import sys\n",
    "import pandas as pd\n",
    "import numpy as np\n",
    "#import qgrid\n",
    "import pickle\n",
    "import sklearn\n",
    "from datetime import datetime\n",
    "#from sklearn.neighbors import KNeighborsClassifier\n",
    "from sklearn.tree import DecisionTreeClassifier\n",
    "from modAL.models import ActiveLearner\n",
    "\n",
    "package_path = Path.cwd().parent\n",
    "if package_path not in sys.path:\n",
    "    sys.path.append(str(package_path))\n",
    "\n",
    "from utils.dataset_class import Phase3DataSet, Setting\n",
    "from custom_pipeline import get_model_pkl, dump_model_pkl"
   ]
  },
  {
   "cell_type": "code",
   "execution_count": 2,
   "metadata": {},
   "outputs": [],
   "source": [
    "training_raw = pd.read_csv('../data/raw/0057.perovskitedata_DRPFeatures_2020-07-02.csv')\n",
    "phase3_training = pickle.load(open('phase3_dataset.pkl', 'rb'))"
   ]
  },
  {
   "cell_type": "markdown",
   "metadata": {},
   "source": [
    "## Set up data"
   ]
  },
  {
   "cell_type": "code",
   "execution_count": 3,
   "metadata": {},
   "outputs": [],
   "source": [
    "dataset0 = phase3_training.get_dataset('ALHk', 0, 'random')['JMXLWMIFDJCGBV-UHFFFAOYSA-N']\n",
    "dataset1 = phase3_training.get_dataset('ALHk', 1, 'random')['JMXLWMIFDJCGBV-UHFFFAOYSA-N']\n"
   ]
  },
  {
   "cell_type": "markdown",
   "metadata": {},
   "source": [
    "## Initial set up, uncomment if no model files exist"
   ]
  },
  {
   "cell_type": "code",
   "execution_count": 9,
   "metadata": {},
   "outputs": [],
   "source": [
    "\"\"\"\n",
    "dt = DecisionTreeClassifier(**{'criterion': 'gini', 'splitter': 'best', 'max_depth': 9, 'min_samples_split': 6, 'min_samples_leaf': 3, 'class_weight': {0: 0.2520408163265306, 1: 0.7479591836734694}})\n",
    "learner = ActiveLearner(estimator=dt, X_training=dataset0['x_t'], y_training=dataset0['y_t'])\n",
    "dump_model_pkl(learner, 'dt', 0, 0)\n",
    "\n",
    "dt = DecisionTreeClassifier(**{'criterion': 'gini', 'splitter': 'best', 'max_depth': 9, 'min_samples_split': 6, 'min_samples_leaf': 3, 'class_weight': {0: 0.2520408163265306, 1: 0.7479591836734694}})\n",
    "learner = ActiveLearner(estimator=dt, X_training=dataset1['x_t'], y_training=dataset1['y_t'])\n",
    "dump_model_pkl(learner, 'dt', 1, 0)\n",
    "\n",
    "\n",
    "query_indices_set0 = []\n",
    "query_indices_set1 = []\n",
    "\n",
    "query_instances_set0 = []\n",
    "query_instances_set1 = []\n",
    "\n",
    "pickle.dump(query_indices_set0, Path('./dt/q_idx_set0.pkl').open('wb'))\n",
    "pickle.dump(query_indices_set1, Path('./dt/q_idx_set1.pkl').open('wb'))\n",
    "\n",
    "pickle.dump(query_instances_set0, Path('./dt/q_inst_set0.pkl').open('wb'))\n",
    "pickle.dump(query_instances_set1, Path('./dt/q_inst_set1.pkl').open('wb'))\n",
    "\n",
    "\"\"\""
   ]
  },
  {
   "cell_type": "markdown",
   "metadata": {},
   "source": [
    "## Set up model and data"
   ]
  },
  {
   "cell_type": "code",
   "execution_count": 23,
   "metadata": {},
   "outputs": [
    {
     "output_type": "stream",
     "name": "stdout",
     "text": [
      "Loading dt/dt_set0_it1_20201203-134407.pkl : Iteration 1\nLoading dt/dt_set1_it1_20201203-134409.pkl : Iteration 1\n"
     ]
    }
   ],
   "source": [
    "dt_set0, iteration_set0 = get_model_pkl('dt', 0)\n",
    "dt_set1, iteration_set1 = get_model_pkl('dt', 1)\n",
    "\n",
    "query_indices_set0 = pickle.load(Path('./dt/q_idx_set0.pkl').open('rb'))\n",
    "query_indices_set1 = pickle.load(Path('./dt/q_idx_set1.pkl').open('rb'))\n",
    "\n",
    "query_instances_set0 = pickle.load(Path('./dt/q_inst_set0.pkl').open('rb'))\n",
    "query_instances_set1 = pickle.load(Path('./dt/q_inst_set1.pkl').open('rb'))\n",
    "\n",
    "x_stateset_set0 = np.genfromtxt(f'./statesets/scaled_stateset_{datetime.today().date()}.csv', delimiter=',')\n",
    "x_stateset_set1 = np.genfromtxt(f'./statesets/scaled_stateset_{datetime.today().date()}.csv', delimiter=',')\n",
    "\n",
    "rvol_raw_set0 = pd.read_csv('./extra_data/Me2NH2I_10uL_stateset.link.csv')\n",
    "rvol_raw_set1 = pd.read_csv('./extra_data/Me2NH2I_10uL_stateset.link.csv')\n",
    "\n",
    "ss_reagent_vols_set0 = rvol_raw_set0[[col for col in rvol_raw_set0.columns if 'Reagent' in col]]\n",
    "ss_reagent_vols_set1 = rvol_raw_set1[[col for col in rvol_raw_set1.columns if 'Reagent' in col]]\n",
    "\n",
    "\n",
    "#for idx in query_indices_set0:\n",
    "ss_reagent_vols_set0.drop(ss_reagent_vols_set0.index[query_indices_set0], inplace=True)\n",
    "x_stateset_set0 = np.delete(x_stateset_set0, query_indices_set0, 0)\n",
    "    \n",
    "#for idx in query_indices_set1:\n",
    "ss_reagent_vols_set1.drop(ss_reagent_vols_set1.index[query_indices_set1], inplace=True)\n",
    "x_stateset_set1 = np.delete(x_stateset_set1, query_indices_set1, 0)\n"
   ]
  },
  {
   "cell_type": "code",
   "execution_count": 22,
   "metadata": {},
   "outputs": [
    {
     "output_type": "execute_result",
     "data": {
      "text/plain": [
       "[array([ 0.41898329,  0.13600087, -1.48552172, 45.4689449 ,  4.01110624,\n",
       "        -1.25503314,  0.53140101,  0.45277056,  0.19477176,  1.90994895,\n",
       "         0.42845509,  1.9369121 , -0.66195489, -0.51757147, -0.69207406,\n",
       "        -0.19023062, -0.0756783 ,  0.16083379, -0.19574007, -2.10688602,\n",
       "        -1.90816642, -1.99757251, -1.46767537, -0.48342343, -1.63443555,\n",
       "        -1.64141015, -1.23899532, -2.20166869, -1.79895047, -0.95107561,\n",
       "        -0.22080768, -0.92436418,  0.45675948, -1.38178365, -1.42735295,\n",
       "        -0.25048972, -0.63286396, -0.86182278, -1.96785213, -0.63286396,\n",
       "        -1.98146843, -0.28077616, -0.95901859, -0.99658496,  0.        ,\n",
       "         0.        ,  1.        ,  0.        ,  1.        ,  1.        ]),\n",
       " array([ 4.18983288e-01,  2.79392013e-01, -1.51507371e+00,  4.54689449e+01,\n",
       "         4.58461749e+00, -1.27308395e+00,  4.61060283e-01,  7.04437879e-01,\n",
       "         2.67798991e-02,  1.94809366e+00,  5.62072010e-01,  1.98731580e+00,\n",
       "        -5.89575746e-01, -5.74126472e-01, -6.58366852e-01, -1.65283757e-01,\n",
       "        -4.33364419e-02,  1.60833790e-01, -1.95740073e-01, -2.10688602e+00,\n",
       "        -1.90816642e+00, -1.99757251e+00, -1.46767537e+00, -4.83423433e-01,\n",
       "        -1.63443555e+00, -1.64141015e+00, -1.23899532e+00, -2.20166869e+00,\n",
       "        -1.79895047e+00, -9.51075614e-01, -2.20807675e-01, -9.24364179e-01,\n",
       "         4.56759484e-01, -1.38178365e+00, -1.42735295e+00, -2.50489716e-01,\n",
       "        -6.32863963e-01, -8.61822782e-01, -1.96785213e+00, -6.32863963e-01,\n",
       "        -1.98146843e+00, -2.80776157e-01, -9.59018585e-01, -9.96584964e-01,\n",
       "         0.00000000e+00,  0.00000000e+00,  1.00000000e+00,  0.00000000e+00,\n",
       "         1.00000000e+00,  1.00000000e+00])]"
      ]
     },
     "metadata": {},
     "execution_count": 22
    }
   ],
   "source": []
  },
  {
   "cell_type": "markdown",
   "metadata": {},
   "source": [
    "## DT Set 0 Get reagent volumes for next experiment"
   ]
  },
  {
   "cell_type": "code",
   "execution_count": 24,
   "metadata": {
    "scrolled": true
   },
   "outputs": [
    {
     "output_type": "stream",
     "name": "stdout",
     "text": [
      "   Reagent1 (ul)  Reagent2 (ul)  Reagent3 (ul)  Reagent4 (ul)  Reagent5 (ul)  \\\n0              0              0            220              0              0   \n\n   Reagent6 (ul)  Reagent7 (ul)  Reagent8 (ul)  Reagent9 (ul)  \n0              0            280              0              0  \n"
     ]
    }
   ],
   "source": [
    "query_index, query_instance = dt_set0.query(x_stateset_set0)\n",
    "print(ss_reagent_vols_set0.iloc[query_index])"
   ]
  },
  {
   "cell_type": "code",
   "execution_count": 8,
   "metadata": {},
   "outputs": [
    {
     "name": "stdout",
     "output_type": "stream",
     "text": [
      "[ 4.18983288e-01  2.49331447e-01 -1.53436577e+00  4.54689449e+01\n",
      "  4.46438641e+00 -1.28486784e+00  5.09448104e-01  6.36072818e-01\n",
      " -1.05019157e-01  1.92173572e+00  4.58633829e-01  1.95144578e+00\n",
      " -6.05892697e-01 -6.12646912e-01 -6.84981303e-01 -1.54520304e-01\n",
      " -1.56969617e-02  1.60833790e-01 -1.95740073e-01 -2.10688602e+00\n",
      " -1.90816642e+00 -1.99757251e+00 -1.46767537e+00 -4.83423433e-01\n",
      " -1.63443555e+00 -1.64141015e+00 -1.23899532e+00 -2.20166869e+00\n",
      " -1.79895047e+00 -9.51075614e-01 -2.20807675e-01 -9.24364179e-01\n",
      "  4.56759484e-01 -1.38178365e+00 -1.42735295e+00 -2.50489716e-01\n",
      " -6.32863963e-01 -8.61822782e-01 -1.96785213e+00 -6.32863963e-01\n",
      " -1.98146843e+00 -2.80776157e-01 -9.59018585e-01 -9.96584964e-01\n",
      "  0.00000000e+00  0.00000000e+00  1.00000000e+00  0.00000000e+00\n",
      "  1.00000000e+00  1.00000000e+00]\n",
      "Reagent1 (ul)      9\n",
      "Reagent2 (ul)     60\n",
      "Reagent3 (ul)    151\n",
      "Reagent4 (ul)      0\n",
      "Reagent5 (ul)      0\n",
      "Reagent6 (ul)      0\n",
      "Reagent7 (ul)    280\n",
      "Reagent8 (ul)      0\n",
      "Reagent9 (ul)      0\n",
      "Name: 11, dtype: int64\n"
     ]
    }
   ],
   "source": [
    "# Once confirmed above add to list of existing indices\n",
    "query_indices_set0.append(query_index)\n",
    "query_instances_set0.append(query_instance)"
   ]
  },
  {
   "cell_type": "markdown",
   "metadata": {},
   "source": [
    "## DT Set 0 Enter Crystal result\n",
    "### Note: If crystal score is 4 => result = 1\n",
    "### If crystal score is 1, 2 or 3 => result = 0"
   ]
  },
  {
   "cell_type": "code",
   "execution_count": 7,
   "metadata": {},
   "outputs": [],
   "source": [
    "result = 0\n",
    "dt_set0.teach(query_instance, [result])"
   ]
  },
  {
   "cell_type": "markdown",
   "metadata": {},
   "source": [
    "## DT Set 1 Get reagent volumes for next experiment"
   ]
  },
  {
   "cell_type": "code",
   "execution_count": 25,
   "metadata": {},
   "outputs": [
    {
     "output_type": "stream",
     "name": "stdout",
     "text": [
      "(1, 50)\n[8894]\n      Reagent1 (ul)  Reagent2 (ul)  Reagent3 (ul)  Reagent4 (ul)  \\\n8896            350              0             40              0   \n\n      Reagent5 (ul)  Reagent6 (ul)  Reagent7 (ul)  Reagent8 (ul)  \\\n8896              0              0            110              0   \n\n      Reagent9 (ul)  \n8896              0  \n"
     ]
    }
   ],
   "source": [
    "query_index, query_instance = dt_set1.query(x_stateset_set1)\n",
    "print(query_instance.shape)\n",
    "print(query_index)\n",
    "print(ss_reagent_vols_set1.iloc[query_index])"
   ]
  },
  {
   "cell_type": "code",
   "execution_count": 19,
   "metadata": {},
   "outputs": [
    {
     "data": {
      "text/plain": [
       "(1, 50)"
      ]
     },
     "execution_count": 19,
     "metadata": {},
     "output_type": "execute_result"
    }
   ],
   "source": [
    "query_indices_set1.append(query_index)\n",
    "query_instances_set1.append(query_instance)"
   ]
  },
  {
   "cell_type": "markdown",
   "metadata": {},
   "source": [
    "## DT Set 1 Enter Crystal result\n",
    "### Note: If crystal score is 4 => result = 1\n",
    "### If crystal score is 1, 2 or 3 => result = 0"
   ]
  },
  {
   "cell_type": "code",
   "execution_count": 20,
   "metadata": {},
   "outputs": [],
   "source": [
    "result = 0\n",
    "dt_set1.teach(query_instance, [result])"
   ]
  },
  {
   "cell_type": "markdown",
   "metadata": {},
   "source": [
    "## Finish Iteration Set 0"
   ]
  },
  {
   "cell_type": "code",
   "execution_count": 21,
   "metadata": {},
   "outputs": [],
   "source": [
    "iteration_set0 += 1\n",
    "dump_model_pkl(dt_set0, 'dt', 0, iteration_set0)\n",
    "\n",
    "pickle.dump(query_indices_set0, Path('./dt/q_idx_set0.pkl').open('wb'))\n",
    "pickle.dump(query_instances_set0, Path('./dt/q_inst_set0.pkl').open('wb'))"
   ]
  },
  {
   "cell_type": "markdown",
   "metadata": {},
   "source": [
    "## Finish Iteration Set 1"
   ]
  },
  {
   "cell_type": "code",
   "execution_count": 22,
   "metadata": {},
   "outputs": [],
   "source": [
    "iteration_set1 += 1\n",
    "dump_model_pkl(dt_set1, 'dt', 1, iteration_set1)\n",
    "\n",
    "pickle.dump(query_indices_set1, Path('./dt/q_idx_set1.pkl').open('wb'))\n",
    "pickle.dump(query_instances_set1, Path('./dt/q_inst_set1.pkl').open('wb'))"
   ]
  },
  {
   "cell_type": "code",
   "execution_count": 11,
   "metadata": {},
   "outputs": [
    {
     "data": {
      "text/plain": [
       "Reagent1 (ul)    420\n",
       "Reagent2 (ul)      0\n",
       "Reagent3 (ul)     60\n",
       "Reagent4 (ul)      0\n",
       "Reagent5 (ul)      0\n",
       "Reagent6 (ul)      0\n",
       "Reagent7 (ul)     20\n",
       "Reagent8 (ul)      0\n",
       "Reagent9 (ul)      0\n",
       "Name: 17833, dtype: int64"
      ]
     },
     "execution_count": 11,
     "metadata": {},
     "output_type": "execute_result"
    }
   ],
   "source": [
    "x_stateset_set0 = np.genfromtxt(f'./statesets/scaled_stateset_{datetime.today().date()}.csv', delimiter=',')\n",
    "ss_reagent_vols_set1.iloc[17833]"
   ]
  },
  {
   "cell_type": "code",
   "execution_count": 12,
   "metadata": {},
   "outputs": [
    {
     "data": {
      "text/plain": [
       "Reagent1 (ul)    324\n",
       "Reagent2 (ul)     30\n",
       "Reagent3 (ul)     66\n",
       "Reagent4 (ul)      0\n",
       "Reagent5 (ul)      0\n",
       "Reagent6 (ul)      0\n",
       "Reagent7 (ul)     80\n",
       "Reagent8 (ul)      0\n",
       "Reagent9 (ul)      0\n",
       "Name: 11441, dtype: int64"
      ]
     },
     "execution_count": 12,
     "metadata": {},
     "output_type": "execute_result"
    }
   ],
   "source": [
    "rvol_raw_set0 = pd.read_csv('./extra_data/Me2NH2I_10uL_stateset.link.csv')\n",
    "ss_reagent_vols_set0 = rvol_raw_set0[[col for col in rvol_raw_set0.columns if 'Reagent' in col]]\n",
    "ss_reagent_vols_set0.iloc[11441]"
   ]
  },
  {
   "cell_type": "code",
   "execution_count": 14,
   "metadata": {},
   "outputs": [
    {
     "data": {
      "text/plain": [
       "Reagent1 (ul)    122\n",
       "Reagent2 (ul)     40\n",
       "Reagent3 (ul)    238\n",
       "Reagent4 (ul)      0\n",
       "Reagent5 (ul)      0\n",
       "Reagent6 (ul)      0\n",
       "Reagent7 (ul)    100\n",
       "Reagent8 (ul)      0\n",
       "Reagent9 (ul)      0\n",
       "Name: 9275, dtype: int64"
      ]
     },
     "execution_count": 14,
     "metadata": {},
     "output_type": "execute_result"
    }
   ],
   "source": [
    "ss_reagent_vols_set0.iloc[9275]\n"
   ]
  },
  {
   "cell_type": "code",
   "execution_count": null,
   "metadata": {},
   "outputs": [],
   "source": []
  }
 ],
 "metadata": {
  "hide_input": false,
  "kernelspec": {
   "name": "python3",
   "display_name": "Python 3.7.0 64-bit",
   "metadata": {
    "interpreter": {
     "hash": "ba545e70e447054a3e9a015bc88e31a47bceb1607a1d25f3eb5e3a46545dd110"
    }
   }
  },
  "language_info": {
   "codemirror_mode": {
    "name": "ipython",
    "version": 3
   },
   "file_extension": ".py",
   "mimetype": "text/x-python",
   "name": "python",
   "nbconvert_exporter": "python",
   "pygments_lexer": "ipython3",
   "version": "3.7.0-final"
  }
 },
 "nbformat": 4,
 "nbformat_minor": 4
}