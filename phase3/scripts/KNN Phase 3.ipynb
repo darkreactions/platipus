{
 "cells": [
  {
   "cell_type": "code",
   "execution_count": 1,
   "metadata": {},
   "outputs": [],
   "source": [
    "from pathlib import Path\n",
    "import sys\n",
    "import pandas as pd\n",
    "import numpy as np\n",
    "#import qgrid\n",
    "import pickle\n",
    "import sklearn\n",
    "from datetime import datetime\n",
    "from sklearn.neighbors import KNeighborsClassifier\n",
    "from modAL.models import ActiveLearner\n",
    "\n",
    "package_path = Path.cwd().parent\n",
    "if package_path not in sys.path:\n",
    "    sys.path.append(str(package_path))\n",
    "\n",
    "from utils.dataset_class import Phase3DataSet, Setting\n",
    "from custom_pipeline import get_model_pkl, dump_model_pkl"
   ]
  },
  {
   "cell_type": "code",
   "execution_count": 2,
   "metadata": {},
   "outputs": [],
   "source": [
    "training_raw = pd.read_csv('../data/raw/0057.perovskitedata_DRPFeatures_2020-07-02.csv')\n",
    "phase3_training = pickle.load(open('phase3_dataset.pkl', 'rb'))"
   ]
  },
  {
   "cell_type": "markdown",
   "metadata": {},
   "source": [
    "## Set up data"
   ]
  },
  {
   "cell_type": "code",
   "execution_count": 3,
   "metadata": {},
   "outputs": [],
   "source": [
    "dataset0 = phase3_training.get_dataset('ALHk', 0, 'random')['JMXLWMIFDJCGBV-UHFFFAOYSA-N']\n",
    "dataset1 = phase3_training.get_dataset('ALHk', 1, 'random')['JMXLWMIFDJCGBV-UHFFFAOYSA-N']\n"
   ]
  },
  {
   "cell_type": "markdown",
   "metadata": {},
   "source": [
    "## Initial set up, uncomment if no model files exist"
   ]
  },
  {
   "cell_type": "code",
   "execution_count": 10,
   "metadata": {},
   "outputs": [],
   "source": [
    "\"\"\"\n",
    "knn = KNeighborsClassifier(**{'n_neighbors': 1, 'leaf_size': 1, 'p': 1})\n",
    "learner = ActiveLearner(estimator=knn, X_training=dataset0['x_t'], y_training=dataset0['y_t'])\n",
    "dump_model_pkl(learner, 'knn', 0, 0)\n",
    "\n",
    "knn = KNeighborsClassifier(**{'n_neighbors': 1, 'leaf_size': 1, 'p': 1})\n",
    "learner = ActiveLearner(estimator=knn, X_training=dataset1['x_t'], y_training=dataset1['y_t'])\n",
    "dump_model_pkl(learner, 'knn', 1, 0)\n",
    "\n",
    "\n",
    "query_indices_set0 = []\n",
    "query_indices_set1 = []\n",
    "\n",
    "query_instances_set0 = []\n",
    "query_instances_set1 = []\n",
    "\n",
    "pickle.dump(query_indices_set0, Path('./knn/q_idx_set0.pkl').open('wb'))\n",
    "pickle.dump(query_indices_set1, Path('./knn/q_idx_set1.pkl').open('wb'))\n",
    "\n",
    "pickle.dump(query_instances_set0, Path('./knn/q_inst_set0.pkl').open('wb'))\n",
    "pickle.dump(query_instances_set1, Path('./knn/q_inst_set1.pkl').open('wb'))\n",
    "\"\"\"\n",
    "\n"
   ]
  },
  {
   "cell_type": "markdown",
   "metadata": {},
   "source": [
    "## Set up model and data"
   ]
  },
  {
   "cell_type": "code",
   "execution_count": 12,
   "metadata": {},
   "outputs": [
    {
     "output_type": "stream",
     "name": "stdout",
     "text": [
      "Loading knn/knn_set0_it1_20201203-133116.pkl : Iteration 1\nLoading knn/knn_set1_it1_20201203-133117.pkl : Iteration 1\n"
     ]
    },
    {
     "output_type": "execute_result",
     "data": {
      "text/plain": [
       "'\\nfor idx in query_indices_set0:\\n    ss_reagent_vols_set0.drop(ss_reagent_vols_set0.index[idx], inplace=True)\\n    x_stateset_set0 = np.delete(x_stateset_set0, idx, 0)\\n    \\nfor idx in query_indices_set1:\\n    ss_reagent_vols_set1.drop(ss_reagent_vols_set1.index[idx], inplace=True)\\n    x_stateset_set1 = np.delete(x_stateset_set1, idx, 0)\\n'"
      ]
     },
     "metadata": {},
     "execution_count": 12
    }
   ],
   "source": [
    "knn_set0, iteration_set0 = get_model_pkl('knn', 0)\n",
    "knn_set1, iteration_set1 = get_model_pkl('knn', 1)\n",
    "\n",
    "query_indices_set0 = pickle.load(Path('./knn/q_idx_set0.pkl').open('rb'))\n",
    "query_indices_set1 = pickle.load(Path('./knn/q_idx_set1.pkl').open('rb'))\n",
    "\n",
    "query_instances_set0 = pickle.load(Path('./knn/q_inst_set0.pkl').open('rb'))\n",
    "query_instances_set1 = pickle.load(Path('./knn/q_inst_set1.pkl').open('rb'))\n",
    "\n",
    "x_stateset_set0 = np.genfromtxt(f'./statesets/scaled_stateset_{datetime.today().date()}.csv', delimiter=',')\n",
    "x_stateset_set1 = np.genfromtxt(f'./statesets/scaled_stateset_{datetime.today().date()}.csv', delimiter=',')\n",
    "\n",
    "rvol_raw_set0 = pd.read_csv('./extra_data/Me2NH2I_10uL_stateset.link.csv')\n",
    "rvol_raw_set1 = pd.read_csv('./extra_data/Me2NH2I_10uL_stateset.link.csv')\n",
    "\n",
    "ss_reagent_vols_set0 = rvol_raw_set0[[col for col in rvol_raw_set0.columns if 'Reagent' in col]]\n",
    "ss_reagent_vols_set1 = rvol_raw_set1[[col for col in rvol_raw_set1.columns if 'Reagent' in col]]\n",
    "\n",
    "#for idx in query_indices_set0:\n",
    "ss_reagent_vols_set0.drop(ss_reagent_vols_set0.index[query_indices_set0], inplace=True)\n",
    "x_stateset_set0 = np.delete(x_stateset_set0, query_indices_set0, 0)\n",
    "    \n",
    "#for idx in query_indices_set1:\n",
    "ss_reagent_vols_set1.drop(ss_reagent_vols_set1.index[query_indices_set1], inplace=True)\n",
    "x_stateset_set1 = np.delete(x_stateset_set1, query_indices_set1, 0)\n",
    "\"\"\"\n",
    "for idx in query_indices_set0:\n",
    "    ss_reagent_vols_set0.drop(ss_reagent_vols_set0.index[idx], inplace=True)\n",
    "    x_stateset_set0 = np.delete(x_stateset_set0, idx, 0)\n",
    "    \n",
    "for idx in query_indices_set1:\n",
    "    ss_reagent_vols_set1.drop(ss_reagent_vols_set1.index[idx], inplace=True)\n",
    "    x_stateset_set1 = np.delete(x_stateset_set1, idx, 0)\n",
    "\"\"\""
   ]
  },
  {
   "cell_type": "code",
   "execution_count": 9,
   "metadata": {},
   "outputs": [
    {
     "output_type": "stream",
     "name": "stdout",
     "text": [
      "[0, 1]\n[array([ 0.41898329,  0.42731908, -1.69238563, 45.4689449 ,  5.17627073,\n       -1.38138883,  0.58229367,  0.87416943, -1.09363898,  1.88302572,\n        0.27109044,  1.89542677, -0.52156015, -0.92160176, -0.73585604,\n       -0.27446385, -0.26972947,  0.16083379, -0.19574007, -2.10688602,\n       -1.90816642, -1.99757251, -1.46767537, -0.48342343, -1.63443555,\n       -1.64141015, -1.23899532, -2.20166869, -1.79895047, -0.95107561,\n       -0.22080768, -0.92436418,  0.45675948, -1.38178365, -1.42735295,\n       -0.25048972, -0.63286396, -0.86182278, -1.96785213, -0.63286396,\n       -1.98146843, -0.28077616, -0.95901859, -0.99658496,  0.        ,\n        0.        ,  1.        ,  0.        ,  1.        ,  1.        ]), array([ 4.18983288e-01,  3.58017722e-01, -1.54462570e+00,  4.54689449e+01,\n        4.89909108e+00, -1.29113477e+00,  4.40108443e-01,  8.36887414e-01,\n       -1.55892868e-01,  1.95967100e+00,  5.96724578e-01,  2.00206078e+00,\n       -5.50307246e-01, -6.31748929e-01, -6.50070877e-01, -1.36270319e-01,\n        1.94216450e-03,  1.60833790e-01, -1.95740073e-01, -2.10688602e+00,\n       -1.90816642e+00, -1.99757251e+00, -1.46767537e+00, -4.83423433e-01,\n       -1.63443555e+00, -1.64141015e+00, -1.23899532e+00, -2.20166869e+00,\n       -1.79895047e+00, -9.51075614e-01, -2.20807675e-01, -9.24364179e-01,\n        4.56759484e-01, -1.38178365e+00, -1.42735295e+00, -2.50489716e-01,\n       -6.32863963e-01, -8.61822782e-01, -1.96785213e+00, -6.32863963e-01,\n       -1.98146843e+00, -2.80776157e-01, -9.59018585e-01, -9.96584964e-01,\n        0.00000000e+00,  0.00000000e+00,  1.00000000e+00,  0.00000000e+00,\n        1.00000000e+00,  1.00000000e+00])]\n"
     ]
    }
   ],
   "source": []
  },
  {
   "cell_type": "markdown",
   "metadata": {},
   "source": [
    "## KNN Set 0 Get reagent volumes for next experiment"
   ]
  },
  {
   "cell_type": "code",
   "execution_count": 15,
   "metadata": {
    "scrolled": true
   },
   "outputs": [
    {
     "output_type": "stream",
     "name": "stdout",
     "text": [
      "[0]\nReagent1 (ul)      2\nReagent2 (ul)     40\nReagent3 (ul)    178\nReagent4 (ul)      0\nReagent5 (ul)      0\nReagent6 (ul)      0\nReagent7 (ul)    280\nReagent8 (ul)      0\nReagent9 (ul)      0\nName: 2, dtype: int64\n"
     ]
    }
   ],
   "source": [
    "query_index, query_instance = knn_set0.query(x_stateset_set0)\n",
    "print(query_index)\n",
    "print(ss_reagent_vols_set0.iloc[query_index[0]])"
   ]
  },
  {
   "cell_type": "code",
   "execution_count": null,
   "metadata": {},
   "outputs": [],
   "source": [
    "# Once experiment is confirmed\n",
    "query_indices_set0.append(query_index)\n",
    "query_instances_set0.append(query_instance)"
   ]
  },
  {
   "cell_type": "markdown",
   "metadata": {},
   "source": [
    "## KNN Set 0 Enter Crystal result\n",
    "### Note: If crystal score is 4 => result = 1\n",
    "### If crystal score is 1, 2 or 3 => result = 0"
   ]
  },
  {
   "cell_type": "code",
   "execution_count": 6,
   "metadata": {},
   "outputs": [],
   "source": [
    "result = 0\n",
    "knn_set0.teach(query_instance, [result])"
   ]
  },
  {
   "cell_type": "markdown",
   "metadata": {},
   "source": [
    "## KNN Set 1 Get reagent volumes for next experiment"
   ]
  },
  {
   "cell_type": "code",
   "execution_count": 6,
   "metadata": {},
   "outputs": [
    {
     "data": {
      "text/plain": [
       "[array([0])]"
      ]
     },
     "execution_count": 6,
     "metadata": {},
     "output_type": "execute_result"
    }
   ],
   "source": [
    "query_indices_set1"
   ]
  },
  {
   "cell_type": "code",
   "execution_count": 14,
   "metadata": {},
   "outputs": [
    {
     "output_type": "stream",
     "name": "stdout",
     "text": [
      "[0]\nReagent1 (ul)      2\nReagent2 (ul)     40\nReagent3 (ul)    178\nReagent4 (ul)      0\nReagent5 (ul)      0\nReagent6 (ul)      0\nReagent7 (ul)    280\nReagent8 (ul)      0\nReagent9 (ul)      0\nName: 2, dtype: int64\n"
     ]
    }
   ],
   "source": [
    "query_index, query_instance = knn_set1.query(x_stateset_set1)\n",
    "print(query_index)\n",
    "print(ss_reagent_vols_set1.iloc[query_index[0]])"
   ]
  },
  {
   "cell_type": "code",
   "execution_count": null,
   "metadata": {},
   "outputs": [],
   "source": [
    "query_indices_set1.append(query_index)\n",
    "query_instances_set1.append(query_instance)"
   ]
  },
  {
   "cell_type": "markdown",
   "metadata": {},
   "source": [
    "## KNN Set 1 Enter Crystal result\n",
    "### Note: If crystal score is 4 => result = 1\n",
    "### If crystal score is 1, 2 or 3 => result = 0"
   ]
  },
  {
   "cell_type": "code",
   "execution_count": 10,
   "metadata": {},
   "outputs": [],
   "source": [
    "result = 0\n",
    "knn_set1.teach(query_instance, [result])"
   ]
  },
  {
   "cell_type": "markdown",
   "metadata": {},
   "source": [
    "## Finish Iteration Set 0"
   ]
  },
  {
   "cell_type": "code",
   "execution_count": 11,
   "metadata": {},
   "outputs": [],
   "source": [
    "iteration_set0 += 1\n",
    "dump_model_pkl(knn_set0, 'knn', 0, iteration_set0)\n",
    "\n",
    "pickle.dump(query_indices_set0, Path('./knn/q_idx_set0.pkl').open('wb'))\n",
    "pickle.dump(query_instances_set0, Path('./knn/q_inst_set0.pkl').open('wb'))"
   ]
  },
  {
   "cell_type": "markdown",
   "metadata": {},
   "source": [
    "## Finish Iteration Set 1"
   ]
  },
  {
   "cell_type": "code",
   "execution_count": 12,
   "metadata": {},
   "outputs": [],
   "source": [
    "iteration_set1 += 1\n",
    "dump_model_pkl(knn_set1, 'knn', 1, iteration_set1)\n",
    "\n",
    "pickle.dump(query_indices_set1, Path('./knn/q_idx_set1.pkl').open('wb'))\n",
    "pickle.dump(query_instances_set1, Path('./knn/q_inst_set1.pkl').open('wb'))"
   ]
  },
  {
   "cell_type": "code",
   "execution_count": null,
   "metadata": {},
   "outputs": [],
   "source": []
  }
 ],
 "metadata": {
  "hide_input": false,
  "kernelspec": {
   "name": "python3",
   "display_name": "Python 3.7.0 64-bit",
   "metadata": {
    "interpreter": {
     "hash": "ba545e70e447054a3e9a015bc88e31a47bceb1607a1d25f3eb5e3a46545dd110"
    }
   }
  },
  "language_info": {
   "codemirror_mode": {
    "name": "ipython",
    "version": 3
   },
   "file_extension": ".py",
   "mimetype": "text/x-python",
   "name": "python",
   "nbconvert_exporter": "python",
   "pygments_lexer": "ipython3",
   "version": "3.7.0-final"
  }
 },
 "nbformat": 4,
 "nbformat_minor": 4
}