{
 "cells": [
  {
   "cell_type": "code",
   "execution_count": 1,
   "metadata": {},
   "outputs": [],
   "source": [
    "from pathlib import Path\n",
    "import sys\n",
    "import pandas as pd\n",
    "import numpy as np\n",
    "import pickle\n",
    "import sklearn\n",
    "from datetime import datetime\n",
    "from sklearn.tree import DecisionTreeClassifier\n",
    "from modAL.models import ActiveLearner\n",
    "import torch\n",
    "\n",
    "package_path = Path.cwd().parent\n",
    "if package_path not in sys.path:\n",
    "    sys.path.append(str(package_path))\n",
    "\n",
    "from utils.dataset_class import Phase3DataSet, Setting\n",
    "from custom_pipeline import get_model_pkl, dump_model_pkl\n",
    "from models.meta.platipus_class import Platipus\n",
    "from hpc_scripts.param_generator import get_all_params\n",
    "from models.meta.init_params import init_params"
   ]
  },
  {
   "cell_type": "code",
   "execution_count": 2,
   "metadata": {},
   "outputs": [],
   "source": [
    "x_stateset_set0 = np.genfromtxt(f'./statesets/scaled_stateset_{datetime.today().date()}.csv', delimiter=',')\n",
    "x_stateset_set1 = np.genfromtxt(f'./statesets/scaled_stateset_{datetime.today().date()}.csv', delimiter=',')\n",
    "\n",
    "rvol_raw_set0 = pd.read_csv('./extra_data/Me2NH2I_10uL_stateset.link.csv')\n",
    "rvol_raw_set1 = pd.read_csv('./extra_data/Me2NH2I_10uL_stateset.link.csv')\n",
    "\n",
    "ss_reagent_vols_set0 = rvol_raw_set0[[col for col in rvol_raw_set0.columns if 'Reagent' in col]]\n",
    "ss_reagent_vols_set1 = rvol_raw_set1[[col for col in rvol_raw_set1.columns if 'Reagent' in col]]"
   ]
  },
  {
   "cell_type": "code",
   "execution_count": 6,
   "metadata": {},
   "outputs": [],
   "source": [
    "\"\"\"\n",
    "query_indices_set0 = [10022, 1441]\n",
    "query_indices_set1 = [17833, 9275]\n",
    "query_instances_set0 = []\n",
    "query_instances_set1 = []\n",
    "for idx in query_indices_set0:\n",
    "    query_instances_set0.append(x_stateset_set0[idx])\n",
    "for idx in query_indices_set1:\n",
    "    query_instances_set1.append(x_stateset_set0[idx])\n",
    "\"\"\""
   ]
  },
  {
   "cell_type": "code",
   "execution_count": 3,
   "metadata": {},
   "outputs": [
    {
     "name": "stdout",
     "output_type": "stream",
     "text": [
      "Meta learning rate = 0.001\n",
      "Getting FULL dataset\n",
      "Holding out ['CALQKRVFTWDYDG-UHFFFAOYSA-N', 'KOAGKPNEVYEZDU-UHFFFAOYSA-N', 'FCTHQYIDLRRROX-UHFFFAOYSA-N', 'JMXLWMIFDJCGBV-UHFFFAOYSA-N']\n",
      "Number of reactions in training set 1477\n",
      "Number of successful reactions in the training set 215\n",
      "Generating training batches\n",
      "Generating testing batches for testing! DO NOT RUN IF YOU SEE THIS LINE!\n",
      "Meta learning rate = 0.001\n",
      "Getting FULL dataset\n",
      "Holding out ['CALQKRVFTWDYDG-UHFFFAOYSA-N', 'KOAGKPNEVYEZDU-UHFFFAOYSA-N', 'FCTHQYIDLRRROX-UHFFFAOYSA-N', 'JMXLWMIFDJCGBV-UHFFFAOYSA-N']\n",
      "Number of reactions in training set 1477\n",
      "Number of successful reactions in the training set 215\n",
      "Generating training batches\n",
      "Generating testing batches for testing! DO NOT RUN IF YOU SEE THIS LINE!\n"
     ]
    },
    {
     "data": {
      "text/plain": [
       "'\\n\\nplatipus = Platipus(train_params, amine=amine,\\n                    model_name=train_params[\\'model_name\\'],\\n                    epoch_al=True)\\nplatipus.load_model(\\'./plat_trained_model/testing/drp_chem_10shot_4000.pkl\\')\\nplatipus.current_epoch = 4000\\ndevice=torch.device(\"cuda:1\")\\n'"
      ]
     },
     "execution_count": 3,
     "metadata": {},
     "output_type": "execute_result"
    }
   ],
   "source": [
    "all_params = get_all_params(cross_validate=False)\n",
    "params = all_params[172]\n",
    "amine = ['JMXLWMIFDJCGBV-UHFFFAOYSA-N']\n",
    "train_params_set0 = init_params(params)\n",
    "train_params_set0['gpu_id'] = 0\n",
    "\n",
    "train_params_set1 = init_params(params)\n",
    "train_params_set1['gpu_id'] = 1\n",
    "\n",
    "platipus_set0 = Platipus(train_params_set0, amine=amine,\n",
    "                    model_name=train_params_set0['model_name'],\n",
    "                    epoch_al=True)\n",
    "platipus_set0.load_model('./plat_trained_model/testing/drp_chem_10shot_4000.pkl')\n",
    "platipus_set0.current_epoch = 4000\n",
    "\n",
    "platipus_set1 = Platipus(train_params_set1, amine=amine,\n",
    "                    model_name=train_params_set1['model_name'],\n",
    "                    epoch_al=True)\n",
    "platipus_set1.load_model('./plat_trained_model/testing/drp_chem_10shot_4000.pkl')\n",
    "platipus_set1.current_epoch = 4000\n",
    "\n",
    "device_set0=torch.device(\"cuda:0\")\n",
    "device_set1=torch.device(\"cuda:1\")\n",
    "\n",
    "\"\"\"\n",
    "\n",
    "platipus = Platipus(train_params, amine=amine,\n",
    "                    model_name=train_params['model_name'],\n",
    "                    epoch_al=True)\n",
    "platipus.load_model('./plat_trained_model/testing/drp_chem_10shot_4000.pkl')\n",
    "platipus.current_epoch = 4000\n",
    "device=torch.device(\"cuda:1\")\n",
    "\"\"\"\n"
   ]
  },
  {
   "cell_type": "code",
   "execution_count": 4,
   "metadata": {},
   "outputs": [],
   "source": [
    "set_id = 0 \n",
    "iters, all_data, all_labels, x_t, y_t, x_v, y_v = platipus_set0.setup_active_learning(set_id, 'JMXLWMIFDJCGBV-UHFFFAOYSA-N')"
   ]
  },
  {
   "cell_type": "code",
   "execution_count": 5,
   "metadata": {},
   "outputs": [],
   "source": [
    "xss_torch0 = torch.from_numpy(x_stateset_set0[:10000]).float().to(device_set0)\n",
    "xss_torch1 = torch.from_numpy(x_stateset_set0[10000:]).float().to(device_set0)"
   ]
  },
  {
   "cell_type": "code",
   "execution_count": 6,
   "metadata": {},
   "outputs": [],
   "source": [
    "results = {\n",
    "    10022:1,\n",
    "    1441:0,\n",
    "    6127:0,\n",
    "}\n",
    "for exp_num in results:\n",
    "    if exp_num >= 10000:\n",
    "        x_t = torch.cat((x_t, xss_torch1[exp_num-10000].view(1, 50)))\n",
    "        y_t = torch.cat((y_t, torch.from_numpy(np.array([results[exp_num]])).to(device_set0)))\n",
    "    else:\n",
    "        x_t = torch.cat((x_t, xss_torch1[exp_num].view(1, 50)))\n",
    "        y_t = torch.cat((y_t, torch.from_numpy(np.array([results[exp_num]])).to(device_set0)))"
   ]
  },
  {
   "cell_type": "code",
   "execution_count": 9,
   "metadata": {},
   "outputs": [],
   "source": [
    "#x_t = torch.cat((x_t, xss_torch0[7833].view(1, 50)))\n",
    "y_t = torch.cat((y_t, torch.from_numpy(np.array([0])).to(device_set0)))"
   ]
  },
  {
   "cell_type": "code",
   "execution_count": 7,
   "metadata": {},
   "outputs": [],
   "source": [
    "value0, index0 = platipus_set0.phase3_active_learning(x_t, y_t, xss_torch0)"
   ]
  },
  {
   "cell_type": "code",
   "execution_count": 8,
   "metadata": {},
   "outputs": [
    {
     "name": "stdout",
     "output_type": "stream",
     "text": [
      "tensor(0.5261, device='cuda:0', grad_fn=<MinBackward0>) tensor(9716, device='cuda:0')\n"
     ]
    }
   ],
   "source": [
    "print(value0, index0)"
   ]
  },
  {
   "cell_type": "code",
   "execution_count": 9,
   "metadata": {},
   "outputs": [],
   "source": [
    "del value0\n",
    "del index0\n",
    "torch.cuda.empty_cache()"
   ]
  },
  {
   "cell_type": "code",
   "execution_count": 6,
   "metadata": {},
   "outputs": [],
   "source": [
    "del xss_torch0\n",
    "torch.cuda.empty_cache()"
   ]
  },
  {
   "cell_type": "code",
   "execution_count": 10,
   "metadata": {},
   "outputs": [],
   "source": [
    "#xss_torch1 = torch.from_numpy(x_stateset_set0[10000:]).float().to(device_set0)\n",
    "value1, index1 = platipus_set0.phase3_active_learning(x_t, y_t, xss_torch1)"
   ]
  },
  {
   "cell_type": "code",
   "execution_count": 11,
   "metadata": {},
   "outputs": [
    {
     "name": "stdout",
     "output_type": "stream",
     "text": [
      "tensor(nan, device='cuda:0', grad_fn=<MinBackward0>) tensor(0, device='cuda:0')\n"
     ]
    }
   ],
   "source": [
    "print(value1, index1)\n",
    "del value1\n",
    "torch.cuda.empty_cache()"
   ]
  },
  {
   "cell_type": "code",
   "execution_count": 12,
   "metadata": {},
   "outputs": [
    {
     "data": {
      "text/plain": [
       "Reagent1 (ul)    358\n",
       "Reagent2 (ul)     10\n",
       "Reagent3 (ul)     32\n",
       "Reagent4 (ul)      0\n",
       "Reagent5 (ul)      0\n",
       "Reagent6 (ul)      0\n",
       "Reagent7 (ul)    100\n",
       "Reagent8 (ul)      0\n",
       "Reagent9 (ul)      0\n",
       "Name: 9716, dtype: int64"
      ]
     },
     "execution_count": 12,
     "metadata": {},
     "output_type": "execute_result"
    }
   ],
   "source": [
    "ss_reagent_vols_set0.iloc[9716]"
   ]
  },
  {
   "cell_type": "code",
   "execution_count": 8,
   "metadata": {},
   "outputs": [],
   "source": []
  },
  {
   "cell_type": "code",
   "execution_count": 9,
   "metadata": {},
   "outputs": [
    {
     "data": {
      "text/plain": [
       "(tensor(0.5000, device='cuda:1', grad_fn=<MinBackward0>),\n",
       " tensor(7833, device='cuda:1'))"
      ]
     },
     "execution_count": 9,
     "metadata": {},
     "output_type": "execute_result"
    }
   ],
   "source": [
    "#value, index = platipus.phase3_active_learning(x_t, y_t, xss_torch)\n",
    "value, index"
   ]
  },
  {
   "cell_type": "code",
   "execution_count": 7,
   "metadata": {},
   "outputs": [],
   "source": [
    "x_t = torch.cat((x_t, xss_torch[7833].view(1, 50)))"
   ]
  },
  {
   "cell_type": "code",
   "execution_count": 8,
   "metadata": {},
   "outputs": [],
   "source": [
    "y_t = torch.cat((y_t, torch.from_numpy(np.array([0])).to(device)))"
   ]
  },
  {
   "cell_type": "code",
   "execution_count": 9,
   "metadata": {},
   "outputs": [
    {
     "data": {
      "text/plain": [
       "torch.Size([11])"
      ]
     },
     "execution_count": 9,
     "metadata": {},
     "output_type": "execute_result"
    }
   ],
   "source": [
    "y_t.shape"
   ]
  },
  {
   "cell_type": "code",
   "execution_count": 10,
   "metadata": {},
   "outputs": [],
   "source": [
    "value, index = platipus.phase3_active_learning(x_t, y_t, xss_torch)"
   ]
  },
  {
   "cell_type": "code",
   "execution_count": 11,
   "metadata": {},
   "outputs": [
    {
     "name": "stdout",
     "output_type": "stream",
     "text": [
      "tensor(0.5556, device='cuda:1', grad_fn=<MinBackward0>) tensor(9275, device='cuda:1')\n"
     ]
    }
   ],
   "source": [
    "print(value, index)"
   ]
  },
  {
   "cell_type": "code",
   "execution_count": 16,
   "metadata": {},
   "outputs": [],
   "source": [
    "set_id = 1 \n",
    "iters, all_data, all_labels, x_t, y_t, x_v, y_v = platipus_set1.setup_active_learning(set_id, 'JMXLWMIFDJCGBV-UHFFFAOYSA-N')"
   ]
  },
  {
   "cell_type": "code",
   "execution_count": 17,
   "metadata": {},
   "outputs": [],
   "source": [
    "xss_torch0 = torch.from_numpy(x_stateset_set1[:10000]).float().to(device_set1)\n",
    "value0, index0 = platipus_set1.phase3_active_learning(x_t, y_t, xss_torch0)"
   ]
  },
  {
   "cell_type": "code",
   "execution_count": 18,
   "metadata": {},
   "outputs": [
    {
     "name": "stdout",
     "output_type": "stream",
     "text": [
      "tensor(0.5000, device='cuda:1', grad_fn=<MinBackward0>) tensor(6470, device='cuda:1')\n"
     ]
    }
   ],
   "source": [
    "print(value0, index0)\n",
    "del value0\n",
    "torch.cuda.empty_cache()"
   ]
  },
  {
   "cell_type": "code",
   "execution_count": 19,
   "metadata": {},
   "outputs": [],
   "source": [
    "xss_torch1 = torch.from_numpy(x_stateset_set1[10000:]).float().to(device_set1)\n",
    "value1, index1 = platipus_set1.phase3_active_learning(x_t, y_t, xss_torch1)"
   ]
  },
  {
   "cell_type": "code",
   "execution_count": 20,
   "metadata": {},
   "outputs": [
    {
     "name": "stdout",
     "output_type": "stream",
     "text": [
      "tensor(0.5000, device='cuda:1', grad_fn=<MinBackward0>) tensor(6125, device='cuda:1')\n"
     ]
    }
   ],
   "source": [
    "print(value1, index1)\n",
    "del value1\n",
    "torch.cuda.empty_cache()"
   ]
  },
  {
   "cell_type": "code",
   "execution_count": 21,
   "metadata": {},
   "outputs": [
    {
     "data": {
      "text/plain": [
       "Reagent1 (ul)    161\n",
       "Reagent2 (ul)    100\n",
       "Reagent3 (ul)     99\n",
       "Reagent4 (ul)      0\n",
       "Reagent5 (ul)      0\n",
       "Reagent6 (ul)      0\n",
       "Reagent7 (ul)    140\n",
       "Reagent8 (ul)      0\n",
       "Reagent9 (ul)      0\n",
       "Name: 6470, dtype: int64"
      ]
     },
     "execution_count": 21,
     "metadata": {},
     "output_type": "execute_result"
    }
   ],
   "source": [
    "ss_reagent_vols_set0.iloc[6470]"
   ]
  },
  {
   "cell_type": "markdown",
   "metadata": {},
   "source": [
    "## PLATIPUS SET 1"
   ]
  },
  {
   "cell_type": "code",
   "execution_count": 13,
   "metadata": {},
   "outputs": [],
   "source": [
    "set_id = 1\n",
    "iters, all_data, all_labels, x_t, y_t, x_v, y_v = platipus_set1.setup_active_learning(set_id, 'JMXLWMIFDJCGBV-UHFFFAOYSA-N')"
   ]
  },
  {
   "cell_type": "code",
   "execution_count": 14,
   "metadata": {},
   "outputs": [],
   "source": [
    "xss_torch0 = torch.from_numpy(x_stateset_set0[:10000]).float().to(device_set1)\n",
    "xss_torch1 = torch.from_numpy(x_stateset_set0[10000:]).float().to(device_set1)"
   ]
  },
  {
   "cell_type": "code",
   "execution_count": 15,
   "metadata": {},
   "outputs": [],
   "source": [
    "results = {\n",
    "    17833:0,\n",
    "    9275:0,\n",
    "    6470:0,\n",
    "}\n",
    "for exp_num in results:\n",
    "    if exp_num >= 10000:\n",
    "        x_t = torch.cat((x_t, xss_torch1[exp_num-10000].view(1, 50)))\n",
    "        y_t = torch.cat((y_t, torch.from_numpy(np.array([results[exp_num]])).to(device_set1)))\n",
    "    else:\n",
    "        x_t = torch.cat((x_t, xss_torch1[exp_num].view(1, 50)))\n",
    "        y_t = torch.cat((y_t, torch.from_numpy(np.array([results[exp_num]])).to(device_set1)))"
   ]
  },
  {
   "cell_type": "code",
   "execution_count": 16,
   "metadata": {},
   "outputs": [
    {
     "name": "stdout",
     "output_type": "stream",
     "text": [
      "tensor(0.5018, device='cuda:1', grad_fn=<MinBackward0>) tensor(2378, device='cuda:1')\n"
     ]
    }
   ],
   "source": [
    "value0, index0 = platipus_set1.phase3_active_learning(x_t, y_t, xss_torch0)\n",
    "print(value0, index0)\n",
    "del value0\n",
    "del index0\n",
    "torch.cuda.empty_cache()"
   ]
  },
  {
   "cell_type": "code",
   "execution_count": 17,
   "metadata": {},
   "outputs": [
    {
     "name": "stdout",
     "output_type": "stream",
     "text": [
      "tensor(0.6820, device='cuda:1', grad_fn=<MinBackward0>) tensor(589, device='cuda:1')\n"
     ]
    }
   ],
   "source": [
    "value1, index1 = platipus_set1.phase3_active_learning(x_t, y_t, xss_torch1)\n",
    "print(value1, index1)\n",
    "del value1\n",
    "torch.cuda.empty_cache()"
   ]
  },
  {
   "cell_type": "code",
   "execution_count": 18,
   "metadata": {},
   "outputs": [
    {
     "data": {
      "text/plain": [
       "Reagent1 (ul)      6\n",
       "Reagent2 (ul)    280\n",
       "Reagent3 (ul)      4\n",
       "Reagent4 (ul)      0\n",
       "Reagent5 (ul)      0\n",
       "Reagent6 (ul)      0\n",
       "Reagent7 (ul)    210\n",
       "Reagent8 (ul)      0\n",
       "Reagent9 (ul)      0\n",
       "Name: 2378, dtype: int64"
      ]
     },
     "execution_count": 18,
     "metadata": {},
     "output_type": "execute_result"
    }
   ],
   "source": [
    "ss_reagent_vols_set0.iloc[2378]"
   ]
  },
  {
   "cell_type": "code",
   "execution_count": null,
   "metadata": {},
   "outputs": [],
   "source": []
  }
 ],
 "metadata": {
  "hide_input": false,
  "kernelspec": {
   "display_name": "Python 3",
   "language": "python",
   "name": "python3"
  },
  "language_info": {
   "codemirror_mode": {
    "name": "ipython",
    "version": 3
   },
   "file_extension": ".py",
   "mimetype": "text/x-python",
   "name": "python",
   "nbconvert_exporter": "python",
   "pygments_lexer": "ipython3",
   "version": "3.7.0"
  }
 },
 "nbformat": 4,
 "nbformat_minor": 2
}
